{
 "cells": [
  {
   "cell_type": "markdown",
   "metadata": {
    "id": "zknWXgof5u-B"
   },
   "source": [
    "# 컴피티션 링크\n",
    "- https://www.kaggle.com/t/2e45abe9f1434b59a3358365432a48bb"
   ]
  },
  {
   "cell_type": "code",
   "execution_count": 77,
   "metadata": {
    "id": "N44QYORV8wFy"
   },
   "outputs": [],
   "source": [
    "# from google.colab import drive\n",
    "# drive.mount('/content/drive')"
   ]
  },
  {
   "cell_type": "markdown",
   "metadata": {
    "id": "ZhUuXRB5BCFE"
   },
   "source": [
    "- 데이터 경로 변수"
   ]
  },
  {
   "cell_type": "code",
   "execution_count": 2,
   "metadata": {
    "id": "NfX2HPof87FT"
   },
   "outputs": [
    {
     "data": {
      "text/plain": [
       "'C:/Users/user/Desktop/데이터분석/01 Practice/00_data/'"
      ]
     },
     "execution_count": 2,
     "metadata": {},
     "output_type": "execute_result"
    }
   ],
   "source": [
    "DATA_PATH = \"C:/Users/user/Desktop/데이터분석/01 Practice/00_data/\"\n",
    "DATA_PATH"
   ]
  },
  {
   "cell_type": "markdown",
   "metadata": {
    "id": "sQd7JpzNBHa1"
   },
   "source": [
    "- 데이터 불러오기"
   ]
  },
  {
   "cell_type": "code",
   "execution_count": 3,
   "metadata": {
    "id": "KFGKUIWt89fZ"
   },
   "outputs": [
    {
     "data": {
      "text/plain": [
       "((523105, 7), (14940, 2), (441196, 7), (12225, 2))"
      ]
     },
     "execution_count": 3,
     "metadata": {},
     "output_type": "execute_result"
    }
   ],
   "source": [
    "import pandas as pd\n",
    "import numpy as np\n",
    "\n",
    "train_tr = pd.read_csv(f\"{DATA_PATH}store_train_transactions.csv\") # 학습용 구매기록 데이터\n",
    "train_target = pd.read_csv(f\"{DATA_PATH}store_train.csv\") # 학습용 정답 데이터\n",
    "test_tr = pd.read_csv(f\"{DATA_PATH}store_test_transactions.csv\") # 테스트용 구매기록 데이터\n",
    "submit = pd.read_csv(f\"{DATA_PATH}store_submission.csv\") # 제출 양식 데이터\n",
    "\n",
    "train_tr.shape , train_target.shape , test_tr.shape , submit.shape"
   ]
  },
  {
   "cell_type": "markdown",
   "metadata": {
    "id": "r43SCHUujW-f"
   },
   "source": [
    "# 특성 공학(Feature Engineering)"
   ]
  },
  {
   "cell_type": "markdown",
   "metadata": {
    "id": "ONQYpWOjlbE9"
   },
   "source": [
    "## 날짜 형식으로 변환"
   ]
  },
  {
   "cell_type": "code",
   "execution_count": 4,
   "metadata": {
    "id": "SYPmQb7dlVTu"
   },
   "outputs": [],
   "source": [
    "train_tr[\"구매일시\"] = pd.to_datetime(train_tr[\"구매일시\"])\n",
    "test_tr[\"구매일시\"] = pd.to_datetime(test_tr[\"구매일시\"])"
   ]
  },
  {
   "cell_type": "markdown",
   "metadata": {
    "id": "DzdFiwxsrFa4"
   },
   "source": [
    "## 새로 만든 feature와 병합할 고객ID로만 이루어진 데이터프레임 생성"
   ]
  },
  {
   "cell_type": "code",
   "execution_count": 28,
   "metadata": {
    "id": "Is0n2MKZrMWp"
   },
   "outputs": [
    {
     "data": {
      "text/plain": [
       "((14940, 1), (12225, 1))"
      ]
     },
     "execution_count": 28,
     "metadata": {},
     "output_type": "execute_result"
    }
   ],
   "source": [
    "train_ft = train_target[[\"ID\"]]\n",
    "test_ft = submit[[\"ID\"]]\n",
    "\n",
    "train_ft.shape, test_ft.shape"
   ]
  },
  {
   "cell_type": "markdown",
   "metadata": {
    "id": "arH5g0kMmCTa"
   },
   "source": [
    "## 구매일시를 이용한 특성생성"
   ]
  },
  {
   "cell_type": "code",
   "execution_count": 82,
   "metadata": {
    "id": "OJt2fPnXmAsM"
   },
   "outputs": [
    {
     "data": {
      "text/plain": [
       "((14940, 25), (12225, 25))"
      ]
     },
     "execution_count": 82,
     "metadata": {},
     "output_type": "execute_result"
    }
   ],
   "source": [
    "agg_list = [\n",
    "        # 컬럼명, 집계 방식\n",
    "        ('내점일수', lambda x: x.dt.date.nunique()),       # 내점일수 수정 : 날짜만 선택해서 nuique\n",
    "        ('구매주기', lambda x: int( (x.max() - x.min()).days / x.dt.date.nunique()) ),\n",
    "        ('주말방문비율', lambda x: np.mean(x.dt.weekday>4)),\n",
    "        ('봄_구매비율', lambda x: np.mean(x.dt.month.isin([3,4,5]))),\n",
    "        ('여름_구매비율', lambda x: np.mean(x.dt.month.isin([6,7,8]))),\n",
    "        ('가을_구매비율', lambda x: np.mean(x.dt.month.isin([9,10,11]))),\n",
    "        ('겨울_구매비율', lambda x: np.mean(x.dt.month.isin([1,2,12]))),\n",
    "        ('주구매요일', lambda x: x.dt.weekday.mode()[0]),\n",
    "        ('일별평균구매건수', lambda x:  x.count() / x.dt.date.nunique() ),\n",
    "        ('거래개월수', lambda x: x.dt.date.astype(str).str[:-3].nunique() ),\n",
    "        \n",
    "        ('아침_구매비율', lambda x: np.mean(x.dt.hour.isin(range(6, 12)))),       # 시간대 별 구매비율 추가\n",
    "        ('점심_구매비율', lambda x: np.mean(x.dt.hour.isin(range(12, 18)))),      # 시간대 별 구매비율 추가\n",
    "        ('저녁_구매비율', lambda x:np.mean(x.dt.hour.isin(range(18, 22)))),       # 시간대 별 구매비율 추가\n",
    "        ('야간_구매비율', lambda x:np.mean(~x.dt.hour.isin(range(6, 22)))),       # 시간대 별 구매비율 추가\n",
    "\n",
    "        ('아침_구매건수', lambda x: np.sum(x.dt.hour.isin(range(6, 12)))),       # 시간대 별 구매건수 추가\n",
    "        ('점심_구매건수', lambda x: np.sum(x.dt.hour.isin(range(12, 18)))),      # 시간대 별 구매건수 추가\n",
    "        ('저녁_구매건수', lambda x:np.sum(x.dt.hour.isin(range(18, 22)))),       # 시간대 별 구매건수 추가\n",
    "        ('야간_구매건수', lambda x:np.sum(~x.dt.hour.isin(range(6, 22)))),       # 시간대 별 구매건수 추가\n",
    "\n",
    "        ('월초_구매비율', lambda x: np.mean(x.dt.day <= 10)),                     # 월초 구매비율 추가(10일 이전)\n",
    "        ('월말_구매비율', lambda x: np.mean(x.dt.day >= 20)),                     # 월말 구매비율 추가(20일 이후)\n",
    "\n",
    "        ('월초_구매건수', lambda x: np.sum(x.dt.day <= 10)),                     # 월초 구매건수 추가(10일 이전)\n",
    "        ('월말_구매건수', lambda x: np.sum(x.dt.day >= 20)),                     # 월말 구매건수 추가(20일 이후)\n",
    "\n",
    "        (\"주_구매_월\", lambda x: x.dt.month.mode()[0]),         # 주구매 월 추가\n",
    "        (\"주_구매시간대\", lambda x: x.dt.hour.mode()[0]),       # 주구매 시간대 추가\n",
    "\n",
    "        \n",
    "    ]\n",
    "\n",
    "tmp = train_tr.groupby('ID')[\"구매일시\"].agg(agg_list).reset_index()\n",
    "train_ft = train_ft.merge(tmp, how='left',on=\"ID\")\n",
    "\n",
    "tmp = test_tr.groupby('ID')[\"구매일시\"].agg(agg_list).reset_index()\n",
    "test_ft = test_ft.merge(tmp, how='left',on=\"ID\")\n",
    "\n",
    "train_ft.shape, test_ft.shape"
   ]
  },
  {
   "cell_type": "markdown",
   "metadata": {},
   "source": [
    "- 휴면회원 여부"
   ]
  },
  {
   "cell_type": "code",
   "execution_count": 83,
   "metadata": {},
   "outputs": [
    {
     "data": {
      "text/plain": [
       "((14940, 27), (12225, 27))"
      ]
     },
     "execution_count": 83,
     "metadata": {},
     "output_type": "execute_result"
    }
   ],
   "source": [
    "agg_list = [(\"최근구매일\", lambda x: int( (x.max() - x.min()).days))]\n",
    "\n",
    "sort_value = train_tr.sort_values([\"ID\", \"구매일시\"], ascending= False).drop_duplicates(subset=[\"ID\", \"구매일시\"],keep='first').groupby(\"ID\").head(2)\n",
    "tmp = sort_value.groupby('ID')[\"구매일시\"].agg(agg_list).reset_index()\n",
    "tmp[\"휴면회원\"] = (tmp[\"최근구매일\"] > 90).astype(int)\n",
    "train_ft = train_ft.merge(tmp, how= 'left', on= \"ID\")\n",
    "\n",
    "sort_value = test_tr.sort_values([\"ID\", \"구매일시\"], ascending= False).drop_duplicates(subset=[\"ID\", \"구매일시\"],keep='first').groupby(\"ID\").head(2)\n",
    "tmp = sort_value.groupby('ID')[\"구매일시\"].agg(agg_list).reset_index()\n",
    "tmp[\"휴면회원\"] = (tmp[\"최근구매일\"] > 90).astype(int)\n",
    "test_ft = test_ft.merge(tmp, how= 'left', on= \"ID\")\n",
    "\n",
    "train_ft.shape, test_ft.shape"
   ]
  },
  {
   "cell_type": "markdown",
   "metadata": {
    "id": "Oxm1aP9bstSP"
   },
   "source": [
    "## 지점을 이용한 특성생성"
   ]
  },
  {
   "cell_type": "code",
   "execution_count": 84,
   "metadata": {
    "id": "NAhiyQqgmAna"
   },
   "outputs": [
    {
     "data": {
      "text/plain": [
       "((14940, 29), (12225, 29))"
      ]
     },
     "execution_count": 84,
     "metadata": {},
     "output_type": "execute_result"
    }
   ],
   "source": [
    "agg_list = [\n",
    "          (\"방문지점수\",\"nunique\"),\n",
    "          ('주구매지점', lambda x: x.mode()[0]),\n",
    "    ]\n",
    "\n",
    "tmp = train_tr.groupby('ID')[\"지점코드\"].agg(agg_list).reset_index()\n",
    "train_ft = train_ft.merge(tmp, how='left',on=\"ID\")\n",
    "\n",
    "tmp = test_tr.groupby('ID')[\"지점코드\"].agg(agg_list).reset_index()\n",
    "test_ft = test_ft.merge(tmp, how='left',on=\"ID\")\n",
    "\n",
    "train_ft.shape, test_ft.shape"
   ]
  },
  {
   "cell_type": "markdown",
   "metadata": {
    "id": "MC7i927ntZMf"
   },
   "source": [
    "## 브랜드코드를 이용한 특성생성"
   ]
  },
  {
   "cell_type": "code",
   "execution_count": 85,
   "metadata": {
    "id": "U55_ClZktWbf"
   },
   "outputs": [
    {
     "data": {
      "text/plain": [
       "((14940, 31), (12225, 31))"
      ]
     },
     "execution_count": 85,
     "metadata": {},
     "output_type": "execute_result"
    }
   ],
   "source": [
    "agg_list = [\n",
    "             ('브랜드코드_nunique', 'nunique'),\n",
    "\n",
    "             ('브랜드다양성_비율',lambda x: x.nunique() / len(x)) # 브랜드다양성 추가\n",
    "\n",
    "             ]\n",
    "\n",
    "tmp = train_tr.groupby('ID')[\"브랜드코드\"].agg(agg_list).reset_index()\n",
    "train_ft = train_ft.merge(tmp, how='left',on=\"ID\")\n",
    "\n",
    "tmp = test_tr.groupby('ID')[\"브랜드코드\"].agg(agg_list).reset_index()\n",
    "test_ft = test_ft.merge(tmp, how='left',on=\"ID\")\n",
    "\n",
    "train_ft.shape, test_ft.shape"
   ]
  },
  {
   "cell_type": "markdown",
   "metadata": {
    "id": "S-mYObgFtrgD"
   },
   "source": [
    "## 중분류를 이용한 특성생성"
   ]
  },
  {
   "cell_type": "code",
   "execution_count": 86,
   "metadata": {
    "id": "foQqMMKatWV2"
   },
   "outputs": [
    {
     "data": {
      "text/plain": [
       "((14940, 33), (12225, 33))"
      ]
     },
     "execution_count": 86,
     "metadata": {},
     "output_type": "execute_result"
    }
   ],
   "source": [
    "agg_list = [\n",
    "            ('중분류_nunique', 'nunique'),\n",
    "            ('주구매_중분류', lambda x: x.mode()[0]),\n",
    "            ]\n",
    "tmp = train_tr.groupby('ID')[\"중분류\"].agg(agg_list).reset_index()\n",
    "train_ft = train_ft.merge(tmp, how='left')\n",
    "\n",
    "tmp = test_tr.groupby('ID')[\"중분류\"].agg(agg_list).reset_index()\n",
    "test_ft = test_ft.merge(tmp, how='left')\n",
    "\n",
    "train_ft.shape, test_ft.shape"
   ]
  },
  {
   "cell_type": "markdown",
   "metadata": {
    "id": "ZvwbAgMluAlT"
   },
   "source": [
    "## 대분류를 이용한 특성생성"
   ]
  },
  {
   "cell_type": "code",
   "execution_count": 29,
   "metadata": {},
   "outputs": [
    {
     "data": {
      "text/html": [
       "<div>\n",
       "<style scoped>\n",
       "    .dataframe tbody tr th:only-of-type {\n",
       "        vertical-align: middle;\n",
       "    }\n",
       "\n",
       "    .dataframe tbody tr th {\n",
       "        vertical-align: top;\n",
       "    }\n",
       "\n",
       "    .dataframe thead th {\n",
       "        text-align: right;\n",
       "    }\n",
       "</style>\n",
       "<table border=\"1\" class=\"dataframe\">\n",
       "  <thead>\n",
       "    <tr style=\"text-align: right;\">\n",
       "      <th></th>\n",
       "      <th>ID</th>\n",
       "      <th>구매일시</th>\n",
       "      <th>지점코드</th>\n",
       "      <th>대분류</th>\n",
       "      <th>중분류</th>\n",
       "      <th>브랜드코드</th>\n",
       "      <th>구매가격</th>\n",
       "      <th>대분류_수정</th>\n",
       "    </tr>\n",
       "  </thead>\n",
       "  <tbody>\n",
       "    <tr>\n",
       "      <th>0</th>\n",
       "      <td>train_13219</td>\n",
       "      <td>2004-05-01 09:40:00</td>\n",
       "      <td>A144000</td>\n",
       "      <td>공산품파트</td>\n",
       "      <td>차류</td>\n",
       "      <td>5100</td>\n",
       "      <td>59700</td>\n",
       "      <td>생활용품</td>\n",
       "    </tr>\n",
       "    <tr>\n",
       "      <th>1</th>\n",
       "      <td>train_5590</td>\n",
       "      <td>2004-05-01 09:40:00</td>\n",
       "      <td>A144000</td>\n",
       "      <td>잡화파트</td>\n",
       "      <td>화장잡화</td>\n",
       "      <td>5101</td>\n",
       "      <td>17000</td>\n",
       "      <td>생활용품</td>\n",
       "    </tr>\n",
       "    <tr>\n",
       "      <th>2</th>\n",
       "      <td>train_7200</td>\n",
       "      <td>2004-05-01 10:20:00</td>\n",
       "      <td>A112000</td>\n",
       "      <td>공산품</td>\n",
       "      <td>용기보증</td>\n",
       "      <td>5100</td>\n",
       "      <td>34937</td>\n",
       "      <td>생활용품</td>\n",
       "    </tr>\n",
       "    <tr>\n",
       "      <th>3</th>\n",
       "      <td>train_3010</td>\n",
       "      <td>2004-05-01 10:30:00</td>\n",
       "      <td>A373000</td>\n",
       "      <td>아동_스포츠</td>\n",
       "      <td>아동복</td>\n",
       "      <td>5105</td>\n",
       "      <td>19000</td>\n",
       "      <td>아동</td>\n",
       "    </tr>\n",
       "    <tr>\n",
       "      <th>4</th>\n",
       "      <td>train_10851</td>\n",
       "      <td>2004-05-01 10:30:00</td>\n",
       "      <td>A112000</td>\n",
       "      <td>가정용품</td>\n",
       "      <td>전화기_카세트</td>\n",
       "      <td>5110</td>\n",
       "      <td>215000</td>\n",
       "      <td>가정용품</td>\n",
       "    </tr>\n",
       "  </tbody>\n",
       "</table>\n",
       "</div>"
      ],
      "text/plain": [
       "            ID                구매일시     지점코드     대분류      중분류  브랜드코드    구매가격  \\\n",
       "0  train_13219 2004-05-01 09:40:00  A144000   공산품파트       차류   5100   59700   \n",
       "1   train_5590 2004-05-01 09:40:00  A144000    잡화파트     화장잡화   5101   17000   \n",
       "2   train_7200 2004-05-01 10:20:00  A112000     공산품     용기보증   5100   34937   \n",
       "3   train_3010 2004-05-01 10:30:00  A373000  아동_스포츠      아동복   5105   19000   \n",
       "4  train_10851 2004-05-01 10:30:00  A112000    가정용품  전화기_카세트   5110  215000   \n",
       "\n",
       "  대분류_수정  \n",
       "0   생활용품  \n",
       "1   생활용품  \n",
       "2   생활용품  \n",
       "3     아동  \n",
       "4   가정용품  "
      ]
     },
     "execution_count": 29,
     "metadata": {},
     "output_type": "execute_result"
    }
   ],
   "source": [
    "# 새로운 대분류 범주 생성\n",
    "def classification(x):\n",
    "    lst_kids = ['아동_스포츠', '아동문화', '케주얼_구두_아동', '아동']\n",
    "    lst_foods = [\"생식품파트\", \"생식품\"]\n",
    "    lst_home = [\"가정용품파트\", \"가정용품\"]\n",
    "    lst_clothes = [\"스포츠캐쥬얼\", \"패션잡화\", \"여성캐쥬얼\",\"여성캐주얼\", \"영어덜트캐쥬얼\", \"남성정장스포츠\",\n",
    "                   \"남성의류\", \"여성정장\", \"여성의류파트\", \"영캐릭터\",\"골프_유니캐쥬얼\", \"영플라자\", \"영라이브\"]\n",
    "    lst_loyal = [\"명품잡화\", \"로얄부띠끄\", \"로얄부틱\"]\n",
    "    lst_daily = [\"공산품\", \"잡화파트\", \"공산품파트\", \"잡화\"]\n",
    "\n",
    "    if x in lst_kids:\n",
    "        ans = \"아동\"\n",
    "    elif x in lst_foods:\n",
    "        ans = \"생식품\"\n",
    "    elif x in lst_home:\n",
    "        ans = \"가정용품\" \n",
    "    elif x in lst_clothes:\n",
    "        ans = \"의류\"      \n",
    "    elif x in lst_loyal:\n",
    "        ans = \"명품\" \n",
    "    elif x in lst_daily:\n",
    "        ans = \"생활용품\" \n",
    "    return ans\n",
    "\n",
    "train_tr[\"대분류_수정\"] = train_tr[\"대분류\"].apply(classification)\n",
    "test_tr[\"대분류_수정\"] = test_tr[\"대분류\"].apply(classification)\n",
    "\n",
    "train_tr.head()"
   ]
  },
  {
   "cell_type": "code",
   "execution_count": 88,
   "metadata": {
    "id": "wjpz9uY4tIzc"
   },
   "outputs": [
    {
     "data": {
      "text/plain": [
       "((14940, 35), (12225, 35))"
      ]
     },
     "execution_count": 88,
     "metadata": {},
     "output_type": "execute_result"
    }
   ],
   "source": [
    "agg_list = [\n",
    "            ('대분류_nunique', 'nunique'),\n",
    "            ('주구매_대분류', lambda x: x.mode()[0]),\n",
    "            ]\n",
    "\n",
    "tmp = train_tr.groupby('ID')[\"대분류\"].agg(agg_list).reset_index()\n",
    "train_ft = train_ft.merge(tmp, how='left')\n",
    "\n",
    "tmp = test_tr.groupby('ID')[\"대분류\"].agg(agg_list).reset_index()\n",
    "test_ft = test_ft.merge(tmp, how='left')\n",
    "\n",
    "train_ft.shape, test_ft.shape"
   ]
  },
  {
   "cell_type": "code",
   "execution_count": 89,
   "metadata": {},
   "outputs": [
    {
     "data": {
      "text/plain": [
       "((14940, 49), (12225, 49))"
      ]
     },
     "execution_count": 89,
     "metadata": {},
     "output_type": "execute_result"
    }
   ],
   "source": [
    "agg_list = [\n",
    "            ('대분류_수정_nunique', 'nunique'),                 # 대분류_수정 기준 구매횟수\n",
    "            ('주구매_대분류_수정', lambda x: x.mode()[0]),      # 대분류_수정 기준 주구매\n",
    "\n",
    "            ('대분류_수정_아동_구매여부', lambda x: int(x.str.contains(\"아동\").any())),              # 대분류_수정에서 아동 구매 여부(1/0)\n",
    "            ('대분류_수정_생식품_구매여부', lambda x: int(x.str.contains(\"생식품\").any())),          # 대분류_수정에서 생식품 구매 여부(1/0)\n",
    "            ('대분류_수정_가정용품_구매여부', lambda x: int(x.str.contains(\"가정용품\").any())),      # 대분류_수정에서 가정용품 구매 여부(1/0)\n",
    "            ('대분류_수정_의류_구매여부', lambda x: int(x.str.contains(\"의류\").any())),              # 대분류_수정에서 의류 구매 여부(1/0)\n",
    "            ('대분류_수정_명품_구매여부', lambda x: int(x.str.contains(\"명품\").any())),              # 대분류_수정에서 명품 구매 여부(1/0)\n",
    "            ('대분류_수정_생활용품_구매여부', lambda x: int(x.str.contains(\"생활용품\").any())),      # 대분류_수정에서 생활용품 구매 여부(1/0)\n",
    "\n",
    "            ('대분류_수정_아동_구매횟수', lambda x: int(x.str.contains(\"아동\").sum())),              # 대분류_수정에서 아동 구매횟수\n",
    "            ('대분류_수정_생식품_구매횟수', lambda x: int(x.str.contains(\"생식품\").sum())),          # 대분류_수정에서 생식품 구매횟수\n",
    "            ('대분류_수정_가정용품_구매횟수', lambda x: int(x.str.contains(\"가정용품\").sum())),      # 대분류_수정에서 가정용품 구매횟수\n",
    "            ('대분류_수정_의류_구매횟수', lambda x: int(x.str.contains(\"의류\").sum())),              # 대분류_수정에서 의류 구매횟수\n",
    "            ('대분류_수정_명품_구매횟수', lambda x: int(x.str.contains(\"명품\").sum())),              # 대분류_수정에서 명품 구매횟수\n",
    "            ('대분류_수정_생활용품_구매횟수', lambda x: int(x.str.contains(\"생활용품\").sum())),      # 대분류_수정에서 생활용품 구매횟수\n",
    "\n",
    "            ]\n",
    "\n",
    "tmp = train_tr.groupby('ID')[\"대분류_수정\"].agg(agg_list).reset_index()\n",
    "train_ft = train_ft.merge(tmp, how='left')\n",
    "\n",
    "tmp = test_tr.groupby('ID')[\"대분류_수정\"].agg(agg_list).reset_index()\n",
    "test_ft = test_ft.merge(tmp, how='left')\n",
    "\n",
    "train_ft.shape, test_ft.shape"
   ]
  },
  {
   "cell_type": "markdown",
   "metadata": {
    "id": "7mMqLIDKuTgB"
   },
   "source": [
    "## 구매가격을 이용한 특성생성"
   ]
  },
  {
   "cell_type": "code",
   "execution_count": 90,
   "metadata": {
    "id": "rlrGtiLZtIuI"
   },
   "outputs": [
    {
     "data": {
      "text/plain": [
       "((14940, 59), (12225, 59))"
      ]
     },
     "execution_count": 90,
     "metadata": {},
     "output_type": "execute_result"
    }
   ],
   "source": [
    "agg_list = [\n",
    "        ('총구매액',lambda x: x[x > 0].sum()),         # 0 이상에서 적용\n",
    "        ('구매건수', lambda x: x[x > 0].count()),      # 0 이상에서 적용\n",
    "        ('평균구매액', lambda x: x[x > 0].mean()),     # 0 이상에서 적용\n",
    "        ('최대구매액', 'max'),\n",
    "        ('최소구매액',lambda x: x[x > 0].min() ) ,\n",
    "        ('환불금액',lambda x: x[x < 0].sum() ) ,\n",
    "        ('환불건수', lambda x: ( x < 0 ).sum() ),\n",
    "        ('구매금액표준편차',lambda x: x[x>0].std() ),\n",
    "\n",
    "        ('평균저가구매비율', lambda x: (x <= 102479.91701049241).sum() / len(x)), # 저가 구매 비율 (구매 총평균에 비례)\n",
    "        ('평균고가구매비율', lambda x: (x > 102479.91701049241).sum() / len(x))   # 고가 구매 비율 (구매 총평균에 비례)\n",
    "\n",
    "\n",
    "    ]\n",
    "\n",
    "tmp = train_tr.groupby('ID')[\"구매가격\"].agg(agg_list).reset_index()\n",
    "train_ft = train_ft.merge(tmp, how='left')\n",
    "\n",
    "tmp = test_tr.groupby('ID')[\"구매가격\"].agg(agg_list).reset_index()\n",
    "test_ft = test_ft.merge(tmp, how='left')\n",
    "\n",
    "train_ft.shape, test_ft.shape"
   ]
  },
  {
   "cell_type": "markdown",
   "metadata": {},
   "source": [
    "- 대분류_수정 기준 금액 합계\n"
   ]
  },
  {
   "cell_type": "code",
   "execution_count": null,
   "metadata": {},
   "outputs": [
    {
     "data": {
      "text/plain": [
       "((14940, 65), (12225, 65))"
      ]
     },
     "execution_count": 91,
     "metadata": {},
     "output_type": "execute_result"
    }
   ],
   "source": [
    "for col in train_tr['대분류_수정'].unique():\n",
    "    tmp = train_tr[train_tr['대분류_수정'] == col].groupby('ID')[\"구매가격\"].sum().reset_index()\n",
    "    tmp.rename(columns={\"구매가격\" : f\"대분류_수정_{col}_구매금액\"}, inplace = True)\n",
    "    train_ft = train_ft.merge(tmp, on= \"ID\", how= \"left\")\n",
    "    train_ft[f\"대분류_수정_{col}_구매금액\"] = train_ft[f\"대분류_수정_{col}_구매금액\"].fillna(0)\n",
    "    \n",
    "\n",
    "for col in train_tr['대분류_수정'].unique():\n",
    "    tmp = test_tr[test_tr['대분류_수정'] == col].groupby('ID')[\"구매가격\"].sum().reset_index()\n",
    "    tmp.rename(columns={\"구매가격\" : f\"대분류_수정_{col}_구매금액\"}, inplace = True)\n",
    "    test_ft = test_ft.merge(tmp, on= \"ID\", how= \"left\")\n",
    "    test_ft[f\"대분류_수정_{col}_구매금액\"] = test_ft[f\"대분류_수정_{col}_구매금액\"].fillna(0)\n",
    "\n",
    "train_ft.shape, test_ft.shape"
   ]
  },
  {
   "cell_type": "markdown",
   "metadata": {},
   "source": [
    "- 대분류_수정 기준 구입비중\n"
   ]
  },
  {
   "cell_type": "code",
   "execution_count": 92,
   "metadata": {},
   "outputs": [
    {
     "data": {
      "text/plain": [
       "((14940, 71), (12225, 71))"
      ]
     },
     "execution_count": 92,
     "metadata": {},
     "output_type": "execute_result"
    }
   ],
   "source": [
    "train_ft[\"대분류_수정_생활용품_구입비중\"] = train_ft[\"대분류_수정_생활용품_구매금액\"] / train_ft[\"총구매액\"]\n",
    "train_ft[\"대분류_수정_아동_구입비중\"] = train_ft[\"대분류_수정_아동_구매금액\"] / train_ft[\"총구매액\"]\n",
    "train_ft[\"대분류_수정_가정용품_구입비중\"] = train_ft[\"대분류_수정_가정용품_구매금액\"] / train_ft[\"총구매액\"]\n",
    "train_ft[\"대분류_수정_의류_구입비중\"] = train_ft[\"대분류_수정_의류_구매금액\"] / train_ft[\"총구매액\"]\n",
    "train_ft[\"대분류_수정_생식품_구입비중\"] = train_ft[\"대분류_수정_생식품_구매금액\"] / train_ft[\"총구매액\"]\n",
    "train_ft[\"대분류_수정_명품_구입비중\"] = train_ft[\"대분류_수정_명품_구매금액\"] / train_ft[\"총구매액\"]\n",
    "\n",
    "test_ft[\"대분류_수정_생활용품_구입비중\"] = test_ft[\"대분류_수정_생활용품_구매금액\"] / test_ft[\"총구매액\"]\n",
    "test_ft[\"대분류_수정_아동_구입비중\"] = test_ft[\"대분류_수정_아동_구매금액\"] / test_ft[\"총구매액\"]\n",
    "test_ft[\"대분류_수정_가정용품_구입비중\"] = test_ft[\"대분류_수정_가정용품_구매금액\"] / test_ft[\"총구매액\"]\n",
    "test_ft[\"대분류_수정_의류_구입비중\"] = test_ft[\"대분류_수정_의류_구매금액\"] / test_ft[\"총구매액\"]\n",
    "test_ft[\"대분류_수정_생식품_구입비중\"] = test_ft[\"대분류_수정_생식품_구매금액\"] / test_ft[\"총구매액\"]\n",
    "test_ft[\"대분류_수정_명품_구입비중\"] = test_ft[\"대분류_수정_명품_구매금액\"] / test_ft[\"총구매액\"]\n",
    "\n",
    "train_ft.shape, test_ft.shape"
   ]
  },
  {
   "cell_type": "markdown",
   "metadata": {},
   "source": [
    "- 등급 범주 생성"
   ]
  },
  {
   "cell_type": "code",
   "execution_count": 93,
   "metadata": {},
   "outputs": [
    {
     "data": {
      "text/plain": [
       "((14940, 72), (12225, 72))"
      ]
     },
     "execution_count": 93,
     "metadata": {},
     "output_type": "execute_result"
    }
   ],
   "source": [
    "def grade(x):\n",
    "    if x >= 10000000:\n",
    "        ans = 1\n",
    "    elif 5000000 <= x & x < 10000000:\n",
    "        ans = 2\n",
    "    elif 1000000 <= x & x < 5000000:\n",
    "        ans = 3\n",
    "    elif 0 <= x & x < 1000000:\n",
    "        ans = 4\n",
    "    return ans\n",
    "\n",
    "train_ft[\"등급\"] = train_ft[\"총구매액\"].apply(grade)\n",
    "test_ft[\"등급\"] = test_ft[\"총구매액\"].apply(grade)\n",
    "\n",
    "train_ft.shape, test_ft.shape"
   ]
  },
  {
   "cell_type": "markdown",
   "metadata": {
    "id": "6WqRm9TPN-Iw"
   },
   "source": [
    "## pivot_table을 이용한 특성 생성"
   ]
  },
  {
   "cell_type": "code",
   "execution_count": null,
   "metadata": {},
   "outputs": [
    {
     "data": {
      "text/html": [
       "<div>\n",
       "<style scoped>\n",
       "    .dataframe tbody tr th:only-of-type {\n",
       "        vertical-align: middle;\n",
       "    }\n",
       "\n",
       "    .dataframe tbody tr th {\n",
       "        vertical-align: top;\n",
       "    }\n",
       "\n",
       "    .dataframe thead th {\n",
       "        text-align: right;\n",
       "    }\n",
       "</style>\n",
       "<table border=\"1\" class=\"dataframe\">\n",
       "  <thead>\n",
       "    <tr style=\"text-align: right;\">\n",
       "      <th>중분류</th>\n",
       "      <th>ID</th>\n",
       "      <th>pivot_cnt_DC캐주얼</th>\n",
       "      <th>pivot_cnt_GBR  지원</th>\n",
       "      <th>pivot_cnt_L_B침구</th>\n",
       "      <th>pivot_cnt_NB제화</th>\n",
       "      <th>pivot_cnt_NB핸드백</th>\n",
       "      <th>pivot_cnt_N_B침구</th>\n",
       "      <th>pivot_cnt_TOP디자이너</th>\n",
       "      <th>pivot_cnt_TV.VTR</th>\n",
       "      <th>pivot_cnt_TV_VCR</th>\n",
       "      <th>...</th>\n",
       "      <th>pivot_cnt_행사슈즈</th>\n",
       "      <th>pivot_cnt_행사핸드백</th>\n",
       "      <th>pivot_cnt_향수</th>\n",
       "      <th>pivot_cnt_헤어ACC</th>\n",
       "      <th>pivot_cnt_헤어악세사리</th>\n",
       "      <th>pivot_cnt_헤어액세사리</th>\n",
       "      <th>pivot_cnt_홈데코</th>\n",
       "      <th>pivot_cnt_화장잡화</th>\n",
       "      <th>pivot_cnt_화장품</th>\n",
       "      <th>pivot_cnt_훼미닌부틱</th>\n",
       "    </tr>\n",
       "  </thead>\n",
       "  <tbody>\n",
       "    <tr>\n",
       "      <th>0</th>\n",
       "      <td>test_0</td>\n",
       "      <td>0</td>\n",
       "      <td>0</td>\n",
       "      <td>0</td>\n",
       "      <td>0</td>\n",
       "      <td>0</td>\n",
       "      <td>0</td>\n",
       "      <td>0</td>\n",
       "      <td>0</td>\n",
       "      <td>0</td>\n",
       "      <td>...</td>\n",
       "      <td>0</td>\n",
       "      <td>0</td>\n",
       "      <td>0</td>\n",
       "      <td>0</td>\n",
       "      <td>0</td>\n",
       "      <td>0</td>\n",
       "      <td>0</td>\n",
       "      <td>0</td>\n",
       "      <td>0</td>\n",
       "      <td>0</td>\n",
       "    </tr>\n",
       "    <tr>\n",
       "      <th>1</th>\n",
       "      <td>test_1</td>\n",
       "      <td>0</td>\n",
       "      <td>0</td>\n",
       "      <td>0</td>\n",
       "      <td>0</td>\n",
       "      <td>0</td>\n",
       "      <td>0</td>\n",
       "      <td>0</td>\n",
       "      <td>0</td>\n",
       "      <td>0</td>\n",
       "      <td>...</td>\n",
       "      <td>0</td>\n",
       "      <td>0</td>\n",
       "      <td>0</td>\n",
       "      <td>0</td>\n",
       "      <td>0</td>\n",
       "      <td>0</td>\n",
       "      <td>0</td>\n",
       "      <td>0</td>\n",
       "      <td>0</td>\n",
       "      <td>0</td>\n",
       "    </tr>\n",
       "    <tr>\n",
       "      <th>2</th>\n",
       "      <td>test_10</td>\n",
       "      <td>0</td>\n",
       "      <td>0</td>\n",
       "      <td>0</td>\n",
       "      <td>0</td>\n",
       "      <td>2</td>\n",
       "      <td>0</td>\n",
       "      <td>0</td>\n",
       "      <td>0</td>\n",
       "      <td>0</td>\n",
       "      <td>...</td>\n",
       "      <td>0</td>\n",
       "      <td>0</td>\n",
       "      <td>0</td>\n",
       "      <td>0</td>\n",
       "      <td>0</td>\n",
       "      <td>0</td>\n",
       "      <td>0</td>\n",
       "      <td>0</td>\n",
       "      <td>0</td>\n",
       "      <td>0</td>\n",
       "    </tr>\n",
       "    <tr>\n",
       "      <th>3</th>\n",
       "      <td>test_100</td>\n",
       "      <td>0</td>\n",
       "      <td>0</td>\n",
       "      <td>0</td>\n",
       "      <td>0</td>\n",
       "      <td>1</td>\n",
       "      <td>0</td>\n",
       "      <td>0</td>\n",
       "      <td>0</td>\n",
       "      <td>0</td>\n",
       "      <td>...</td>\n",
       "      <td>0</td>\n",
       "      <td>0</td>\n",
       "      <td>1</td>\n",
       "      <td>0</td>\n",
       "      <td>0</td>\n",
       "      <td>0</td>\n",
       "      <td>0</td>\n",
       "      <td>0</td>\n",
       "      <td>0</td>\n",
       "      <td>0</td>\n",
       "    </tr>\n",
       "    <tr>\n",
       "      <th>4</th>\n",
       "      <td>test_1000</td>\n",
       "      <td>0</td>\n",
       "      <td>0</td>\n",
       "      <td>0</td>\n",
       "      <td>0</td>\n",
       "      <td>0</td>\n",
       "      <td>0</td>\n",
       "      <td>0</td>\n",
       "      <td>0</td>\n",
       "      <td>0</td>\n",
       "      <td>...</td>\n",
       "      <td>0</td>\n",
       "      <td>0</td>\n",
       "      <td>0</td>\n",
       "      <td>0</td>\n",
       "      <td>0</td>\n",
       "      <td>0</td>\n",
       "      <td>0</td>\n",
       "      <td>0</td>\n",
       "      <td>0</td>\n",
       "      <td>0</td>\n",
       "    </tr>\n",
       "  </tbody>\n",
       "</table>\n",
       "<p>5 rows × 303 columns</p>\n",
       "</div>"
      ],
      "text/plain": [
       "중분류         ID  pivot_cnt_DC캐주얼  pivot_cnt_GBR  지원  pivot_cnt_L_B침구  \\\n",
       "0       test_0                0                  0                0   \n",
       "1       test_1                0                  0                0   \n",
       "2      test_10                0                  0                0   \n",
       "3     test_100                0                  0                0   \n",
       "4    test_1000                0                  0                0   \n",
       "\n",
       "중분류  pivot_cnt_NB제화  pivot_cnt_NB핸드백  pivot_cnt_N_B침구  pivot_cnt_TOP디자이너  \\\n",
       "0                 0                0                0                  0   \n",
       "1                 0                0                0                  0   \n",
       "2                 0                2                0                  0   \n",
       "3                 0                1                0                  0   \n",
       "4                 0                0                0                  0   \n",
       "\n",
       "중분류  pivot_cnt_TV.VTR  pivot_cnt_TV_VCR  ...  pivot_cnt_행사슈즈  pivot_cnt_행사핸드백  \\\n",
       "0                   0                 0  ...               0                0   \n",
       "1                   0                 0  ...               0                0   \n",
       "2                   0                 0  ...               0                0   \n",
       "3                   0                 0  ...               0                0   \n",
       "4                   0                 0  ...               0                0   \n",
       "\n",
       "중분류  pivot_cnt_향수  pivot_cnt_헤어ACC  pivot_cnt_헤어악세사리  pivot_cnt_헤어액세사리  \\\n",
       "0               0                0                 0                 0   \n",
       "1               0                0                 0                 0   \n",
       "2               0                0                 0                 0   \n",
       "3               1                0                 0                 0   \n",
       "4               0                0                 0                 0   \n",
       "\n",
       "중분류  pivot_cnt_홈데코  pivot_cnt_화장잡화  pivot_cnt_화장품  pivot_cnt_훼미닌부틱  \n",
       "0                0               0              0                0  \n",
       "1                0               0              0                0  \n",
       "2                0               0              0                0  \n",
       "3                0               0              0                0  \n",
       "4                0               0              0                0  \n",
       "\n",
       "[5 rows x 303 columns]"
      ]
     },
     "execution_count": 9,
     "metadata": {},
     "output_type": "execute_result"
    }
   ],
   "source": [
    "# 강사님 버전 \n",
    "train_tmp = pd.pivot_table(train_tr,index=\"ID\",columns=\"중분류\",values=\"구매가격\",aggfunc=\"count\",fill_value=0).add_prefix(\"pivot_cnt_\").reset_index()\n",
    "train_ft = train_ft.merge(train_tmp,how=\"left\",on=\"ID\")\n",
    "\n",
    "test_tmp = pd.pivot_table(test_tr,index=\"ID\",columns=\"중분류\",values=\"구매가격\",aggfunc=\"count\",fill_value=0).add_prefix(\"pivot_cnt_\").reset_index()\n",
    "\n",
    "for col in train_tmp.columns:\n",
    "    if col not in test_tmp.columns:\n",
    "        test_tmp[col] = 0\n",
    "test_tmp = test_tmp[train_tmp.columns]\n",
    "test_ft = test_ft.merge(test_tmp,how=\"left\",on=\"ID\")\n",
    "\n",
    "train_ft.shape, test_ft.shape"
   ]
  },
  {
   "cell_type": "markdown",
   "metadata": {},
   "source": [
    "- 대분류별 최대평균금액  "
   ]
  },
  {
   "cell_type": "code",
   "execution_count": 30,
   "metadata": {},
   "outputs": [
    {
     "data": {
      "text/plain": [
       "((14940, 2), (12225, 2))"
      ]
     },
     "execution_count": 30,
     "metadata": {},
     "output_type": "execute_result"
    }
   ],
   "source": [
    "train_tmp = train_tr.pivot_table(index= [\"ID\", \"대분류_수정\"], values= \"구매가격\", aggfunc= \"mean\")\\\n",
    "      .sort_values(by=['ID', \"구매가격\"], ascending=False).groupby('ID').head(1).reset_index()\n",
    "train_tmp = train_tmp.rename(columns= {\"대분류_수정\": \"대분류수정_평균금액최대\"}).drop(columns = \"구매가격\")\n",
    "train_ft = train_ft.merge(train_tmp, on= \"ID\", how= \"left\")\n",
    "\n",
    "test_tmp = test_tr.pivot_table(index= [\"ID\", \"대분류_수정\"], values= \"구매가격\", aggfunc= \"mean\")\\\n",
    "      .sort_values(by=['ID', \"구매가격\"], ascending=False).groupby('ID').head(1).reset_index()\n",
    "test_tmp = test_tmp.rename(columns= {\"대분류_수정\": \"대분류수정_평균금액최대\"}).drop(columns = \"구매가격\")\n",
    "test_ft = test_ft.merge(test_tmp, on= \"ID\", how= \"left\")\n",
    "\n",
    "\n",
    "train_ft.shape, test_ft.shape"
   ]
  },
  {
   "cell_type": "markdown",
   "metadata": {},
   "source": [
    "- 지점별 대분류_수정 구매 횟수"
   ]
  },
  {
   "cell_type": "code",
   "execution_count": 31,
   "metadata": {},
   "outputs": [
    {
     "data": {
      "text/plain": [
       "((14940, 25), (12225, 25))"
      ]
     },
     "execution_count": 31,
     "metadata": {},
     "output_type": "execute_result"
    }
   ],
   "source": [
    "train_tmp = train_tr.pivot_table(index= [\"ID\"], columns= [\"지점코드\",\"대분류_수정\"], values= \"구매가격\", aggfunc= \"count\", fill_value=0 ).reset_index()\n",
    "train_tmp.columns = ['_'.join([col for col in multi_col if len(col)>0]) for multi_col in train_tmp.columns]\n",
    "\n",
    "train_ft = train_ft.merge(train_tmp, on= \"ID\", how= \"left\")\n",
    "\n",
    "\n",
    "test_tmp = train_tr.pivot_table(index= [\"ID\"], columns= [\"지점코드\",\"대분류_수정\"], values= \"구매가격\", aggfunc= \"count\", fill_value=0 ).reset_index()\n",
    "test_tmp.columns = ['_'.join([col for col in multi_col if len(col)>0]) for multi_col in test_tmp.columns]\n",
    "\n",
    "for col in train_tmp.columns:\n",
    "    if col not in test_tmp.columns:\n",
    "        test_tmp[col] = 0\n",
    "test_tmp = test_tmp[train_tmp.columns]\n",
    "\n",
    "test_ft = test_ft.merge(test_tmp,how=\"left\",on=\"ID\")\n",
    "\n",
    "train_ft.shape, test_ft.shape"
   ]
  },
  {
   "cell_type": "markdown",
   "metadata": {
    "id": "LopLwsb3NaE0"
   },
   "source": [
    "# 항상 확인하기\n",
    "- 학습데이터와 테스트 데이터의 피처개수는 동일해야 함"
   ]
  },
  {
   "cell_type": "code",
   "execution_count": null,
   "metadata": {
    "id": "At-Xx2XoNXDo"
   },
   "outputs": [],
   "source": [
    "train_ft.shape, test_ft.shape"
   ]
  },
  {
   "cell_type": "markdown",
   "metadata": {
    "id": "uxEi3_gLM8rh"
   },
   "source": [
    "# 추출한 피처 저장하기"
   ]
  },
  {
   "cell_type": "code",
   "execution_count": null,
   "metadata": {
    "id": "am-hCMk3M3x-"
   },
   "outputs": [],
   "source": [
    "train_ft.to_csv(f\"{DATA_PATH}train_common.csv\",index=False)\n",
    "test_ft.to_csv(f\"{DATA_PATH}test_common.csv\",index=False)"
   ]
  },
  {
   "cell_type": "code",
   "execution_count": null,
   "metadata": {
    "id": "AxJ1YO5gM38Y"
   },
   "outputs": [],
   "source": []
  }
 ],
 "metadata": {
  "colab": {
   "provenance": [],
   "toc_visible": true
  },
  "kernelspec": {
   "display_name": "Python 3",
   "name": "python3"
  },
  "language_info": {
   "codemirror_mode": {
    "name": "ipython",
    "version": 3
   },
   "file_extension": ".py",
   "mimetype": "text/x-python",
   "name": "python",
   "nbconvert_exporter": "python",
   "pygments_lexer": "ipython3",
   "version": "3.10.11"
  }
 },
 "nbformat": 4,
 "nbformat_minor": 0
}
