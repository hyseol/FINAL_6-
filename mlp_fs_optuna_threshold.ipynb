{
 "cells": [
  {
   "cell_type": "markdown",
   "metadata": {},
   "source": [
    "MLP modeling\n",
    "Logistic feature selection\n",
    "Optuna\n",
    "Threshold"
   ]
  },
  {
   "cell_type": "code",
   "execution_count": 1,
   "metadata": {},
   "outputs": [],
   "source": [
    "import pandas as pd\n",
    "import numpy as np"
   ]
  },
  {
   "cell_type": "code",
   "execution_count": 2,
   "metadata": {},
   "outputs": [],
   "source": [
    "train = pd.read_csv(r'C:\\Users\\leeya\\OneDrive\\Desktop\\부캠 수업자료\\Final\\train_common_v3.3_피처삭제X_군집_1111.csv')\n",
    "test = pd.read_csv(r'C:\\Users\\leeya\\OneDrive\\Desktop\\부캠 수업자료\\Final\\test_common_v3.3_피처삭제X_군집_1111.csv')\n",
    "target =  pd.read_csv(r'C:\\Users\\leeya\\OneDrive\\Desktop\\부캠 수업자료\\Final\\store_train.csv')\n",
    "submit = pd.read_csv(r'C:\\Users\\leeya\\OneDrive\\Desktop\\부캠 수업자료\\Final\\store_submission (2).csv')"
   ]
  },
  {
   "cell_type": "code",
   "execution_count": 3,
   "metadata": {},
   "outputs": [
    {
     "data": {
      "text/plain": [
       "((14940, 1471), (14940, 2), (12225, 1471), (12225, 2))"
      ]
     },
     "execution_count": 3,
     "metadata": {},
     "output_type": "execute_result"
    }
   ],
   "source": [
    "train.shape , target.shape , test.shape , submit.shape"
   ]
  },
  {
   "cell_type": "code",
   "execution_count": 4,
   "metadata": {},
   "outputs": [
    {
     "data": {
      "text/plain": [
       "(np.int64(0), np.int64(0))"
      ]
     },
     "execution_count": 4,
     "metadata": {},
     "output_type": "execute_result"
    }
   ],
   "source": [
    "train.isnull().sum().sum(), test.isnull().sum().sum()"
   ]
  },
  {
   "cell_type": "code",
   "execution_count": 5,
   "metadata": {},
   "outputs": [
    {
     "data": {
      "text/plain": [
       "((14940, 1470), (12225, 1470))"
      ]
     },
     "execution_count": 5,
     "metadata": {},
     "output_type": "execute_result"
    }
   ],
   "source": [
    "train_ft = train.iloc[:,1:]\n",
    "test_ft = test.iloc[:,1:]\n",
    "train_ft.shape, test_ft.shape"
   ]
  },
  {
   "cell_type": "code",
   "execution_count": 6,
   "metadata": {},
   "outputs": [
    {
     "data": {
      "text/plain": [
       "주구매지점        4\n",
       "주구매_대분류     22\n",
       "주구매_중분류    238\n",
       "dtype: int64"
      ]
     },
     "execution_count": 6,
     "metadata": {},
     "output_type": "execute_result"
    }
   ],
   "source": [
    "cols = train_ft.select_dtypes(\"object\").columns.tolist()\n",
    "train_ft[cols].nunique()"
   ]
  },
  {
   "cell_type": "code",
   "execution_count": 7,
   "metadata": {},
   "outputs": [],
   "source": [
    "from sklearn.preprocessing import OneHotEncoder\n",
    "\n",
    "cols = train_ft.select_dtypes(include=['object']).columns\n",
    "enc = OneHotEncoder(handle_unknown=\"ignore\")\n",
    "enc.fit(train_ft[cols])\n",
    "\n",
    "tmp = pd.DataFrame(\n",
    "    enc.transform(train_ft[cols]).toarray(),\n",
    "    columns = enc.get_feature_names_out()\n",
    ")\n",
    "train_ft = pd.concat([train_ft, tmp], axis=1).drop(columns=cols)\n",
    "\n",
    "tmp = pd.DataFrame(\n",
    "    enc.transform(test_ft[cols]).toarray(),\n",
    "    columns = enc.get_feature_names_out()\n",
    ")\n",
    "test_ft = pd.concat([test_ft, tmp], axis=1).drop(columns=cols)"
   ]
  },
  {
   "cell_type": "code",
   "execution_count": 8,
   "metadata": {},
   "outputs": [
    {
     "data": {
      "text/plain": [
       "(Index([], dtype='object'), Index([], dtype='object'))"
      ]
     },
     "execution_count": 8,
     "metadata": {},
     "output_type": "execute_result"
    }
   ],
   "source": [
    "train_ft.select_dtypes(\"object\").columns , test_ft.select_dtypes(\"object\").columns"
   ]
  },
  {
   "cell_type": "code",
   "execution_count": 9,
   "metadata": {},
   "outputs": [
    {
     "data": {
      "text/html": [
       "<div>\n",
       "<style scoped>\n",
       "    .dataframe tbody tr th:only-of-type {\n",
       "        vertical-align: middle;\n",
       "    }\n",
       "\n",
       "    .dataframe tbody tr th {\n",
       "        vertical-align: top;\n",
       "    }\n",
       "\n",
       "    .dataframe thead th {\n",
       "        text-align: right;\n",
       "    }\n",
       "</style>\n",
       "<table border=\"1\" class=\"dataframe\">\n",
       "  <thead>\n",
       "    <tr style=\"text-align: right;\">\n",
       "      <th></th>\n",
       "      <th>내점일수</th>\n",
       "      <th>구매주기</th>\n",
       "      <th>주말방문비율</th>\n",
       "      <th>평일방문비율</th>\n",
       "      <th>주말방문횟수</th>\n",
       "      <th>평일방문횟수</th>\n",
       "      <th>봄_구매비율</th>\n",
       "      <th>여름_구매비율</th>\n",
       "      <th>가을_구매비율</th>\n",
       "      <th>겨울_구매비율</th>\n",
       "      <th>...</th>\n",
       "      <th>주구매_중분류_핸드백행사</th>\n",
       "      <th>주구매_중분류_행사</th>\n",
       "      <th>주구매_중분류_행사슈즈</th>\n",
       "      <th>주구매_중분류_행사핸드백</th>\n",
       "      <th>주구매_중분류_향수</th>\n",
       "      <th>주구매_중분류_헤어ACC</th>\n",
       "      <th>주구매_중분류_홈데코</th>\n",
       "      <th>주구매_중분류_화장잡화</th>\n",
       "      <th>주구매_중분류_화장품</th>\n",
       "      <th>주구매_중분류_훼미닌부틱</th>\n",
       "    </tr>\n",
       "  </thead>\n",
       "  <tbody>\n",
       "    <tr>\n",
       "      <th>0</th>\n",
       "      <td>0.041494</td>\n",
       "      <td>0.130682</td>\n",
       "      <td>0.250000</td>\n",
       "      <td>0.750000</td>\n",
       "      <td>0.032258</td>\n",
       "      <td>0.029014</td>\n",
       "      <td>0.050000</td>\n",
       "      <td>0.250000</td>\n",
       "      <td>0.400000</td>\n",
       "      <td>0.300000</td>\n",
       "      <td>...</td>\n",
       "      <td>0.0</td>\n",
       "      <td>0.0</td>\n",
       "      <td>0.0</td>\n",
       "      <td>0.0</td>\n",
       "      <td>0.0</td>\n",
       "      <td>0.0</td>\n",
       "      <td>0.0</td>\n",
       "      <td>0.0</td>\n",
       "      <td>0.0</td>\n",
       "      <td>0.0</td>\n",
       "    </tr>\n",
       "    <tr>\n",
       "      <th>1</th>\n",
       "      <td>0.082988</td>\n",
       "      <td>0.090909</td>\n",
       "      <td>0.023810</td>\n",
       "      <td>0.976190</td>\n",
       "      <td>0.006452</td>\n",
       "      <td>0.079304</td>\n",
       "      <td>0.357143</td>\n",
       "      <td>0.166667</td>\n",
       "      <td>0.357143</td>\n",
       "      <td>0.119048</td>\n",
       "      <td>...</td>\n",
       "      <td>0.0</td>\n",
       "      <td>0.0</td>\n",
       "      <td>0.0</td>\n",
       "      <td>0.0</td>\n",
       "      <td>0.0</td>\n",
       "      <td>0.0</td>\n",
       "      <td>0.0</td>\n",
       "      <td>0.0</td>\n",
       "      <td>0.0</td>\n",
       "      <td>0.0</td>\n",
       "    </tr>\n",
       "    <tr>\n",
       "      <th>2</th>\n",
       "      <td>0.228216</td>\n",
       "      <td>0.034091</td>\n",
       "      <td>0.210526</td>\n",
       "      <td>0.789474</td>\n",
       "      <td>0.154839</td>\n",
       "      <td>0.174081</td>\n",
       "      <td>0.464912</td>\n",
       "      <td>0.140351</td>\n",
       "      <td>0.175439</td>\n",
       "      <td>0.219298</td>\n",
       "      <td>...</td>\n",
       "      <td>0.0</td>\n",
       "      <td>0.0</td>\n",
       "      <td>0.0</td>\n",
       "      <td>0.0</td>\n",
       "      <td>0.0</td>\n",
       "      <td>0.0</td>\n",
       "      <td>0.0</td>\n",
       "      <td>0.0</td>\n",
       "      <td>0.0</td>\n",
       "      <td>0.0</td>\n",
       "    </tr>\n",
       "    <tr>\n",
       "      <th>3</th>\n",
       "      <td>0.377593</td>\n",
       "      <td>0.017045</td>\n",
       "      <td>0.189573</td>\n",
       "      <td>0.810427</td>\n",
       "      <td>0.258065</td>\n",
       "      <td>0.330754</td>\n",
       "      <td>0.379147</td>\n",
       "      <td>0.180095</td>\n",
       "      <td>0.236967</td>\n",
       "      <td>0.203791</td>\n",
       "      <td>...</td>\n",
       "      <td>0.0</td>\n",
       "      <td>0.0</td>\n",
       "      <td>0.0</td>\n",
       "      <td>0.0</td>\n",
       "      <td>0.0</td>\n",
       "      <td>0.0</td>\n",
       "      <td>0.0</td>\n",
       "      <td>0.0</td>\n",
       "      <td>0.0</td>\n",
       "      <td>0.0</td>\n",
       "    </tr>\n",
       "    <tr>\n",
       "      <th>4</th>\n",
       "      <td>0.107884</td>\n",
       "      <td>0.062500</td>\n",
       "      <td>0.258065</td>\n",
       "      <td>0.741935</td>\n",
       "      <td>0.103226</td>\n",
       "      <td>0.088975</td>\n",
       "      <td>0.112903</td>\n",
       "      <td>0.612903</td>\n",
       "      <td>0.209677</td>\n",
       "      <td>0.064516</td>\n",
       "      <td>...</td>\n",
       "      <td>0.0</td>\n",
       "      <td>0.0</td>\n",
       "      <td>0.0</td>\n",
       "      <td>0.0</td>\n",
       "      <td>0.0</td>\n",
       "      <td>0.0</td>\n",
       "      <td>0.0</td>\n",
       "      <td>0.0</td>\n",
       "      <td>0.0</td>\n",
       "      <td>0.0</td>\n",
       "    </tr>\n",
       "  </tbody>\n",
       "</table>\n",
       "<p>5 rows × 1731 columns</p>\n",
       "</div>"
      ],
      "text/plain": [
       "       내점일수      구매주기    주말방문비율    평일방문비율    주말방문횟수    평일방문횟수    봄_구매비율  \\\n",
       "0  0.041494  0.130682  0.250000  0.750000  0.032258  0.029014  0.050000   \n",
       "1  0.082988  0.090909  0.023810  0.976190  0.006452  0.079304  0.357143   \n",
       "2  0.228216  0.034091  0.210526  0.789474  0.154839  0.174081  0.464912   \n",
       "3  0.377593  0.017045  0.189573  0.810427  0.258065  0.330754  0.379147   \n",
       "4  0.107884  0.062500  0.258065  0.741935  0.103226  0.088975  0.112903   \n",
       "\n",
       "    여름_구매비율   가을_구매비율   겨울_구매비율  ...  주구매_중분류_핸드백행사  주구매_중분류_행사  주구매_중분류_행사슈즈  \\\n",
       "0  0.250000  0.400000  0.300000  ...            0.0         0.0           0.0   \n",
       "1  0.166667  0.357143  0.119048  ...            0.0         0.0           0.0   \n",
       "2  0.140351  0.175439  0.219298  ...            0.0         0.0           0.0   \n",
       "3  0.180095  0.236967  0.203791  ...            0.0         0.0           0.0   \n",
       "4  0.612903  0.209677  0.064516  ...            0.0         0.0           0.0   \n",
       "\n",
       "   주구매_중분류_행사핸드백  주구매_중분류_향수  주구매_중분류_헤어ACC  주구매_중분류_홈데코  주구매_중분류_화장잡화  \\\n",
       "0            0.0         0.0            0.0          0.0           0.0   \n",
       "1            0.0         0.0            0.0          0.0           0.0   \n",
       "2            0.0         0.0            0.0          0.0           0.0   \n",
       "3            0.0         0.0            0.0          0.0           0.0   \n",
       "4            0.0         0.0            0.0          0.0           0.0   \n",
       "\n",
       "   주구매_중분류_화장품  주구매_중분류_훼미닌부틱  \n",
       "0          0.0            0.0  \n",
       "1          0.0            0.0  \n",
       "2          0.0            0.0  \n",
       "3          0.0            0.0  \n",
       "4          0.0            0.0  \n",
       "\n",
       "[5 rows x 1731 columns]"
      ]
     },
     "execution_count": 9,
     "metadata": {},
     "output_type": "execute_result"
    }
   ],
   "source": [
    "from sklearn.preprocessing import MinMaxScaler\n",
    "scaler = MinMaxScaler()\n",
    "train_ft[train_ft.columns] = scaler.fit_transform(train_ft)\n",
    "test_ft[test_ft.columns] = scaler.fit_transform(test_ft)\n",
    "train_ft.head()"
   ]
  },
  {
   "cell_type": "code",
   "execution_count": 10,
   "metadata": {},
   "outputs": [
    {
     "data": {
      "text/plain": [
       "0        1.0\n",
       "1        1.0\n",
       "2        0.0\n",
       "3        0.0\n",
       "4        0.0\n",
       "        ... \n",
       "14935    0.0\n",
       "14936    0.0\n",
       "14937    0.0\n",
       "14938    1.0\n",
       "14939    1.0\n",
       "Name: target, Length: 14940, dtype: float64"
      ]
     },
     "execution_count": 10,
     "metadata": {},
     "output_type": "execute_result"
    }
   ],
   "source": [
    "target = target[\"target\"]\n",
    "target"
   ]
  },
  {
   "cell_type": "code",
   "execution_count": 11,
   "metadata": {},
   "outputs": [],
   "source": [
    "from sklearn.model_selection import train_test_split\n",
    "x_train, x_valid, y_train, y_valid = train_test_split(train_ft, target, test_size=0.2, random_state=42)"
   ]
  },
  {
   "cell_type": "code",
   "execution_count": 12,
   "metadata": {},
   "outputs": [
    {
     "name": "stdout",
     "output_type": "stream",
     "text": [
      "Requirement already satisfied: ipywidgets in c:\\users\\leeya\\appdata\\local\\programs\\python\\python312\\lib\\site-packages (8.1.5)\n",
      "Requirement already satisfied: comm>=0.1.3 in c:\\users\\leeya\\appdata\\roaming\\python\\python312\\site-packages (from ipywidgets) (0.2.2)\n",
      "Requirement already satisfied: ipython>=6.1.0 in c:\\users\\leeya\\appdata\\roaming\\python\\python312\\site-packages (from ipywidgets) (8.26.0)\n",
      "Requirement already satisfied: traitlets>=4.3.1 in c:\\users\\leeya\\appdata\\roaming\\python\\python312\\site-packages (from ipywidgets) (5.14.3)\n",
      "Requirement already satisfied: widgetsnbextension~=4.0.12 in c:\\users\\leeya\\appdata\\local\\programs\\python\\python312\\lib\\site-packages (from ipywidgets) (4.0.13)\n",
      "Requirement already satisfied: jupyterlab-widgets~=3.0.12 in c:\\users\\leeya\\appdata\\local\\programs\\python\\python312\\lib\\site-packages (from ipywidgets) (3.0.13)\n",
      "Requirement already satisfied: decorator in c:\\users\\leeya\\appdata\\roaming\\python\\python312\\site-packages (from ipython>=6.1.0->ipywidgets) (5.1.1)\n",
      "Requirement already satisfied: jedi>=0.16 in c:\\users\\leeya\\appdata\\roaming\\python\\python312\\site-packages (from ipython>=6.1.0->ipywidgets) (0.19.1)\n",
      "Requirement already satisfied: matplotlib-inline in c:\\users\\leeya\\appdata\\roaming\\python\\python312\\site-packages (from ipython>=6.1.0->ipywidgets) (0.1.7)\n",
      "Requirement already satisfied: prompt-toolkit<3.1.0,>=3.0.41 in c:\\users\\leeya\\appdata\\roaming\\python\\python312\\site-packages (from ipython>=6.1.0->ipywidgets) (3.0.47)\n",
      "Requirement already satisfied: pygments>=2.4.0 in c:\\users\\leeya\\appdata\\local\\programs\\python\\python312\\lib\\site-packages (from ipython>=6.1.0->ipywidgets) (2.18.0)\n",
      "Requirement already satisfied: stack-data in c:\\users\\leeya\\appdata\\roaming\\python\\python312\\site-packages (from ipython>=6.1.0->ipywidgets) (0.6.3)\n",
      "Requirement already satisfied: colorama in c:\\users\\leeya\\appdata\\local\\programs\\python\\python312\\lib\\site-packages (from ipython>=6.1.0->ipywidgets) (0.4.6)\n",
      "Requirement already satisfied: parso<0.9.0,>=0.8.3 in c:\\users\\leeya\\appdata\\roaming\\python\\python312\\site-packages (from jedi>=0.16->ipython>=6.1.0->ipywidgets) (0.8.4)\n",
      "Requirement already satisfied: wcwidth in c:\\users\\leeya\\appdata\\roaming\\python\\python312\\site-packages (from prompt-toolkit<3.1.0,>=3.0.41->ipython>=6.1.0->ipywidgets) (0.2.13)\n",
      "Requirement already satisfied: executing>=1.2.0 in c:\\users\\leeya\\appdata\\roaming\\python\\python312\\site-packages (from stack-data->ipython>=6.1.0->ipywidgets) (2.0.1)\n",
      "Requirement already satisfied: asttokens>=2.1.0 in c:\\users\\leeya\\appdata\\roaming\\python\\python312\\site-packages (from stack-data->ipython>=6.1.0->ipywidgets) (2.4.1)\n",
      "Requirement already satisfied: pure-eval in c:\\users\\leeya\\appdata\\roaming\\python\\python312\\site-packages (from stack-data->ipython>=6.1.0->ipywidgets) (0.2.3)\n",
      "Requirement already satisfied: six>=1.12.0 in c:\\users\\leeya\\appdata\\roaming\\python\\python312\\site-packages (from asttokens>=2.1.0->stack-data->ipython>=6.1.0->ipywidgets) (1.16.0)\n",
      "Note: you may need to restart the kernel to use updated packages.\n"
     ]
    },
    {
     "name": "stderr",
     "output_type": "stream",
     "text": [
      "\n",
      "[notice] A new release of pip is available: 24.2 -> 24.3.1\n",
      "[notice] To update, run: python.exe -m pip install --upgrade pip\n"
     ]
    }
   ],
   "source": [
    "%pip install ipywidgets"
   ]
  },
  {
   "cell_type": "code",
   "execution_count": 13,
   "metadata": {},
   "outputs": [],
   "source": [
    "import optuna\n",
    "import numpy as np\n",
    "from sklearn.neural_network import MLPClassifier\n",
    "from sklearn.linear_model import LogisticRegression\n",
    "from sklearn.feature_selection import SelectFromModel\n",
    "from sklearn.model_selection import StratifiedKFold, cross_val_score\n",
    "from sklearn.preprocessing import StandardScaler\n",
    "from sklearn.metrics import f1_score"
   ]
  },
  {
   "cell_type": "code",
   "execution_count": null,
   "metadata": {},
   "outputs": [
    {
     "name": "stdout",
     "output_type": "stream",
     "text": [
      "Selected features: 691\n"
     ]
    }
   ],
   "source": [
    "SEED = 42\n",
    "cv = StratifiedKFold(n_splits=5, shuffle=True, random_state=SEED)\n",
    "\n",
    "# Logistic 피처셀렉션\n",
    "logistic = LogisticRegression(penalty=\"l2\", C=1.0, solver=\"liblinear\", random_state=SEED)\n",
    "selector = SelectFromModel(logistic)\n",
    "selected_features = selector.fit_transform(train_ft, target)\n",
    "\n",
    "\n",
    "selected_cols = selector.get_feature_names_out()\n",
    "print(f\"Selected features: {len(selected_cols)}\")"
   ]
  },
  {
   "cell_type": "code",
   "execution_count": null,
   "metadata": {},
   "outputs": [
    {
     "name": "stderr",
     "output_type": "stream",
     "text": [
      "[I 2024-11-11 23:18:30,870] A new study created in memory with name: no-name-47cf10d0-b8d4-4460-8654-1354500b0a6b\n"
     ]
    },
    {
     "name": "stderr",
     "output_type": "stream",
     "text": [
      "[I 2024-11-11 23:19:16,797] Trial 0 finished with value: -inf and parameters: {'n_layers': 2, 'n_units_l0': 96, 'n_units_l1': 76, 'activation': 'relu', 'solver': 'sgd', 'alpha': 0.002537815508265664, 'learning_rate_init': 0.006796578090758156, 'max_iter': 100, 'validation_fraction': 0.3, 'n_iter_no_change': 14}. Best is trial 0 with value: -inf.\n",
      "[I 2024-11-11 23:19:24,645] Trial 1 finished with value: -inf and parameters: {'n_layers': 1, 'n_units_l0': 26, 'activation': 'logistic', 'solver': 'adam', 'alpha': 0.0028016351587162596, 'learning_rate_init': 3.613894271216525e-05, 'max_iter': 200, 'validation_fraction': 0.15000000000000002, 'n_iter_no_change': 10}. Best is trial 0 with value: -inf.\n",
      "[I 2024-11-11 23:19:36,677] Trial 2 finished with value: 0.7211096991797479 and parameters: {'n_layers': 3, 'n_units_l0': 28, 'n_units_l1': 56, 'n_units_l2': 63, 'activation': 'tanh', 'solver': 'sgd', 'alpha': 0.07286653737491042, 'learning_rate_init': 0.01712337597316398, 'max_iter': 200, 'validation_fraction': 0.1, 'n_iter_no_change': 12}. Best is trial 2 with value: 0.7211096991797479.\n",
      "[I 2024-11-11 23:19:45,575] Trial 3 finished with value: -inf and parameters: {'n_layers': 2, 'n_units_l0': 21, 'n_units_l1': 55, 'activation': 'tanh', 'solver': 'adam', 'alpha': 0.0012030178871154666, 'learning_rate_init': 0.0015375920235481753, 'max_iter': 150, 'validation_fraction': 0.3, 'n_iter_no_change': 13}. Best is trial 2 with value: 0.7211096991797479.\n",
      "[I 2024-11-11 23:20:10,949] Trial 4 finished with value: -inf and parameters: {'n_layers': 3, 'n_units_l0': 91, 'n_units_l1': 64, 'n_units_l2': 93, 'activation': 'tanh', 'solver': 'sgd', 'alpha': 0.00012172958098369953, 'learning_rate_init': 0.02065142557895925, 'max_iter': 250, 'validation_fraction': 0.15000000000000002, 'n_iter_no_change': 10}. Best is trial 2 with value: 0.7211096991797479.\n",
      "[I 2024-11-11 23:20:18,741] Trial 5 finished with value: 0.7219850077286358 and parameters: {'n_layers': 1, 'n_units_l0': 82, 'activation': 'tanh', 'solver': 'adam', 'alpha': 0.018274508859816022, 'learning_rate_init': 0.00672093005015611, 'max_iter': 400, 'validation_fraction': 0.25, 'n_iter_no_change': 5}. Best is trial 5 with value: 0.7219850077286358.\n",
      "[I 2024-11-11 23:20:37,894] Trial 6 finished with value: -inf and parameters: {'n_layers': 2, 'n_units_l0': 20, 'n_units_l1': 88, 'activation': 'relu', 'solver': 'sgd', 'alpha': 0.008287522363768155, 'learning_rate_init': 0.003550012525851159, 'max_iter': 450, 'validation_fraction': 0.2, 'n_iter_no_change': 6}. Best is trial 5 with value: 0.7219850077286358.\n",
      "[I 2024-11-11 23:21:23,969] Trial 7 finished with value: -inf and parameters: {'n_layers': 3, 'n_units_l0': 79, 'n_units_l1': 61, 'n_units_l2': 80, 'activation': 'tanh', 'solver': 'sgd', 'alpha': 1.3357240411974104e-05, 'learning_rate_init': 0.003512704726270845, 'max_iter': 200, 'validation_fraction': 0.2, 'n_iter_no_change': 14}. Best is trial 5 with value: 0.7219850077286358.\n",
      "[I 2024-11-11 23:21:34,605] Trial 8 finished with value: 0.7207984986234034 and parameters: {'n_layers': 1, 'n_units_l0': 47, 'activation': 'relu', 'solver': 'adam', 'alpha': 0.05233480488540085, 'learning_rate_init': 0.01707975034295823, 'max_iter': 350, 'validation_fraction': 0.3, 'n_iter_no_change': 13}. Best is trial 5 with value: 0.7219850077286358.\n",
      "[I 2024-11-11 23:21:53,157] Trial 9 finished with value: -inf and parameters: {'n_layers': 1, 'n_units_l0': 91, 'activation': 'logistic', 'solver': 'adam', 'alpha': 8.160948743089913e-05, 'learning_rate_init': 0.0005110120656497165, 'max_iter': 450, 'validation_fraction': 0.3, 'n_iter_no_change': 5}. Best is trial 5 with value: 0.7219850077286358.\n",
      "[I 2024-11-11 23:22:04,153] Trial 10 finished with value: 0.7227965523839119 and parameters: {'n_layers': 1, 'n_units_l0': 61, 'activation': 'tanh', 'solver': 'adam', 'alpha': 0.013827858725520637, 'learning_rate_init': 0.00023739423955292522, 'max_iter': 350, 'validation_fraction': 0.25, 'n_iter_no_change': 7}. Best is trial 10 with value: 0.7227965523839119.\n",
      "[I 2024-11-11 23:22:17,662] Trial 11 finished with value: 0.7244221743560797 and parameters: {'n_layers': 1, 'n_units_l0': 65, 'activation': 'tanh', 'solver': 'adam', 'alpha': 0.015061517792021575, 'learning_rate_init': 0.0002344574163871339, 'max_iter': 350, 'validation_fraction': 0.25, 'n_iter_no_change': 7}. Best is trial 11 with value: 0.7244221743560797.\n",
      "[I 2024-11-11 23:22:32,690] Trial 12 finished with value: -inf and parameters: {'n_layers': 1, 'n_units_l0': 60, 'activation': 'tanh', 'solver': 'adam', 'alpha': 0.012208338797645088, 'learning_rate_init': 0.00012529677507216433, 'max_iter': 300, 'validation_fraction': 0.25, 'n_iter_no_change': 8}. Best is trial 11 with value: 0.7244221743560797.\n",
      "[I 2024-11-11 23:22:45,803] Trial 13 finished with value: 0.7215424529441818 and parameters: {'n_layers': 1, 'n_units_l0': 60, 'activation': 'tanh', 'solver': 'adam', 'alpha': 0.0003304326138365807, 'learning_rate_init': 0.0002299293503711133, 'max_iter': 350, 'validation_fraction': 0.25, 'n_iter_no_change': 8}. Best is trial 11 with value: 0.7244221743560797.\n",
      "[I 2024-11-11 23:23:15,531] Trial 14 finished with value: -inf and parameters: {'n_layers': 2, 'n_units_l0': 47, 'n_units_l1': 14, 'activation': 'tanh', 'solver': 'adam', 'alpha': 0.023907171698172004, 'learning_rate_init': 1.9469783916597152e-05, 'max_iter': 500, 'validation_fraction': 0.25, 'n_iter_no_change': 7}. Best is trial 11 with value: 0.7244221743560797.\n",
      "[I 2024-11-11 23:23:25,513] Trial 15 finished with value: -inf and parameters: {'n_layers': 2, 'n_units_l0': 69, 'n_units_l1': 11, 'activation': 'logistic', 'solver': 'adam', 'alpha': 0.004732529071988975, 'learning_rate_init': 6.008421932984234e-05, 'max_iter': 300, 'validation_fraction': 0.2, 'n_iter_no_change': 8}. Best is trial 11 with value: 0.7244221743560797.\n",
      "[I 2024-11-11 23:23:34,129] Trial 16 finished with value: 0.7218975974919148 and parameters: {'n_layers': 1, 'n_units_l0': 40, 'activation': 'tanh', 'solver': 'adam', 'alpha': 0.09087941080689381, 'learning_rate_init': 0.00035898539424839216, 'max_iter': 350, 'validation_fraction': 0.2, 'n_iter_no_change': 9}. Best is trial 11 with value: 0.7244221743560797.\n",
      "[I 2024-11-11 23:23:39,704] Trial 17 finished with value: 0.7233031305056186 and parameters: {'n_layers': 1, 'n_units_l0': 70, 'activation': 'tanh', 'solver': 'adam', 'alpha': 0.001064400396078855, 'learning_rate_init': 0.08471938317080091, 'max_iter': 400, 'validation_fraction': 0.25, 'n_iter_no_change': 6}. Best is trial 11 with value: 0.7244221743560797.\n",
      "[I 2024-11-11 23:23:48,127] Trial 18 finished with value: -inf and parameters: {'n_layers': 1, 'n_units_l0': 70, 'activation': 'relu', 'solver': 'adam', 'alpha': 0.00044167747840701894, 'learning_rate_init': 0.001239872632957224, 'max_iter': 500, 'validation_fraction': 0.15000000000000002, 'n_iter_no_change': 6}. Best is trial 11 with value: 0.7244221743560797.\n",
      "[I 2024-11-11 23:24:02,972] Trial 19 finished with value: 0.7202602816947495 and parameters: {'n_layers': 2, 'n_units_l0': 77, 'n_units_l1': 37, 'activation': 'logistic', 'solver': 'adam', 'alpha': 0.0007364761535002323, 'learning_rate_init': 0.08523030185061099, 'max_iter': 400, 'validation_fraction': 0.25, 'n_iter_no_change': 6}. Best is trial 11 with value: 0.7244221743560797.\n",
      "[I 2024-11-11 23:24:06,049] Trial 20 finished with value: -inf and parameters: {'n_layers': 2, 'n_units_l0': 11, 'n_units_l1': 97, 'activation': 'tanh', 'solver': 'adam', 'alpha': 2.205733447885526e-05, 'learning_rate_init': 1.0060069412640536e-05, 'max_iter': 400, 'validation_fraction': 0.1, 'n_iter_no_change': 9}. Best is trial 11 with value: 0.7244221743560797.\n",
      "[I 2024-11-11 23:24:18,573] Trial 21 finished with value: -inf and parameters: {'n_layers': 1, 'n_units_l0': 66, 'activation': 'tanh', 'solver': 'adam', 'alpha': 0.032697008961494266, 'learning_rate_init': 0.000135260502195822, 'max_iter': 350, 'validation_fraction': 0.25, 'n_iter_no_change': 7}. Best is trial 11 with value: 0.7244221743560797.\n",
      "[I 2024-11-11 23:24:25,258] Trial 22 finished with value: -inf and parameters: {'n_layers': 1, 'n_units_l0': 53, 'activation': 'tanh', 'solver': 'adam', 'alpha': 0.0060627324404319925, 'learning_rate_init': 0.0005908306946286158, 'max_iter': 450, 'validation_fraction': 0.25, 'n_iter_no_change': 7}. Best is trial 11 with value: 0.7244221743560797.\n",
      "[I 2024-11-11 23:24:40,565] Trial 23 finished with value: -inf and parameters: {'n_layers': 1, 'n_units_l0': 59, 'activation': 'tanh', 'solver': 'adam', 'alpha': 0.001696559247806098, 'learning_rate_init': 7.846334530915372e-05, 'max_iter': 250, 'validation_fraction': 0.2, 'n_iter_no_change': 5}. Best is trial 11 with value: 0.7244221743560797.\n",
      "[I 2024-11-11 23:24:54,557] Trial 24 finished with value: -inf and parameters: {'n_layers': 1, 'n_units_l0': 75, 'activation': 'tanh', 'solver': 'adam', 'alpha': 0.0001810455153291184, 'learning_rate_init': 0.08255210748085182, 'max_iter': 300, 'validation_fraction': 0.3, 'n_iter_no_change': 11}. Best is trial 11 with value: 0.7244221743560797.\n",
      "[I 2024-11-11 23:25:06,042] Trial 25 finished with value: 0.7204257797658613 and parameters: {'n_layers': 1, 'n_units_l0': 39, 'activation': 'tanh', 'solver': 'adam', 'alpha': 0.004345860477071744, 'learning_rate_init': 0.0002565366996988635, 'max_iter': 400, 'validation_fraction': 0.25, 'n_iter_no_change': 9}. Best is trial 11 with value: 0.7244221743560797.\n",
      "[I 2024-11-11 23:25:34,640] Trial 26 finished with value: -inf and parameters: {'n_layers': 1, 'n_units_l0': 86, 'activation': 'tanh', 'solver': 'sgd', 'alpha': 0.012015995298414187, 'learning_rate_init': 0.0017175729935836582, 'max_iter': 300, 'validation_fraction': 0.2, 'n_iter_no_change': 6}. Best is trial 11 with value: 0.7244221743560797.\n",
      "[I 2024-11-11 23:25:41,335] Trial 27 finished with value: 0.7231480257939611 and parameters: {'n_layers': 2, 'n_units_l0': 53, 'n_units_l1': 35, 'activation': 'tanh', 'solver': 'adam', 'alpha': 0.04175366777857039, 'learning_rate_init': 0.0006523939485502501, 'max_iter': 450, 'validation_fraction': 0.25, 'n_iter_no_change': 7}. Best is trial 11 with value: 0.7244221743560797.\n",
      "[I 2024-11-11 23:25:46,486] Trial 28 finished with value: 0.7205258273124093 and parameters: {'n_layers': 2, 'n_units_l0': 50, 'n_units_l1': 35, 'activation': 'relu', 'solver': 'adam', 'alpha': 0.0395128263096427, 'learning_rate_init': 0.0008366183598125351, 'max_iter': 450, 'validation_fraction': 0.3, 'n_iter_no_change': 8}. Best is trial 11 with value: 0.7244221743560797.\n",
      "[I 2024-11-11 23:25:49,469] Trial 29 finished with value: -inf and parameters: {'n_layers': 3, 'n_units_l0': 38, 'n_units_l1': 35, 'n_units_l2': 10, 'activation': 'logistic', 'solver': 'sgd', 'alpha': 3.8681863089553526e-05, 'learning_rate_init': 0.04433718150745418, 'max_iter': 500, 'validation_fraction': 0.3, 'n_iter_no_change': 5}. Best is trial 11 with value: 0.7244221743560797.\n",
      "[I 2024-11-11 23:25:58,932] Trial 30 finished with value: 0.7235621209031939 and parameters: {'n_layers': 2, 'n_units_l0': 66, 'n_units_l1': 26, 'activation': 'relu', 'solver': 'adam', 'alpha': 0.0015630038173035058, 'learning_rate_init': 0.0024267589230290913, 'max_iter': 400, 'validation_fraction': 0.25, 'n_iter_no_change': 15}. Best is trial 11 with value: 0.7244221743560797.\n",
      "[I 2024-11-11 23:26:09,276] Trial 31 finished with value: -inf and parameters: {'n_layers': 2, 'n_units_l0': 66, 'n_units_l1': 25, 'activation': 'relu', 'solver': 'adam', 'alpha': 0.0007191704858950396, 'learning_rate_init': 0.003350378302667393, 'max_iter': 400, 'validation_fraction': 0.25, 'n_iter_no_change': 11}. Best is trial 11 with value: 0.7244221743560797.\n",
      "[I 2024-11-11 23:26:25,337] Trial 32 finished with value: 0.7217613273282425 and parameters: {'n_layers': 2, 'n_units_l0': 99, 'n_units_l1': 46, 'activation': 'relu', 'solver': 'adam', 'alpha': 0.0021770007534342565, 'learning_rate_init': 0.007772767071528432, 'max_iter': 450, 'validation_fraction': 0.25, 'n_iter_no_change': 15}. Best is trial 11 with value: 0.7244221743560797.\n",
      "[I 2024-11-11 23:26:40,986] Trial 33 finished with value: -inf and parameters: {'n_layers': 3, 'n_units_l0': 73, 'n_units_l1': 23, 'n_units_l2': 17, 'activation': 'relu', 'solver': 'adam', 'alpha': 0.0031907066425607444, 'learning_rate_init': 0.03418847449480698, 'max_iter': 100, 'validation_fraction': 0.25, 'n_iter_no_change': 15}. Best is trial 11 with value: 0.7244221743560797.\n",
      "[I 2024-11-11 23:27:16,925] Trial 34 finished with value: -inf and parameters: {'n_layers': 2, 'n_units_l0': 55, 'n_units_l1': 44, 'activation': 'relu', 'solver': 'adam', 'alpha': 0.001357927845907497, 'learning_rate_init': 4.229547679956123e-05, 'max_iter': 400, 'validation_fraction': 0.3, 'n_iter_no_change': 11}. Best is trial 11 with value: 0.7244221743560797.\n",
      "[I 2024-11-11 23:27:22,935] Trial 35 finished with value: 0.7243159437504849 and parameters: {'n_layers': 2, 'n_units_l0': 64, 'n_units_l1': 25, 'activation': 'tanh', 'solver': 'adam', 'alpha': 0.061658061359749786, 'learning_rate_init': 0.008312698468348222, 'max_iter': 450, 'validation_fraction': 0.15000000000000002, 'n_iter_no_change': 10}. Best is trial 11 with value: 0.7244221743560797.\n",
      "[I 2024-11-11 23:27:35,040] Trial 36 finished with value: 0.720582218898601 and parameters: {'n_layers': 3, 'n_units_l0': 64, 'n_units_l1': 23, 'n_units_l2': 40, 'activation': 'relu', 'solver': 'sgd', 'alpha': 0.0002974611125452554, 'learning_rate_init': 0.008108172646640844, 'max_iter': 250, 'validation_fraction': 0.15000000000000002, 'n_iter_no_change': 12}. Best is trial 11 with value: 0.7244221743560797.\n",
      "[I 2024-11-11 23:27:45,437] Trial 37 finished with value: -inf and parameters: {'n_layers': 2, 'n_units_l0': 84, 'n_units_l1': 18, 'activation': 'tanh', 'solver': 'adam', 'alpha': 0.06779232656119047, 'learning_rate_init': 0.002227029596953077, 'max_iter': 400, 'validation_fraction': 0.1, 'n_iter_no_change': 12}. Best is trial 11 with value: 0.7244221743560797.\n",
      "[I 2024-11-11 23:27:55,097] Trial 38 finished with value: -inf and parameters: {'n_layers': 3, 'n_units_l0': 71, 'n_units_l1': 28, 'n_units_l2': 45, 'activation': 'logistic', 'solver': 'sgd', 'alpha': 0.02213469962902974, 'learning_rate_init': 0.012432119599063578, 'max_iter': 500, 'validation_fraction': 0.2, 'n_iter_no_change': 10}. Best is trial 11 with value: 0.7244221743560797.\n",
      "[I 2024-11-11 23:28:11,289] Trial 39 finished with value: 0.7209445009809301 and parameters: {'n_layers': 2, 'n_units_l0': 79, 'n_units_l1': 45, 'activation': 'tanh', 'solver': 'adam', 'alpha': 0.00807378208935764, 'learning_rate_init': 0.027026391491061362, 'max_iter': 350, 'validation_fraction': 0.15000000000000002, 'n_iter_no_change': 13}. Best is trial 11 with value: 0.7244221743560797.\n",
      "[I 2024-11-11 23:28:39,590] Trial 40 finished with value: -inf and parameters: {'n_layers': 1, 'n_units_l0': 92, 'activation': 'relu', 'solver': 'adam', 'alpha': 0.0009414442651895209, 'learning_rate_init': 0.052384888661677995, 'max_iter': 450, 'validation_fraction': 0.1, 'n_iter_no_change': 14}. Best is trial 11 with value: 0.7244221743560797.\n",
      "[I 2024-11-11 23:28:46,647] Trial 41 finished with value: 0.7203673326829384 and parameters: {'n_layers': 2, 'n_units_l0': 56, 'n_units_l1': 30, 'activation': 'tanh', 'solver': 'adam', 'alpha': 0.046858145505986694, 'learning_rate_init': 0.0009365258403670542, 'max_iter': 450, 'validation_fraction': 0.15000000000000002, 'n_iter_no_change': 6}. Best is trial 11 with value: 0.7244221743560797.\n",
      "[I 2024-11-11 23:28:53,972] Trial 42 finished with value: 0.7207730558720635 and parameters: {'n_layers': 2, 'n_units_l0': 44, 'n_units_l1': 18, 'activation': 'tanh', 'solver': 'adam', 'alpha': 0.09965341254600414, 'learning_rate_init': 0.002717385763861751, 'max_iter': 400, 'validation_fraction': 0.2, 'n_iter_no_change': 7}. Best is trial 11 with value: 0.7244221743560797.\n",
      "[I 2024-11-11 23:29:10,956] Trial 43 finished with value: 0.7248279055298781 and parameters: {'n_layers': 2, 'n_units_l0': 68, 'n_units_l1': 39, 'activation': 'tanh', 'solver': 'adam', 'alpha': 0.03080907055875736, 'learning_rate_init': 0.004587851097245814, 'max_iter': 450, 'validation_fraction': 0.2, 'n_iter_no_change': 10}. Best is trial 43 with value: 0.7248279055298781.\n",
      "[I 2024-11-11 23:29:21,551] Trial 44 finished with value: 0.7207334031145202 and parameters: {'n_layers': 2, 'n_units_l0': 64, 'n_units_l1': 42, 'activation': 'tanh', 'solver': 'adam', 'alpha': 0.026023278612935043, 'learning_rate_init': 0.005961767572594532, 'max_iter': 400, 'validation_fraction': 0.2, 'n_iter_no_change': 10}. Best is trial 43 with value: 0.7248279055298781.\n",
      "[I 2024-11-11 23:29:33,893] Trial 45 finished with value: 0.7211398044606702 and parameters: {'n_layers': 2, 'n_units_l0': 68, 'n_units_l1': 48, 'activation': 'tanh', 'solver': 'adam', 'alpha': 0.016144699884026035, 'learning_rate_init': 0.00547224699106732, 'max_iter': 500, 'validation_fraction': 0.15000000000000002, 'n_iter_no_change': 9}. Best is trial 43 with value: 0.7248279055298781.\n",
      "[I 2024-11-11 23:30:12,540] Trial 46 finished with value: -inf and parameters: {'n_layers': 2, 'n_units_l0': 80, 'n_units_l1': 30, 'activation': 'tanh', 'solver': 'sgd', 'alpha': 0.06097240383418615, 'learning_rate_init': 0.013915132577654457, 'max_iter': 350, 'validation_fraction': 0.15000000000000002, 'n_iter_no_change': 11}. Best is trial 43 with value: 0.7248279055298781.\n",
      "[I 2024-11-11 23:30:39,130] Trial 47 finished with value: -inf and parameters: {'n_layers': 1, 'n_units_l0': 73, 'activation': 'tanh', 'solver': 'adam', 'alpha': 0.008455573569444106, 'learning_rate_init': 0.0044001590852599205, 'max_iter': 450, 'validation_fraction': 0.2, 'n_iter_no_change': 13}. Best is trial 43 with value: 0.7248279055298781.\n",
      "[I 2024-11-11 23:30:59,205] Trial 48 finished with value: 0.7204170534277449 and parameters: {'n_layers': 2, 'n_units_l0': 62, 'n_units_l1': 71, 'activation': 'tanh', 'solver': 'adam', 'alpha': 0.0024655234549678003, 'learning_rate_init': 0.011762375024101034, 'max_iter': 350, 'validation_fraction': 0.25, 'n_iter_no_change': 9}. Best is trial 43 with value: 0.7248279055298781.\n",
      "[I 2024-11-11 23:31:44,002] Trial 49 finished with value: 0.722583337997767 and parameters: {'n_layers': 1, 'n_units_l0': 86, 'activation': 'logistic', 'solver': 'adam', 'alpha': 7.93112311685165e-05, 'learning_rate_init': 0.001830758500118074, 'max_iter': 400, 'validation_fraction': 0.2, 'n_iter_no_change': 12}. Best is trial 43 with value: 0.7248279055298781.\n",
      "[I 2024-11-11 23:31:59,106] Trial 50 finished with value: 0.7218521996453635 and parameters: {'n_layers': 3, 'n_units_l0': 57, 'n_units_l1': 17, 'n_units_l2': 99, 'activation': 'relu', 'solver': 'adam', 'alpha': 0.0033699185447119535, 'learning_rate_init': 0.0012391965335047028, 'max_iter': 500, 'validation_fraction': 0.25, 'n_iter_no_change': 10}. Best is trial 43 with value: 0.7248279055298781.\n",
      "[I 2024-11-11 23:32:12,245] Trial 51 finished with value: 0.7211825758956671 and parameters: {'n_layers': 2, 'n_units_l0': 67, 'n_units_l1': 36, 'activation': 'tanh', 'solver': 'adam', 'alpha': 0.03302139452376118, 'learning_rate_init': 0.0003800270781808968, 'max_iter': 450, 'validation_fraction': 0.25, 'n_iter_no_change': 8}. Best is trial 43 with value: 0.7248279055298781.\n",
      "[I 2024-11-11 23:32:20,610] Trial 52 finished with value: 0.7219011781194589 and parameters: {'n_layers': 2, 'n_units_l0': 52, 'n_units_l1': 29, 'activation': 'tanh', 'solver': 'adam', 'alpha': 0.04807047007529742, 'learning_rate_init': 0.000725355409197569, 'max_iter': 450, 'validation_fraction': 0.25, 'n_iter_no_change': 6}. Best is trial 43 with value: 0.7248279055298781.\n",
      "[I 2024-11-11 23:32:31,003] Trial 53 finished with value: 0.7212139274757323 and parameters: {'n_layers': 2, 'n_units_l0': 32, 'n_units_l1': 53, 'activation': 'tanh', 'solver': 'adam', 'alpha': 0.01776769700775779, 'learning_rate_init': 0.00014388920725693358, 'max_iter': 450, 'validation_fraction': 0.3, 'n_iter_no_change': 5}. Best is trial 43 with value: 0.7248279055298781.\n",
      "[I 2024-11-11 23:32:42,037] Trial 54 finished with value: 0.7210472317640291 and parameters: {'n_layers': 2, 'n_units_l0': 48, 'n_units_l1': 51, 'activation': 'tanh', 'solver': 'adam', 'alpha': 0.07231023263468529, 'learning_rate_init': 0.0004254182117202919, 'max_iter': 400, 'validation_fraction': 0.25, 'n_iter_no_change': 7}. Best is trial 43 with value: 0.7248279055298781.\n",
      "[I 2024-11-11 23:33:05,895] Trial 55 finished with value: 0.720024206788852 and parameters: {'n_layers': 2, 'n_units_l0': 61, 'n_units_l1': 39, 'activation': 'tanh', 'solver': 'adam', 'alpha': 0.028053584612365647, 'learning_rate_init': 0.02200398214652715, 'max_iter': 350, 'validation_fraction': 0.2, 'n_iter_no_change': 14}. Best is trial 43 with value: 0.7248279055298781.\n",
      "[I 2024-11-11 23:33:23,206] Trial 56 finished with value: 0.7202031706226524 and parameters: {'n_layers': 1, 'n_units_l0': 75, 'activation': 'tanh', 'solver': 'adam', 'alpha': 0.00048776010003573746, 'learning_rate_init': 0.0011665679648121571, 'max_iter': 450, 'validation_fraction': 0.25, 'n_iter_no_change': 8}. Best is trial 43 with value: 0.7248279055298781.\n",
      "[I 2024-11-11 23:33:50,957] Trial 57 finished with value: 0.7205945099183485 and parameters: {'n_layers': 2, 'n_units_l0': 58, 'n_units_l1': 23, 'activation': 'tanh', 'solver': 'adam', 'alpha': 0.008722785291825385, 'learning_rate_init': 0.00019516479351991382, 'max_iter': 400, 'validation_fraction': 0.25, 'n_iter_no_change': 7}. Best is trial 43 with value: 0.7248279055298781.\n",
      "[I 2024-11-11 23:34:21,554] Trial 58 finished with value: 0.7215184498391013 and parameters: {'n_layers': 1, 'n_units_l0': 71, 'activation': 'tanh', 'solver': 'adam', 'alpha': 0.03763981624625851, 'learning_rate_init': 0.0027462426358128727, 'max_iter': 500, 'validation_fraction': 0.2, 'n_iter_no_change': 13}. Best is trial 43 with value: 0.7248279055298781.\n",
      "[I 2024-11-11 23:34:29,874] Trial 59 finished with value: -inf and parameters: {'n_layers': 2, 'n_units_l0': 43, 'n_units_l1': 33, 'activation': 'logistic', 'solver': 'sgd', 'alpha': 0.01114800359361621, 'learning_rate_init': 0.0005504383967079446, 'max_iter': 450, 'validation_fraction': 0.25, 'n_iter_no_change': 6}. Best is trial 43 with value: 0.7248279055298781.\n",
      "[I 2024-11-11 23:34:37,768] Trial 60 finished with value: -inf and parameters: {'n_layers': 1, 'n_units_l0': 65, 'activation': 'tanh', 'solver': 'adam', 'alpha': 0.006086822805478333, 'learning_rate_init': 0.003894224297784068, 'max_iter': 300, 'validation_fraction': 0.3, 'n_iter_no_change': 5}. Best is trial 43 with value: 0.7248279055298781.\n",
      "[I 2024-11-11 23:35:17,931] Trial 61 finished with value: -inf and parameters: {'n_layers': 1, 'n_units_l0': 62, 'activation': 'tanh', 'solver': 'adam', 'alpha': 0.015646656768800334, 'learning_rate_init': 9.938665847528743e-05, 'max_iter': 350, 'validation_fraction': 0.25, 'n_iter_no_change': 8}. Best is trial 43 with value: 0.7248279055298781.\n",
      "[I 2024-11-11 23:35:32,856] Trial 62 finished with value: -inf and parameters: {'n_layers': 1, 'n_units_l0': 54, 'activation': 'tanh', 'solver': 'adam', 'alpha': 0.020722737399433817, 'learning_rate_init': 0.00027574745013123503, 'max_iter': 400, 'validation_fraction': 0.25, 'n_iter_no_change': 7}. Best is trial 43 with value: 0.7248279055298781.\n",
      "[I 2024-11-11 23:35:48,146] Trial 63 finished with value: 0.7219416203941932 and parameters: {'n_layers': 1, 'n_units_l0': 59, 'activation': 'tanh', 'solver': 'adam', 'alpha': 0.08173146766415225, 'learning_rate_init': 0.0007267766555359118, 'max_iter': 300, 'validation_fraction': 0.25, 'n_iter_no_change': 9}. Best is trial 43 with value: 0.7248279055298781.\n",
      "[I 2024-11-11 23:36:09,736] Trial 64 finished with value: -inf and parameters: {'n_layers': 1, 'n_units_l0': 69, 'activation': 'tanh', 'solver': 'adam', 'alpha': 0.04959995040443359, 'learning_rate_init': 0.00018067398530103543, 'max_iter': 350, 'validation_fraction': 0.25, 'n_iter_no_change': 7}. Best is trial 43 with value: 0.7248279055298781.\n",
      "[I 2024-11-11 23:36:23,988] Trial 65 finished with value: 0.7202914864317419 and parameters: {'n_layers': 1, 'n_units_l0': 51, 'activation': 'relu', 'solver': 'adam', 'alpha': 0.0016909770258657876, 'learning_rate_init': 0.00030212170365037167, 'max_iter': 400, 'validation_fraction': 0.3, 'n_iter_no_change': 8}. Best is trial 43 with value: 0.7248279055298781.\n",
      "[I 2024-11-11 23:36:34,190] Trial 66 finished with value: -inf and parameters: {'n_layers': 2, 'n_units_l0': 74, 'n_units_l1': 10, 'activation': 'tanh', 'solver': 'adam', 'alpha': 0.01284601831097733, 'learning_rate_init': 0.009729284055044012, 'max_iter': 300, 'validation_fraction': 0.25, 'n_iter_no_change': 11}. Best is trial 43 with value: 0.7248279055298781.\n",
      "[I 2024-11-11 23:36:39,852] Trial 67 finished with value: -inf and parameters: {'n_layers': 1, 'n_units_l0': 77, 'activation': 'tanh', 'solver': 'adam', 'alpha': 0.0059708059270856045, 'learning_rate_init': 0.0015228223636602103, 'max_iter': 350, 'validation_fraction': 0.1, 'n_iter_no_change': 6}. Best is trial 43 with value: 0.7248279055298781.\n",
      "[I 2024-11-11 23:36:49,279] Trial 68 finished with value: 0.7261063700122699 and parameters: {'n_layers': 2, 'n_units_l0': 63, 'n_units_l1': 62, 'activation': 'relu', 'solver': 'adam', 'alpha': 0.02891596050439895, 'learning_rate_init': 0.0005068895889645821, 'max_iter': 450, 'validation_fraction': 0.25, 'n_iter_no_change': 10}. Best is trial 68 with value: 0.7261063700122699.\n",
      "[I 2024-11-11 23:36:58,847] Trial 69 finished with value: 0.7244963164888882 and parameters: {'n_layers': 2, 'n_units_l0': 63, 'n_units_l1': 62, 'activation': 'relu', 'solver': 'adam', 'alpha': 0.031588982497015486, 'learning_rate_init': 0.0004927916510775308, 'max_iter': 450, 'validation_fraction': 0.2, 'n_iter_no_change': 10}. Best is trial 68 with value: 0.7261063700122699.\n",
      "[I 2024-11-11 23:37:08,465] Trial 70 finished with value: -inf and parameters: {'n_layers': 2, 'n_units_l0': 64, 'n_units_l1': 63, 'activation': 'relu', 'solver': 'sgd', 'alpha': 0.00021399538291124882, 'learning_rate_init': 0.05437154196549946, 'max_iter': 500, 'validation_fraction': 0.2, 'n_iter_no_change': 10}. Best is trial 68 with value: 0.7261063700122699.\n",
      "[I 2024-11-11 23:37:17,657] Trial 71 finished with value: 0.7227546551491791 and parameters: {'n_layers': 2, 'n_units_l0': 62, 'n_units_l1': 69, 'activation': 'relu', 'solver': 'adam', 'alpha': 0.02554248241552278, 'learning_rate_init': 0.000523411823141065, 'max_iter': 450, 'validation_fraction': 0.2, 'n_iter_no_change': 10}. Best is trial 68 with value: 0.7261063700122699.\n",
      "[I 2024-11-11 23:37:26,461] Trial 72 finished with value: 0.7211875874466847 and parameters: {'n_layers': 2, 'n_units_l0': 71, 'n_units_l1': 60, 'activation': 'relu', 'solver': 'adam', 'alpha': 0.053724050819426473, 'learning_rate_init': 0.00037669230804364255, 'max_iter': 450, 'validation_fraction': 0.2, 'n_iter_no_change': 11}. Best is trial 68 with value: 0.7261063700122699.\n",
      "[I 2024-11-11 23:37:33,463] Trial 73 finished with value: 0.7237521960333921 and parameters: {'n_layers': 2, 'n_units_l0': 67, 'n_units_l1': 76, 'activation': 'relu', 'solver': 'adam', 'alpha': 0.038139219972237966, 'learning_rate_init': 0.0021433144946242794, 'max_iter': 450, 'validation_fraction': 0.2, 'n_iter_no_change': 10}. Best is trial 68 with value: 0.7261063700122699.\n",
      "[I 2024-11-11 23:37:40,527] Trial 74 finished with value: 0.7214888157603004 and parameters: {'n_layers': 2, 'n_units_l0': 68, 'n_units_l1': 81, 'activation': 'relu', 'solver': 'adam', 'alpha': 0.000560117609741528, 'learning_rate_init': 0.004717053027487169, 'max_iter': 500, 'validation_fraction': 0.15000000000000002, 'n_iter_no_change': 10}. Best is trial 68 with value: 0.7261063700122699.\n",
      "[I 2024-11-11 23:37:49,319] Trial 75 finished with value: 0.7207178670155615 and parameters: {'n_layers': 2, 'n_units_l0': 66, 'n_units_l1': 78, 'activation': 'relu', 'solver': 'adam', 'alpha': 0.03336149175539704, 'learning_rate_init': 0.0026525356412105423, 'max_iter': 450, 'validation_fraction': 0.2, 'n_iter_no_change': 10}. Best is trial 68 with value: 0.7261063700122699.\n",
      "[I 2024-11-11 23:37:56,614] Trial 76 finished with value: 0.7243407231416004 and parameters: {'n_layers': 2, 'n_units_l0': 76, 'n_units_l1': 58, 'activation': 'relu', 'solver': 'adam', 'alpha': 0.0009215179119979441, 'learning_rate_init': 0.0017971891810370762, 'max_iter': 400, 'validation_fraction': 0.2, 'n_iter_no_change': 9}. Best is trial 68 with value: 0.7261063700122699.\n",
      "[I 2024-11-11 23:38:03,356] Trial 77 finished with value: 0.72281446016513 and parameters: {'n_layers': 2, 'n_units_l0': 77, 'n_units_l1': 57, 'activation': 'relu', 'solver': 'adam', 'alpha': 0.06977742511155349, 'learning_rate_init': 0.0019715901147931984, 'max_iter': 450, 'validation_fraction': 0.2, 'n_iter_no_change': 9}. Best is trial 68 with value: 0.7261063700122699.\n",
      "[I 2024-11-11 23:38:14,606] Trial 78 finished with value: 0.7236172690915174 and parameters: {'n_layers': 2, 'n_units_l0': 82, 'n_units_l1': 68, 'activation': 'relu', 'solver': 'adam', 'alpha': 0.029521459293065416, 'learning_rate_init': 0.0009799250885465076, 'max_iter': 150, 'validation_fraction': 0.15000000000000002, 'n_iter_no_change': 9}. Best is trial 68 with value: 0.7261063700122699.\n",
      "[I 2024-11-11 23:38:20,435] Trial 79 finished with value: 0.7220472907389556 and parameters: {'n_layers': 2, 'n_units_l0': 80, 'n_units_l1': 67, 'activation': 'relu', 'solver': 'adam', 'alpha': 0.021078047140418166, 'learning_rate_init': 0.0009715101497304237, 'max_iter': 100, 'validation_fraction': 0.15000000000000002, 'n_iter_no_change': 9}. Best is trial 68 with value: 0.7261063700122699.\n",
      "[I 2024-11-11 23:38:31,974] Trial 80 finished with value: 0.7216093757100442 and parameters: {'n_layers': 2, 'n_units_l0': 85, 'n_units_l1': 74, 'activation': 'relu', 'solver': 'adam', 'alpha': 0.029537203153557602, 'learning_rate_init': 0.001294850688314546, 'max_iter': 200, 'validation_fraction': 0.15000000000000002, 'n_iter_no_change': 9}. Best is trial 68 with value: 0.7261063700122699.\n",
      "[I 2024-11-11 23:38:42,470] Trial 81 finished with value: -inf and parameters: {'n_layers': 2, 'n_units_l0': 82, 'n_units_l1': 66, 'activation': 'relu', 'solver': 'adam', 'alpha': 0.05980411278652368, 'learning_rate_init': 0.0024548228761675306, 'max_iter': 400, 'validation_fraction': 0.15000000000000002, 'n_iter_no_change': 10}. Best is trial 68 with value: 0.7261063700122699.\n",
      "[I 2024-11-11 23:38:52,832] Trial 82 finished with value: 0.7223189406947041 and parameters: {'n_layers': 2, 'n_units_l0': 73, 'n_units_l1': 60, 'activation': 'relu', 'solver': 'adam', 'alpha': 0.03971148050256019, 'learning_rate_init': 0.0032240449260650685, 'max_iter': 150, 'validation_fraction': 0.2, 'n_iter_no_change': 11}. Best is trial 68 with value: 0.7261063700122699.\n",
      "[I 2024-11-11 23:39:02,038] Trial 83 finished with value: 0.7258183726675466 and parameters: {'n_layers': 2, 'n_units_l0': 63, 'n_units_l1': 82, 'activation': 'relu', 'solver': 'adam', 'alpha': 0.0008464043144970491, 'learning_rate_init': 0.0014796934509459768, 'max_iter': 450, 'validation_fraction': 0.2, 'n_iter_no_change': 10}. Best is trial 68 with value: 0.7261063700122699.\n",
      "[I 2024-11-11 23:39:11,015] Trial 84 finished with value: 0.7263444194158325 and parameters: {'n_layers': 2, 'n_units_l0': 88, 'n_units_l1': 89, 'activation': 'relu', 'solver': 'adam', 'alpha': 0.001230314130334757, 'learning_rate_init': 0.0016991055449377132, 'max_iter': 500, 'validation_fraction': 0.15000000000000002, 'n_iter_no_change': 10}. Best is trial 84 with value: 0.7263444194158325.\n",
      "[I 2024-11-11 23:39:18,554] Trial 85 finished with value: 0.7215631796904564 and parameters: {'n_layers': 2, 'n_units_l0': 89, 'n_units_l1': 90, 'activation': 'relu', 'solver': 'adam', 'alpha': 0.001111153906228812, 'learning_rate_init': 0.007045398027445993, 'max_iter': 500, 'validation_fraction': 0.2, 'n_iter_no_change': 10}. Best is trial 84 with value: 0.7263444194158325.\n",
      "[I 2024-11-11 23:39:27,640] Trial 86 finished with value: -inf and parameters: {'n_layers': 2, 'n_units_l0': 60, 'n_units_l1': 84, 'activation': 'relu', 'solver': 'adam', 'alpha': 0.0008271409502301982, 'learning_rate_init': 0.0020092729800250506, 'max_iter': 500, 'validation_fraction': 0.2, 'n_iter_no_change': 10}. Best is trial 84 with value: 0.7263444194158325.\n",
      "[I 2024-11-11 23:39:41,564] Trial 87 finished with value: -inf and parameters: {'n_layers': 3, 'n_units_l0': 97, 'n_units_l1': 94, 'n_units_l2': 65, 'activation': 'relu', 'solver': 'adam', 'alpha': 0.00037405237928927207, 'learning_rate_init': 0.001418666237869344, 'max_iter': 450, 'validation_fraction': 0.2, 'n_iter_no_change': 11}. Best is trial 84 with value: 0.7263444194158325.\n",
      "[I 2024-11-11 23:39:45,758] Trial 88 finished with value: -inf and parameters: {'n_layers': 2, 'n_units_l0': 56, 'n_units_l1': 89, 'activation': 'relu', 'solver': 'sgd', 'alpha': 0.0002665034436130174, 'learning_rate_init': 0.0004418386140853961, 'max_iter': 450, 'validation_fraction': 0.15000000000000002, 'n_iter_no_change': 11}. Best is trial 84 with value: 0.7263444194158325.\n",
      "[I 2024-11-11 23:39:54,322] Trial 89 finished with value: 0.7254791050899081 and parameters: {'n_layers': 2, 'n_units_l0': 63, 'n_units_l1': 85, 'activation': 'relu', 'solver': 'adam', 'alpha': 0.0007090433676064473, 'learning_rate_init': 0.0007685959979282936, 'max_iter': 500, 'validation_fraction': 0.1, 'n_iter_no_change': 10}. Best is trial 84 with value: 0.7263444194158325.\n",
      "[I 2024-11-11 23:40:08,175] Trial 90 finished with value: -inf and parameters: {'n_layers': 2, 'n_units_l0': 89, 'n_units_l1': 99, 'activation': 'relu', 'solver': 'adam', 'alpha': 0.0006258318123745691, 'learning_rate_init': 0.000801630889686269, 'max_iter': 500, 'validation_fraction': 0.1, 'n_iter_no_change': 9}. Best is trial 84 with value: 0.7263444194158325.\n",
      "[I 2024-11-11 23:40:18,780] Trial 91 finished with value: 0.723264369010069 and parameters: {'n_layers': 2, 'n_units_l0': 63, 'n_units_l1': 84, 'activation': 'relu', 'solver': 'adam', 'alpha': 0.0008807326592130833, 'learning_rate_init': 0.0016324339852617827, 'max_iter': 500, 'validation_fraction': 0.1, 'n_iter_no_change': 10}. Best is trial 84 with value: 0.7263444194158325.\n",
      "[I 2024-11-11 23:40:27,366] Trial 92 finished with value: 0.7251533298155042 and parameters: {'n_layers': 2, 'n_units_l0': 68, 'n_units_l1': 76, 'activation': 'relu', 'solver': 'adam', 'alpha': 0.00042322409420450627, 'learning_rate_init': 0.0011051853214308792, 'max_iter': 450, 'validation_fraction': 0.2, 'n_iter_no_change': 10}. Best is trial 84 with value: 0.7263444194158325.\n",
      "[I 2024-11-11 23:40:37,444] Trial 93 finished with value: 0.7259526607578426 and parameters: {'n_layers': 2, 'n_units_l0': 58, 'n_units_l1': 86, 'activation': 'relu', 'solver': 'adam', 'alpha': 0.0001292438007978796, 'learning_rate_init': 0.00047067219821797317, 'max_iter': 500, 'validation_fraction': 0.1, 'n_iter_no_change': 10}. Best is trial 84 with value: 0.7263444194158325.\n",
      "[I 2024-11-11 23:40:48,020] Trial 94 finished with value: 0.7240692928744957 and parameters: {'n_layers': 2, 'n_units_l0': 55, 'n_units_l1': 93, 'activation': 'relu', 'solver': 'adam', 'alpha': 6.352528591580087e-05, 'learning_rate_init': 0.0005672102763996631, 'max_iter': 500, 'validation_fraction': 0.1, 'n_iter_no_change': 10}. Best is trial 84 with value: 0.7263444194158325.\n",
      "[I 2024-11-11 23:40:59,761] Trial 95 finished with value: -inf and parameters: {'n_layers': 2, 'n_units_l0': 58, 'n_units_l1': 84, 'activation': 'relu', 'solver': 'adam', 'alpha': 0.00013572471843981176, 'learning_rate_init': 0.0006397338384912281, 'max_iter': 500, 'validation_fraction': 0.1, 'n_iter_no_change': 11}. Best is trial 84 with value: 0.7263444194158325.\n",
      "[I 2024-11-11 23:41:15,091] Trial 96 finished with value: -inf and parameters: {'n_layers': 2, 'n_units_l0': 93, 'n_units_l1': 81, 'activation': 'relu', 'solver': 'adam', 'alpha': 0.0003868250072458337, 'learning_rate_init': 0.00030510478284742154, 'max_iter': 500, 'validation_fraction': 0.1, 'n_iter_no_change': 9}. Best is trial 84 with value: 0.7263444194158325.\n",
      "[I 2024-11-11 23:41:24,637] Trial 97 finished with value: 0.7239168451943098 and parameters: {'n_layers': 2, 'n_units_l0': 60, 'n_units_l1': 56, 'activation': 'relu', 'solver': 'adam', 'alpha': 4.1645103848256165e-05, 'learning_rate_init': 0.0010754593413270777, 'max_iter': 500, 'validation_fraction': 0.2, 'n_iter_no_change': 10}. Best is trial 84 with value: 0.7263444194158325.\n",
      "[I 2024-11-11 23:41:40,295] Trial 98 finished with value: 0.7250697957387208 and parameters: {'n_layers': 2, 'n_units_l0': 70, 'n_units_l1': 80, 'activation': 'relu', 'solver': 'adam', 'alpha': 0.0019798922431537693, 'learning_rate_init': 0.0004361934281467185, 'max_iter': 450, 'validation_fraction': 0.1, 'n_iter_no_change': 11}. Best is trial 84 with value: 0.7263444194158325.\n",
      "[I 2024-11-11 23:41:54,563] Trial 99 finished with value: 0.7258673172705381 and parameters: {'n_layers': 2, 'n_units_l0': 70, 'n_units_l1': 87, 'activation': 'relu', 'solver': 'adam', 'alpha': 0.0023237937334219384, 'learning_rate_init': 0.00019884377998694177, 'max_iter': 450, 'validation_fraction': 0.1, 'n_iter_no_change': 12}. Best is trial 84 with value: 0.7263444194158325.\n"
     ]
    },
    {
     "name": "stdout",
     "output_type": "stream",
     "text": [
      "Best hyperparameters: {'n_layers': 2, 'n_units_l0': 88, 'n_units_l1': 89, 'activation': 'relu', 'solver': 'adam', 'alpha': 0.001230314130334757, 'learning_rate_init': 0.0016991055449377132, 'max_iter': 500, 'validation_fraction': 0.15000000000000002, 'n_iter_no_change': 10}\n",
      "Best F1 Score: 0.7263444194158325\n"
     ]
    }
   ],
   "source": [
    "import optuna\n",
    "from sklearn.model_selection import cross_val_score, StratifiedKFold\n",
    "from sklearn.neural_network import MLPClassifier\n",
    "\n",
    "# Optuna 하이퍼파라미터 튜닝\n",
    "def objective(trial):\n",
    "    # MLPClassifier 하이퍼파라미터 설정\n",
    "    n_layers = trial.suggest_int(\"n_layers\", 1, 3)\n",
    "    hidden_layer_sizes = tuple([trial.suggest_int(f\"n_units_l{i}\", 10, 100) for i in range(n_layers)])\n",
    "\n",
    "    hp = {\n",
    "        \"hidden_layer_sizes\": hidden_layer_sizes,\n",
    "        \"activation\": trial.suggest_categorical(\"activation\", [\"relu\", \"tanh\", \"logistic\"]),\n",
    "        \"solver\": trial.suggest_categorical(\"solver\", [\"adam\", \"sgd\"]),\n",
    "        \"alpha\": trial.suggest_float(\"alpha\", 1e-5, 1e-1, log=True),\n",
    "        \"learning_rate_init\": trial.suggest_float(\"learning_rate_init\", 1e-5, 1e-1, log=True),\n",
    "        \"max_iter\": trial.suggest_int(\"max_iter\", 100, 500, step=50),\n",
    "        \"early_stopping\": True,\n",
    "        \"validation_fraction\": trial.suggest_float(\"validation_fraction\", 0.1, 0.3, step=0.05),\n",
    "        \"n_iter_no_change\": trial.suggest_int(\"n_iter_no_change\", 5, 15),\n",
    "    }\n",
    "\n",
    "\n",
    "    model = MLPClassifier(**hp, random_state=SEED)\n",
    "\n",
    "\n",
    "    score = cross_val_score(model, selected_features, target, cv=cv, scoring=\"f1_macro\", n_jobs=-1).mean()\n",
    "\n",
    "    # 성능이 0.72 미만이면 무시 (float(\"-inf\")로 반환하여 이 trial을 최적화 과정에서 제외)\n",
    "    if score < 0.72:\n",
    "        return float(\"-inf\")\n",
    "    \n",
    "    return score\n",
    "\n",
    "\n",
    "sampler = optuna.samplers.TPESampler(seed=SEED)\n",
    "study = optuna.create_study(direction=\"maximize\", sampler=sampler)\n",
    "study.optimize(objective, n_trials=100)\n",
    "\n",
    "\n",
    "print(\"Best hyperparameters:\", study.best_params)\n",
    "print(\"Best F1 Score:\", study.best_value)\n"
   ]
  },
  {
   "cell_type": "code",
   "execution_count": null,
   "metadata": {},
   "outputs": [
    {
     "name": "stdout",
     "output_type": "stream",
     "text": [
      "Mean F1 Macro Score: 0.7263444194158325\n"
     ]
    }
   ],
   "source": [
    "# Optuna 튜닝 결과\n",
    "best_mlp_params = {\n",
    "    'hidden_layer_sizes': (88, 89), \n",
    "    'activation': 'relu',\n",
    "    'solver': 'adam',\n",
    "    'alpha': 0.001230314130334757,\n",
    "    'learning_rate_init': 0.0016991055449377132,\n",
    "    'max_iter': 500,\n",
    "    'validation_fraction': 0.15000000000000002,\n",
    "    'n_iter_no_change': 10,\n",
    "    'early_stopping': True\n",
    "}\n",
    "\n",
    "\n",
    "scores = []\n",
    "models = []\n",
    "\n",
    "for tri, vai in cv.split(train_ft, target):\n",
    "    x_train = train_ft.iloc[tri][selected_cols] #logistic 으로 선택된 피처만 사용가능\n",
    "    y_train = target.iloc[tri]\n",
    "    x_valid = train_ft.iloc[vai][selected_cols]  \n",
    "    y_valid = target.iloc[vai]\n",
    "\n",
    "    mlp_model = MLPClassifier(**best_mlp_params, random_state=SEED)\n",
    "    mlp_model.fit(x_train, y_train)\n",
    "\n",
    "    models.append(mlp_model)\n",
    "\n",
    "    pred = mlp_model.predict(x_valid)\n",
    "    score = f1_score(y_valid, pred, average='macro')\n",
    "    scores.append(score)\n",
    "\n",
    "#f1 출력\n",
    "print(\"Mean F1 Macro Score:\", np.mean(scores))\n"
   ]
  },
  {
   "cell_type": "code",
   "execution_count": null,
   "metadata": {},
   "outputs": [],
   "source": [
    "#proba 파일\n",
    "\n",
    "mlp_model = MLPClassifier(**best_mlp_params, random_state=SEED)\n",
    "mlp_model.fit(train_ft[selected_cols], target)\n",
    "\n",
    "\n",
    "pred = mlp_model.predict_proba(test_ft[selected_cols])[:, 1]\n",
    "\n",
    "submit[\"target\"] = pred\n",
    "submit.to_csv(\"mlp+optuna+logistic_fs.csv\", index=False)"
   ]
  },
  {
   "cell_type": "code",
   "execution_count": 24,
   "metadata": {},
   "outputs": [],
   "source": [
    "#submit 파일\n",
    "\n",
    "sub_pred = mlp_model.predict_proba(test_ft[selected_cols])\n",
    "submit[\"target\"] = sub_pred\n",
    "submit.to_csv(\"mlp_optuna_logistic_fs_sub.csv\", index=False)"
   ]
  },
  {
   "cell_type": "code",
   "execution_count": null,
   "metadata": {},
   "outputs": [],
   "source": [
    "#임계값 조절 submit\n",
    "threshold = 0.42\n",
    "submit[\"target\"] = (sub_pred[:, 1] >= threshold).astype(int)\n",
    "submit.to_csv(\"mlp_optuna_logistic_fs_threshold_sub.csv\", index=False)\n"
   ]
  },
  {
   "cell_type": "code",
   "execution_count": 21,
   "metadata": {},
   "outputs": [
    {
     "data": {
      "text/plain": [
       "(12225, 2)"
      ]
     },
     "execution_count": 21,
     "metadata": {},
     "output_type": "execute_result"
    }
   ],
   "source": [
    "submit.shape"
   ]
  },
  {
   "cell_type": "code",
   "execution_count": 22,
   "metadata": {},
   "outputs": [
    {
     "data": {
      "text/plain": [
       "<bound method NDFrame.head of                ID    target\n",
       "0          test_0  0.862846\n",
       "1          test_1  0.778231\n",
       "2          test_2  0.818966\n",
       "3          test_3  0.109296\n",
       "4          test_4  0.562952\n",
       "...           ...       ...\n",
       "12220  test_12220  0.313295\n",
       "12221  test_12221  0.703195\n",
       "12222  test_12222  0.932361\n",
       "12223  test_12223  0.261959\n",
       "12224  test_12224  0.919641\n",
       "\n",
       "[12225 rows x 2 columns]>"
      ]
     },
     "execution_count": 22,
     "metadata": {},
     "output_type": "execute_result"
    }
   ],
   "source": [
    "submit.head"
   ]
  },
  {
   "cell_type": "code",
   "execution_count": null,
   "metadata": {},
   "outputs": [],
   "source": []
  }
 ],
 "metadata": {
  "kernelspec": {
   "display_name": "Python 3",
   "language": "python",
   "name": "python3"
  },
  "language_info": {
   "codemirror_mode": {
    "name": "ipython",
    "version": 3
   },
   "file_extension": ".py",
   "mimetype": "text/x-python",
   "name": "python",
   "nbconvert_exporter": "python",
   "pygments_lexer": "ipython3",
   "version": "3.12.3"
  }
 },
 "nbformat": 4,
 "nbformat_minor": 2
}
