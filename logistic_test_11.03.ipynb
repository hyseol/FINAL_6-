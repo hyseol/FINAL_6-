{
 "cells": [
  {
   "cell_type": "code",
   "execution_count": null,
   "metadata": {},
   "outputs": [],
   "source": [
    "import pandas as pd\n",
    "from sklearn.preprocessing import OneHotEncoder, MinMaxScaler\n",
    "from sklearn.model_selection import train_test_split\n",
    "from sklearn.linear_model import LogisticRegression\n",
    "\n",
    "train = pd.read_csv(r'C:\\Users\\leeya\\OneDrive\\Desktop\\부캠 수업자료\\Final\\train_common_v2.0_1101.csv')\n",
    "test = pd.read_csv(r'C:\\Users\\leeya\\OneDrive\\Desktop\\부캠 수업자료\\Final\\test_common_v2.0_1101.csv')\n",
    "target_r = pd.read_csv(r'C:\\Users\\leeya\\OneDrive\\Desktop\\부캠 수업자료\\Final\\store_train (1).csv')\n",
    "submit = pd.read_csv(r'C:\\Users\\leeya\\OneDrive\\Desktop\\부캠 수업자료\\Final\\store_submission (2).csv')\n",
    "\n",
    "#ID 제외하기\n",
    "train_ft = train.iloc[:, 1:].copy() \n",
    "test_ft = test.iloc[:, 1:].copy()  \n",
    "target = target_r.iloc[:, 1].copy() \n",
    "\n",
    "# 원핫인코딩\n",
    "cols = train_ft.select_dtypes(include=['object']).columns\n",
    "enc = OneHotEncoder(handle_unknown=\"ignore\")\n",
    "enc.fit(train_ft[cols])\n",
    "\n",
    "\n",
    "train_encoded = pd.DataFrame(\n",
    "    enc.transform(train_ft[cols]).toarray(),\n",
    "    columns=enc.get_feature_names_out()\n",
    ")\n",
    "train_ft = pd.concat([train_ft.drop(columns=cols), train_encoded], axis=1)\n",
    "\n",
    "\n",
    "test_encoded = pd.DataFrame(\n",
    "    enc.transform(test_ft[cols]).toarray(),\n",
    "    columns=enc.get_feature_names_out()\n",
    ")\n",
    "test_ft = pd.concat([test_ft.drop(columns=cols), test_encoded], axis=1)\n",
    "\n",
    "# 피처 스케일링\n",
    "scaler = MinMaxScaler()\n",
    "train_ft[train_ft.columns] = scaler.fit_transform(train_ft)\n",
    "test_ft[test_ft.columns] = scaler.transform(test_ft)\n",
    "\n",
    "\n",
    "x_train, x_valid, y_train, y_valid = train_test_split(train_ft, target, test_size=0.2, random_state=42)\n",
    "\n",
    "# 모델링\n",
    "model = LogisticRegression(random_state=42, penalty='l2', solver='saga', max_iter=2000)\n",
    "model.fit(x_train, y_train)\n",
    "pred = model.predict(x_valid)\n",
    "\n",
    "\n",
    "model.fit(train_ft, target)\n",
    "test_pred = model.predict(test_ft)\n",
    "\n",
    "\n",
    "id_column = submit[\"ID\"]  # ID 열을 제출 파일에서 가져옴\n",
    "pred_df = pd.DataFrame(test_pred, columns=[\"target\"])\n",
    "result_df = pd.concat([id_column.reset_index(drop=True), pred_df], axis=1)\n",
    "\n",
    "\n",
    "result_df.to_csv(\"Logistic_test_HJ2.csv\", index=False)\n"
   ]
  },
  {
   "cell_type": "code",
   "execution_count": 3,
   "metadata": {},
   "outputs": [
    {
     "data": {
      "text/plain": [
       "<bound method DataFrame.info of                ID  target\n",
       "0          test_0     0.0\n",
       "1          test_1     0.0\n",
       "2          test_2     0.0\n",
       "3          test_3     1.0\n",
       "4          test_4     0.0\n",
       "...           ...     ...\n",
       "12220  test_12220     1.0\n",
       "12221  test_12221     0.0\n",
       "12222  test_12222     0.0\n",
       "12223  test_12223     0.0\n",
       "12224  test_12224     0.0\n",
       "\n",
       "[12225 rows x 2 columns]>"
      ]
     },
     "execution_count": 3,
     "metadata": {},
     "output_type": "execute_result"
    }
   ],
   "source": [
    "result_df.info"
   ]
  },
  {
   "cell_type": "code",
   "execution_count": 2,
   "metadata": {},
   "outputs": [
    {
     "name": "stdout",
     "output_type": "stream",
     "text": [
      "ID        0\n",
      "target    0\n",
      "dtype: int64\n"
     ]
    }
   ],
   "source": [
    "print(result_df.isnull().sum())"
   ]
  }
 ],
 "metadata": {
  "kernelspec": {
   "display_name": "Python 3",
   "language": "python",
   "name": "python3"
  },
  "language_info": {
   "codemirror_mode": {
    "name": "ipython",
    "version": 3
   },
   "file_extension": ".py",
   "mimetype": "text/x-python",
   "name": "python",
   "nbconvert_exporter": "python",
   "pygments_lexer": "ipython3",
   "version": "3.12.3"
  }
 },
 "nbformat": 4,
 "nbformat_minor": 2
}
