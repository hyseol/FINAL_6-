{
 "cells": [
  {
   "cell_type": "markdown",
   "metadata": {
    "id": "zknWXgof5u-B"
   },
   "source": [
    "# 컴피티션 링크\n",
    "- https://www.kaggle.com/t/2e45abe9f1434b59a3358365432a48bb"
   ]
  },
  {
   "cell_type": "code",
   "execution_count": 1,
   "metadata": {
    "id": "N44QYORV8wFy"
   },
   "outputs": [],
   "source": [
    "# from google.colab import drive\n",
    "# drive.mount('/content/drive')"
   ]
  },
  {
   "cell_type": "markdown",
   "metadata": {
    "id": "ZhUuXRB5BCFE"
   },
   "source": [
    "- 데이터 경로 변수"
   ]
  },
  {
   "cell_type": "code",
   "execution_count": 2,
   "metadata": {
    "id": "NfX2HPof87FT"
   },
   "outputs": [
    {
     "data": {
      "text/plain": [
       "'C:/Users/user/Desktop/데이터분석/05 Project_Final/Data/'"
      ]
     },
     "execution_count": 2,
     "metadata": {},
     "output_type": "execute_result"
    }
   ],
   "source": [
    "DATA_PATH = \"C:/Users/user/Desktop/데이터분석/05 Project_Final/Data/\"\n",
    "DATA_PATH"
   ]
  },
  {
   "cell_type": "markdown",
   "metadata": {
    "id": "sQd7JpzNBHa1"
   },
   "source": [
    "- 데이터 불러오기"
   ]
  },
  {
   "cell_type": "code",
   "execution_count": 3,
   "metadata": {
    "id": "KFGKUIWt89fZ"
   },
   "outputs": [
    {
     "data": {
      "text/plain": [
       "((523105, 7), (14940, 2), (441196, 7), (12225, 2))"
      ]
     },
     "execution_count": 3,
     "metadata": {},
     "output_type": "execute_result"
    }
   ],
   "source": [
    "import pandas as pd\n",
    "import numpy as np\n",
    "\n",
    "train_tr = pd.read_csv(f\"{DATA_PATH}store_train_transactions.csv\") # 학습용 구매기록 데이터\n",
    "train_target = pd.read_csv(f\"{DATA_PATH}store_train.csv\") # 학습용 정답 데이터\n",
    "test_tr = pd.read_csv(f\"{DATA_PATH}store_test_transactions.csv\") # 테스트용 구매기록 데이터\n",
    "submit = pd.read_csv(f\"{DATA_PATH}store_submission.csv\") # 제출 양식 데이터\n",
    "\n",
    "train_tr.shape , train_target.shape , test_tr.shape , submit.shape"
   ]
  },
  {
   "cell_type": "code",
   "execution_count": 4,
   "metadata": {},
   "outputs": [
    {
     "data": {
      "text/plain": [
       "(0, 0)"
      ]
     },
     "execution_count": 4,
     "metadata": {},
     "output_type": "execute_result"
    }
   ],
   "source": [
    "train_tr.isnull().sum().sum(), test_tr.isnull().sum().sum()"
   ]
  },
  {
   "cell_type": "markdown",
   "metadata": {
    "id": "r43SCHUujW-f"
   },
   "source": [
    "# 특성 공학(Feature Engineering)"
   ]
  },
  {
   "cell_type": "markdown",
   "metadata": {
    "id": "ONQYpWOjlbE9"
   },
   "source": [
    "## 날짜 형식으로 변환"
   ]
  },
  {
   "cell_type": "code",
   "execution_count": 5,
   "metadata": {
    "id": "SYPmQb7dlVTu"
   },
   "outputs": [],
   "source": [
    "train_tr[\"구매일시\"] = pd.to_datetime(train_tr[\"구매일시\"])\n",
    "test_tr[\"구매일시\"] = pd.to_datetime(test_tr[\"구매일시\"])"
   ]
  },
  {
   "cell_type": "markdown",
   "metadata": {
    "id": "DzdFiwxsrFa4"
   },
   "source": [
    "## 새로 만든 feature와 병합할 고객ID로만 이루어진 데이터프레임 생성"
   ]
  },
  {
   "cell_type": "code",
   "execution_count": 6,
   "metadata": {
    "id": "Is0n2MKZrMWp"
   },
   "outputs": [
    {
     "data": {
      "text/plain": [
       "((14940, 1), (12225, 1))"
      ]
     },
     "execution_count": 6,
     "metadata": {},
     "output_type": "execute_result"
    }
   ],
   "source": [
    "train_ft = train_target[[\"ID\"]]\n",
    "test_ft = submit[[\"ID\"]]\n",
    "\n",
    "train_ft.shape, test_ft.shape"
   ]
  },
  {
   "cell_type": "markdown",
   "metadata": {
    "id": "arH5g0kMmCTa"
   },
   "source": [
    "## 구매일시를 이용한 특성생성"
   ]
  },
  {
   "cell_type": "code",
   "execution_count": 7,
   "metadata": {},
   "outputs": [],
   "source": [
    "# 2004년 5월 ~ 2005년 4월 공휴일 리스트\n",
    "holiday_2004 = [\"2004-05-05\", \"2004-05-26\", \"2004-06-06\",\n",
    "                \"2004-07-17\", \"2004-08-15\", \"2004-09-27\",\n",
    "                \"2004-09-28\", \"2004-09-29\", \"2004-10-03\", \"2004-12-25\"]\n",
    "\n",
    "holiday_2005 = [\"2005-01-01\", \"2005-02-08\", \"2005-02-09\",\n",
    "                \"2005-02-10\", \"2005-03-01\", \"2005-04-05\"]\n",
    "\n",
    "holidays = pd.to_datetime(holiday_2004 + holiday_2005)"
   ]
  },
  {
   "cell_type": "code",
   "execution_count": 8,
   "metadata": {
    "id": "OJt2fPnXmAsM"
   },
   "outputs": [
    {
     "data": {
      "text/plain": [
       "((14940, 67), (12225, 67))"
      ]
     },
     "execution_count": 8,
     "metadata": {},
     "output_type": "execute_result"
    }
   ],
   "source": [
    "agg_list = [\n",
    "        # 컬럼명, 집계 방식\n",
    "        ('내점일수', lambda x: x.dt.date.nunique()),       # 내점일수 수정 : 날짜만 선택해서 nuique\n",
    "        ('구매주기', lambda x: int( (x.max() - x.min()).days / x.dt.date.nunique()) ),\n",
    "        ('주말방문비율', lambda x: np.mean(x.dt.weekday>4)),\n",
    "        ('봄_구매비율', lambda x: np.mean(x.dt.month.isin([3,4,5]))),\n",
    "        ('여름_구매비율', lambda x: np.mean(x.dt.month.isin([6,7,8]))),\n",
    "        ('가을_구매비율', lambda x: np.mean(x.dt.month.isin([9,10,11]))),\n",
    "        ('겨울_구매비율', lambda x: np.mean(x.dt.month.isin([1,2,12]))),\n",
    "        ('주구매요일', lambda x: x.dt.weekday.mode()[0]),\n",
    "        ('일별평균구매건수', lambda x:  x.count() / x.dt.date.nunique() ),\n",
    "        ('거래개월수', lambda x: x.dt.date.astype(str).str[:-3].nunique() ),\n",
    "        \n",
    "        ('아침_구매비율', lambda x: np.mean(x.dt.hour.isin(range(6, 12)))),       # 시간대 별 구매비율 추가\n",
    "        ('점심_구매비율', lambda x: np.mean(x.dt.hour.isin(range(12, 18)))),      # 시간대 별 구매비율 추가\n",
    "        ('저녁_구매비율', lambda x:np.mean(x.dt.hour.isin(range(18, 22)))),       # 시간대 별 구매비율 추가\n",
    "        ('야간_구매비율', lambda x:np.mean(~x.dt.hour.isin(range(6, 22)))),       # 시간대 별 구매비율 추가\n",
    "\n",
    "        ('아침_구매건수', lambda x: np.sum(x.dt.hour.isin(range(6, 12)))),       # 시간대 별 구매건수 추가\n",
    "        ('점심_구매건수', lambda x: np.sum(x.dt.hour.isin(range(12, 18)))),      # 시간대 별 구매건수 추가\n",
    "        ('저녁_구매건수', lambda x:np.sum(x.dt.hour.isin(range(18, 22)))),       # 시간대 별 구매건수 추가\n",
    "        ('야간_구매건수', lambda x:np.sum(~x.dt.hour.isin(range(6, 22)))),       # 시간대 별 구매건수 추가\n",
    "\n",
    "        ('월초_구매비율', lambda x: np.mean(x.dt.day <= 10)),                     # 월초 구매비율 추가(10일 이전)\n",
    "        ('월말_구매비율', lambda x: np.mean(x.dt.day >= 20)),                     # 월말 구매비율 추가(20일 이후)\n",
    "\n",
    "        ('월초_구매건수', lambda x: np.sum(x.dt.day <= 10)),                     # 월초 구매건수 추가(10일 이전)\n",
    "        ('월말_구매건수', lambda x: np.sum(x.dt.day >= 20)),                     # 월말 구매건수 추가(20일 이후)\n",
    "\n",
    "        (\"주_구매_월\", lambda x: x.dt.month.mode()[0]),         # 주구매 월 추가\n",
    "        (\"주_구매시간대\", lambda x: x.dt.hour.mode()[0]),       # 주구매 시간대 추가\n",
    "\n",
    "        ('웨딩성수기_구매비율', lambda x: np.mean(x.dt.month.isin([4, 5, 9, 10]))),  # 결혼 성수기 시즌 구매 비율\n",
    "        ('웨딩성수기_구매횟수', lambda x: ((x.dt.month == 4) | (x.dt.month == 5) | (x.dt.month == 9) | (x.dt.month == 10)).sum()),  # 결혼 성수기 시즌 구매 횟수\n",
    "        \n",
    "        ('1월_구매비율', lambda x: np.mean(x.dt.month == 1)), # 1월 구매비율\n",
    "        ('2월_구매비율', lambda x: np.mean(x.dt.month == 2)), # 2월 구매비율\n",
    "        ('3월_구매비율', lambda x: np.mean(x.dt.month == 3)), # 3월 구매비율\n",
    "        ('4월_구매비율', lambda x: np.mean(x.dt.month == 4)), # 4월 구매비율\n",
    "        ('5월_구매비율', lambda x: np.mean(x.dt.month == 5)), # 5월 구매비율\n",
    "        ('6월_구매비율', lambda x: np.mean(x.dt.month == 6)), # 6월 구매비율\n",
    "        ('7월_구매비율', lambda x: np.mean(x.dt.month == 7)), # 7월 구매비율\n",
    "        ('8월_구매비율', lambda x: np.mean(x.dt.month == 8)), # 8월 구매비율\n",
    "        ('9월_구매비율', lambda x: np.mean(x.dt.month == 9)), # 9월 구매비율\n",
    "        ('10월_구매비율', lambda x: np.mean(x.dt.month == 10)), # 10월 구매비율\n",
    "        ('11월_구매비율', lambda x: np.mean(x.dt.month == 11)), # 11월 구매비율\n",
    "        ('12월_구매비율', lambda x: np.mean(x.dt.month == 12)), # 12월 구매비율\n",
    "\n",
    "        ('1월_구매횟수', lambda x: (x.dt.month == 1).sum()),  # 1월 구매 횟수\n",
    "        ('2월_구매횟수', lambda x: (x.dt.month == 2).sum()),  # 2월 구매 횟수\n",
    "        ('3월_구매횟수', lambda x: (x.dt.month == 3).sum()),  # 3월 구매 횟수\n",
    "        ('4월_구매횟수', lambda x: (x.dt.month == 4).sum()),  # 4월 구매 횟수\n",
    "        ('5월_구매횟수', lambda x: (x.dt.month == 5).sum()),  # 5월 구매 횟수\n",
    "        ('6월_구매횟수', lambda x: (x.dt.month == 6).sum()),  # 6월 구매 횟수\n",
    "        ('7월_구매횟수', lambda x: (x.dt.month == 7).sum()),  # 7월 구매 횟수\n",
    "        ('8월_구매횟수', lambda x: (x.dt.month == 8).sum()),  # 8월 구매 횟수\n",
    "        ('9월_구매횟수', lambda x: (x.dt.month == 9).sum()),  # 9월 구매 횟수\n",
    "        ('10월_구매횟수', lambda x: (x.dt.month == 10).sum()),  # 10월 구매 횟수\n",
    "        ('11월_구매횟수', lambda x: (x.dt.month == 11).sum()),  # 11월 구매 횟수\n",
    "        ('12월_구매횟수', lambda x: (x.dt.month == 12).sum()),   # 12월 구매 횟수\n",
    "\n",
    "        ('1월_방문횟수', lambda x: x[x.dt.month == 1].dt.date.nunique()),\n",
    "        ('2월_방문횟수', lambda x: x[x.dt.month == 2].dt.date.nunique()),\n",
    "        ('3월_방문횟수', lambda x: x[x.dt.month == 3].dt.date.nunique()),\n",
    "        ('4월_방문횟수', lambda x: x[x.dt.month == 4].dt.date.nunique()),\n",
    "        ('5월_방문횟수', lambda x: x[x.dt.month == 5].dt.date.nunique()),\n",
    "        ('6월_방문횟수', lambda x: x[x.dt.month == 6].dt.date.nunique()),\n",
    "        ('7월_방문횟수', lambda x: x[x.dt.month == 7].dt.date.nunique()),\n",
    "        ('8월_방문횟수', lambda x: x[x.dt.month == 8].dt.date.nunique()),\n",
    "        ('9월_방문횟수', lambda x: x[x.dt.month == 9].dt.date.nunique()),\n",
    "        ('10월_방문횟수', lambda x: x[x.dt.month == 10].dt.date.nunique()),\n",
    "        ('11월_방문횟수', lambda x: x[x.dt.month == 11].dt.date.nunique()),\n",
    "        ('12월_방문횟수', lambda x: x[x.dt.month == 12].dt.date.nunique()),\n",
    "\n",
    "        (\"공휴일_구매유무\", lambda x: x.dt.date.isin(holidays.date).any().astype(int)),     # 공휴일 구매 유무(0과 1로 반환)\n",
    "        (\"공휴일_구매비율\", lambda x: np.mean(x.dt.date.isin(holidays.date))),  # 공휴일 구매 비율\n",
    "        (\"여름휴가_구매비율\", lambda x: np.mean(x.dt.month.isin([7,8]))),   # 방학,여름휴가(7,8월) 구매비율\n",
    "        (\"연말_구매비율\", lambda x: np.mean(x.dt.month.isin([12,1,2]))),    # 연말(12월~2월) 구매비율\n",
    "    ]\n",
    "\n",
    "tmp = train_tr.groupby('ID')[\"구매일시\"].agg(agg_list).reset_index()\n",
    "train_ft = train_ft.merge(tmp, how='left',on=\"ID\")\n",
    "\n",
    "tmp = test_tr.groupby('ID')[\"구매일시\"].agg(agg_list).reset_index()\n",
    "test_ft = test_ft.merge(tmp, how='left',on=\"ID\")\n",
    "\n",
    "train_ft.shape, test_ft.shape"
   ]
  },
  {
   "cell_type": "markdown",
   "metadata": {},
   "source": [
    "- 월별 구매금액"
   ]
  },
  {
   "cell_type": "code",
   "execution_count": 9,
   "metadata": {},
   "outputs": [
    {
     "data": {
      "text/plain": [
       "((14940, 79), (12225, 79))"
      ]
     },
     "execution_count": 9,
     "metadata": {},
     "output_type": "execute_result"
    }
   ],
   "source": [
    "for i in range(1,13):\n",
    "    train_tmp = train_tr[train_tr[\"구매일시\"].dt.month == i].groupby(\"ID\")[\"구매가격\"].sum().reset_index(name=f\"{i}월_구매금액\")\n",
    "    train_ft = train_ft.merge(train_tmp, on= \"ID\", how = \"left\")\n",
    "    train_ft[f\"{i}월_구매금액\"] = train_ft[f\"{i}월_구매금액\"].fillna(0)\n",
    "\n",
    "    test_tmp = test_tr[test_tr[\"구매일시\"].dt.month == i].groupby(\"ID\")[\"구매가격\"].sum().reset_index(name=f\"{i}월_구매금액\")\n",
    "    test_ft = test_ft.merge(test_tmp, on= \"ID\", how = \"left\")\n",
    "    test_ft[f\"{i}월_구매금액\"] = test_ft[f\"{i}월_구매금액\"].fillna(0)\n",
    "\n",
    "train_ft.shape, test_ft.shape"
   ]
  },
  {
   "cell_type": "markdown",
   "metadata": {},
   "source": [
    "- 휴면회원 여부"
   ]
  },
  {
   "cell_type": "code",
   "execution_count": 10,
   "metadata": {},
   "outputs": [
    {
     "data": {
      "text/plain": [
       "((14940, 81), (12225, 81))"
      ]
     },
     "execution_count": 10,
     "metadata": {},
     "output_type": "execute_result"
    }
   ],
   "source": [
    "agg_list = [(\"최근구매일\", lambda x: int( (x.max() - x.min()).days))]\n",
    "\n",
    "sort_value = train_tr.sort_values([\"ID\", \"구매일시\"], ascending= False).drop_duplicates(subset=[\"ID\", \"구매일시\"],keep='first').groupby(\"ID\").head(2)\n",
    "tmp = sort_value.groupby('ID')[\"구매일시\"].agg(agg_list).reset_index()\n",
    "tmp[\"휴면회원\"] = (tmp[\"최근구매일\"] > 90).astype(int)\n",
    "train_ft = train_ft.merge(tmp, how= 'left', on= \"ID\")\n",
    "\n",
    "sort_value = test_tr.sort_values([\"ID\", \"구매일시\"], ascending= False).drop_duplicates(subset=[\"ID\", \"구매일시\"],keep='first').groupby(\"ID\").head(2)\n",
    "tmp = sort_value.groupby('ID')[\"구매일시\"].agg(agg_list).reset_index()\n",
    "tmp[\"휴면회원\"] = (tmp[\"최근구매일\"] > 90).astype(int)\n",
    "test_ft = test_ft.merge(tmp, how= 'left', on= \"ID\")\n",
    "\n",
    "train_ft.shape, test_ft.shape"
   ]
  },
  {
   "cell_type": "markdown",
   "metadata": {
    "id": "Oxm1aP9bstSP"
   },
   "source": [
    "## 지점을 이용한 특성생성"
   ]
  },
  {
   "cell_type": "code",
   "execution_count": 11,
   "metadata": {
    "id": "NAhiyQqgmAna"
   },
   "outputs": [
    {
     "data": {
      "text/plain": [
       "((14940, 84), (12225, 84))"
      ]
     },
     "execution_count": 11,
     "metadata": {},
     "output_type": "execute_result"
    }
   ],
   "source": [
    "agg_list = [\n",
    "          (\"방문지점수\",\"nunique\"),\n",
    "          ('주구매지점', lambda x: x.mode()[0]),\n",
    "          \n",
    "          (\"지점다양성_비율\", lambda x: x.nunique() / len(x)), # 지점 다양성 비율 추가\n",
    "    ]\n",
    "\n",
    "tmp = train_tr.groupby('ID')[\"지점코드\"].agg(agg_list).reset_index()\n",
    "train_ft = train_ft.merge(tmp, how='left',on=\"ID\")\n",
    "\n",
    "tmp = test_tr.groupby('ID')[\"지점코드\"].agg(agg_list).reset_index()\n",
    "test_ft = test_ft.merge(tmp, how='left',on=\"ID\")\n",
    "\n",
    "train_ft.shape, test_ft.shape"
   ]
  },
  {
   "cell_type": "markdown",
   "metadata": {
    "id": "MC7i927ntZMf"
   },
   "source": [
    "## 브랜드코드를 이용한 특성생성"
   ]
  },
  {
   "cell_type": "code",
   "execution_count": 12,
   "metadata": {
    "id": "U55_ClZktWbf"
   },
   "outputs": [
    {
     "data": {
      "text/plain": [
       "((14940, 86), (12225, 86))"
      ]
     },
     "execution_count": 12,
     "metadata": {},
     "output_type": "execute_result"
    }
   ],
   "source": [
    "agg_list = [\n",
    "             ('브랜드코드_nunique', 'nunique'),\n",
    "\n",
    "             ('브랜드다양성_비율',lambda x: x.nunique() / len(x)) # 브랜드다양성 추가\n",
    "\n",
    "             ]\n",
    "\n",
    "tmp = train_tr.groupby('ID')[\"브랜드코드\"].agg(agg_list).reset_index()\n",
    "train_ft = train_ft.merge(tmp, how='left',on=\"ID\")\n",
    "\n",
    "tmp = test_tr.groupby('ID')[\"브랜드코드\"].agg(agg_list).reset_index()\n",
    "test_ft = test_ft.merge(tmp, how='left',on=\"ID\")\n",
    "\n",
    "train_ft.shape, test_ft.shape"
   ]
  },
  {
   "cell_type": "markdown",
   "metadata": {
    "id": "S-mYObgFtrgD"
   },
   "source": [
    "## 중분류를 이용한 특성생성"
   ]
  },
  {
   "cell_type": "code",
   "execution_count": 13,
   "metadata": {
    "id": "foQqMMKatWV2"
   },
   "outputs": [
    {
     "data": {
      "text/plain": [
       "((14940, 88), (12225, 88))"
      ]
     },
     "execution_count": 13,
     "metadata": {},
     "output_type": "execute_result"
    }
   ],
   "source": [
    "agg_list = [\n",
    "            ('중분류_nunique', 'nunique'),\n",
    "            ('주구매_중분류', lambda x: x.mode()[0]),\n",
    "            ]\n",
    "tmp = train_tr.groupby('ID')[\"중분류\"].agg(agg_list).reset_index()\n",
    "train_ft = train_ft.merge(tmp, on= \"ID\", how='left')\n",
    "\n",
    "tmp = test_tr.groupby('ID')[\"중분류\"].agg(agg_list).reset_index()\n",
    "test_ft = test_ft.merge(tmp, on= \"ID\", how='left')\n",
    "\n",
    "train_ft.shape, test_ft.shape"
   ]
  },
  {
   "cell_type": "markdown",
   "metadata": {},
   "source": [
    "- 중분류 중 아동 관련 구매비중과 구매횟수"
   ]
  },
  {
   "cell_type": "code",
   "execution_count": 14,
   "metadata": {},
   "outputs": [],
   "source": [
    "kids_lst = [\n",
    "    '아동복', '아동', '완구(문화)', '문구_팬시', '완구',\n",
    "    '신생아', '팬시코너(문화)', '아동잡화', '유아복', '팬시',\n",
    "    '유아', '아동단품', '문구', '원목(주니어)', '원목_주니어',\n",
    "    '아동특선', '문구(문화)', '유아발육기'\n",
    "]"
   ]
  },
  {
   "cell_type": "code",
   "execution_count": 15,
   "metadata": {},
   "outputs": [],
   "source": [
    "# 아동 관련 중분류의 구매금액 합계\n",
    "kids_semi_categories = train_tr[train_tr['중분류'].isin(kids_lst)]\n",
    "for_kids = kids_semi_categories.groupby(\"ID\")[\"구매가격\"].sum().reset_index()\n",
    "for_kids.rename(columns={\"구매가격\": \"아동관련_구매금액\"}, inplace=True)\n",
    "\n",
    "# 아동 관련 중분류의 구매 횟수\n",
    "kids_purchase_count = kids_semi_categories.groupby(\"ID\")[\"구매가격\"].count().reset_index()\n",
    "kids_purchase_count.rename(columns={\"구매가격\": \"아동_중분류_구매횟수\"}, inplace=True)\n",
    "\n",
    "# 전체 구매금액 합계\n",
    "total = train_tr.groupby(\"ID\")[\"구매가격\"].sum().reset_index()\n",
    "total.rename(columns={\"구매가격\": \"전체_구매금액\"}, inplace=True)\n",
    "\n",
    "# 아동 관련 중분류 구매비중\n",
    "tmp = pd.merge(for_kids, total, on=\"ID\", how=\"left\")\n",
    "tmp[\"아동_중분류_구매비중\"] = tmp[\"아동관련_구매금액\"] / tmp[\"전체_구매금액\"]\n",
    "\n",
    "# tmp = 구매비중과 구매횟수\n",
    "tmp = pd.merge(tmp, kids_purchase_count, on=\"ID\", how=\"left\")\n",
    "\n",
    "# 최종 병합\n",
    "train_ft = pd.merge(train_ft, tmp[[\"ID\", \"아동_중분류_구매비중\", \"아동_중분류_구매횟수\"]], on=\"ID\", how=\"left\")\n",
    "\n",
    "train_ft[\"아동_중분류_구매비중\"] = train_ft[\"아동_중분류_구매비중\"].fillna(0)\n",
    "train_ft[\"아동_중분류_구매횟수\"] = train_ft[\"아동_중분류_구매횟수\"].fillna(0)\n"
   ]
  },
  {
   "cell_type": "code",
   "execution_count": 16,
   "metadata": {},
   "outputs": [
    {
     "data": {
      "text/plain": [
       "((14940, 90), (12225, 90))"
      ]
     },
     "execution_count": 16,
     "metadata": {},
     "output_type": "execute_result"
    }
   ],
   "source": [
    "# 아동 관련 중분류의 구매금액 합계\n",
    "kids_semi_categories = test_tr[test_tr['중분류'].isin(kids_lst)]\n",
    "for_kids = kids_semi_categories.groupby(\"ID\")[\"구매가격\"].sum().reset_index()\n",
    "for_kids.rename(columns={\"구매가격\": \"아동관련_구매금액\"}, inplace=True)\n",
    "\n",
    "# 아동 관련 중분류의 구매 횟수\n",
    "kids_purchase_count = kids_semi_categories.groupby(\"ID\")[\"구매가격\"].count().reset_index()\n",
    "kids_purchase_count.rename(columns={\"구매가격\": \"아동_중분류_구매횟수\"}, inplace=True)\n",
    "\n",
    "# 전체 구매금액 합계\n",
    "total = test_tr.groupby(\"ID\")[\"구매가격\"].sum().reset_index()\n",
    "total.rename(columns={\"구매가격\": \"전체_구매금액\"}, inplace=True)\n",
    "\n",
    "# 아동 관련 중분류 구매비중\n",
    "tmp = pd.merge(for_kids, total, on=\"ID\", how=\"left\")\n",
    "tmp[\"아동_중분류_구매비중\"] = tmp[\"아동관련_구매금액\"] / tmp[\"전체_구매금액\"]\n",
    "\n",
    "# tmp = 구매비중과 구매횟수\n",
    "tmp = pd.merge(tmp, kids_purchase_count, on=\"ID\", how=\"left\")\n",
    "\n",
    "# 최종 병합\n",
    "test_ft = pd.merge(test_ft, tmp[[\"ID\", \"아동_중분류_구매비중\", \"아동_중분류_구매횟수\"]], on=\"ID\", how=\"left\")\n",
    "\n",
    "test_ft[\"아동_중분류_구매비중\"] = test_ft[\"아동_중분류_구매비중\"].fillna(0)\n",
    "test_ft[\"아동_중분류_구매횟수\"] = test_ft[\"아동_중분류_구매횟수\"].fillna(0)\n",
    "\n",
    "\n",
    "train_ft.shape, test_ft.shape"
   ]
  },
  {
   "cell_type": "markdown",
   "metadata": {},
   "source": [
    "- 중분류 중 생식품 관련 구매비중과 구매횟수"
   ]
  },
  {
   "cell_type": "code",
   "execution_count": 17,
   "metadata": {},
   "outputs": [],
   "source": [
    "grocery_lst = train_tr[train_tr['대분류'] == '생식품']['중분류'].unique().tolist()\n",
    "grocery_lst.extend(train_tr[train_tr['대분류'] == '생식품파트']['중분류'].unique().tolist())"
   ]
  },
  {
   "cell_type": "code",
   "execution_count": 18,
   "metadata": {},
   "outputs": [
    {
     "data": {
      "text/plain": [
       "((14940, 92), (12225, 92))"
      ]
     },
     "execution_count": 18,
     "metadata": {},
     "output_type": "execute_result"
    }
   ],
   "source": [
    "# 생식품 관련 중분류의 구매금액 합계\n",
    "fresh_food_semi_categories = train_tr[train_tr['중분류'].isin(grocery_lst)]\n",
    "for_fresh_food = fresh_food_semi_categories.groupby(\"ID\")[\"구매가격\"].sum().reset_index()\n",
    "for_fresh_food.rename(columns={\"구매가격\": \"생식품관련_구매금액\"}, inplace=True)\n",
    "\n",
    "# 생식품 관련 중분류의 구매횟수\n",
    "purchase_count = fresh_food_semi_categories.groupby(\"ID\")[\"구매가격\"].count().reset_index()\n",
    "purchase_count.rename(columns={\"구매가격\": \"생식품_중분류_구매횟수\"}, inplace=True)\n",
    "\n",
    "# 전체 구매금액 합계\n",
    "total = train_tr.groupby(\"ID\")[\"구매가격\"].sum().reset_index()\n",
    "total.rename(columns={\"구매가격\": \"전체_구매금액\"}, inplace=True)\n",
    "\n",
    "# 생식품 관련 구매금액을 전체 구매금액으로 나눠 생식품 구입 비중\n",
    "tmp = pd.merge(for_fresh_food, total, on=\"ID\", how=\"left\")\n",
    "tmp[\"생식품_중분류_구매비중\"] = tmp[\"생식품관련_구매금액\"] / tmp[\"전체_구매금액\"]\n",
    "\n",
    "# tmp = 생식품 구매비중, 구매횟수\n",
    "tmp = pd.merge(tmp, purchase_count, on=\"ID\", how=\"left\")\n",
    "\n",
    "train_ft = pd.merge(train_ft, tmp[[\"ID\", \"생식품_중분류_구매비중\", \"생식품_중분류_구매횟수\"]], on=\"ID\", how=\"left\")\n",
    "\n",
    "train_ft[\"생식품_중분류_구매비중\"] = train_ft[\"생식품_중분류_구매비중\"].fillna(0)\n",
    "train_ft[\"생식품_중분류_구매횟수\"] = train_ft[\"생식품_중분류_구매횟수\"].fillna(0)\n",
    "\n",
    "\n",
    "\n",
    "# 생식품 관련 중분류의 구매금액 합계\n",
    "fresh_food_semi_categories = test_tr[test_tr['중분류'].isin(grocery_lst)]\n",
    "for_fresh_food = fresh_food_semi_categories.groupby(\"ID\")[\"구매가격\"].sum().reset_index()\n",
    "for_fresh_food.rename(columns={\"구매가격\": \"생식품관련_구매금액\"}, inplace=True)\n",
    "\n",
    "# 생식품 관련 중분류의 구매횟수\n",
    "purchase_count = fresh_food_semi_categories.groupby(\"ID\")[\"구매가격\"].count().reset_index()\n",
    "purchase_count.rename(columns={\"구매가격\": \"생식품_중분류_구매횟수\"}, inplace=True)\n",
    "\n",
    "# 전체 구매금액 합계\n",
    "total = test_tr.groupby(\"ID\")[\"구매가격\"].sum().reset_index()\n",
    "total.rename(columns={\"구매가격\": \"전체_구매금액\"}, inplace=True)\n",
    "\n",
    "# 생식품 관련 구매금액을 전체 구매금액으로 나눠 생식품 구입 비중\n",
    "tmp = pd.merge(for_fresh_food, total, on=\"ID\", how=\"left\")\n",
    "tmp[\"생식품_중분류_구매비중\"] = tmp[\"생식품관련_구매금액\"] / tmp[\"전체_구매금액\"]\n",
    "\n",
    "\n",
    "# tmp = 생식품 구매비중, 구매횟수\n",
    "tmp = pd.merge(tmp, purchase_count, on=\"ID\", how=\"left\")\n",
    "\n",
    "test_ft = pd.merge(test_ft, tmp[[\"ID\", \"생식품_중분류_구매비중\", \"생식품_중분류_구매횟수\"]], on=\"ID\", how=\"left\")\n",
    "\n",
    "test_ft[\"생식품_중분류_구매비중\"] = test_ft[\"생식품_중분류_구매비중\"].fillna(0)\n",
    "test_ft[\"생식품_중분류_구매횟수\"] = test_ft[\"생식품_중분류_구매횟수\"].fillna(0)\n",
    "\n",
    "train_ft.shape, test_ft.shape"
   ]
  },
  {
   "cell_type": "markdown",
   "metadata": {
    "id": "ZvwbAgMluAlT"
   },
   "source": [
    "## 대분류를 이용한 특성생성"
   ]
  },
  {
   "cell_type": "code",
   "execution_count": 19,
   "metadata": {},
   "outputs": [
    {
     "data": {
      "text/html": [
       "<div>\n",
       "<style scoped>\n",
       "    .dataframe tbody tr th:only-of-type {\n",
       "        vertical-align: middle;\n",
       "    }\n",
       "\n",
       "    .dataframe tbody tr th {\n",
       "        vertical-align: top;\n",
       "    }\n",
       "\n",
       "    .dataframe thead th {\n",
       "        text-align: right;\n",
       "    }\n",
       "</style>\n",
       "<table border=\"1\" class=\"dataframe\">\n",
       "  <thead>\n",
       "    <tr style=\"text-align: right;\">\n",
       "      <th></th>\n",
       "      <th>ID</th>\n",
       "      <th>구매일시</th>\n",
       "      <th>지점코드</th>\n",
       "      <th>대분류</th>\n",
       "      <th>중분류</th>\n",
       "      <th>브랜드코드</th>\n",
       "      <th>구매가격</th>\n",
       "      <th>대분류_수정</th>\n",
       "    </tr>\n",
       "  </thead>\n",
       "  <tbody>\n",
       "    <tr>\n",
       "      <th>0</th>\n",
       "      <td>train_13219</td>\n",
       "      <td>2004-05-01 09:40:00</td>\n",
       "      <td>A144000</td>\n",
       "      <td>공산품파트</td>\n",
       "      <td>차류</td>\n",
       "      <td>5100</td>\n",
       "      <td>59700</td>\n",
       "      <td>생식품</td>\n",
       "    </tr>\n",
       "    <tr>\n",
       "      <th>1</th>\n",
       "      <td>train_5590</td>\n",
       "      <td>2004-05-01 09:40:00</td>\n",
       "      <td>A144000</td>\n",
       "      <td>잡화파트</td>\n",
       "      <td>화장잡화</td>\n",
       "      <td>5101</td>\n",
       "      <td>17000</td>\n",
       "      <td>의류</td>\n",
       "    </tr>\n",
       "    <tr>\n",
       "      <th>2</th>\n",
       "      <td>train_7200</td>\n",
       "      <td>2004-05-01 10:20:00</td>\n",
       "      <td>A112000</td>\n",
       "      <td>공산품</td>\n",
       "      <td>용기보증</td>\n",
       "      <td>5100</td>\n",
       "      <td>34937</td>\n",
       "      <td>생식품</td>\n",
       "    </tr>\n",
       "    <tr>\n",
       "      <th>3</th>\n",
       "      <td>train_3010</td>\n",
       "      <td>2004-05-01 10:30:00</td>\n",
       "      <td>A373000</td>\n",
       "      <td>아동_스포츠</td>\n",
       "      <td>아동복</td>\n",
       "      <td>5105</td>\n",
       "      <td>19000</td>\n",
       "      <td>아동</td>\n",
       "    </tr>\n",
       "    <tr>\n",
       "      <th>4</th>\n",
       "      <td>train_10851</td>\n",
       "      <td>2004-05-01 10:30:00</td>\n",
       "      <td>A112000</td>\n",
       "      <td>가정용품</td>\n",
       "      <td>전화기_카세트</td>\n",
       "      <td>5110</td>\n",
       "      <td>215000</td>\n",
       "      <td>가정용품</td>\n",
       "    </tr>\n",
       "  </tbody>\n",
       "</table>\n",
       "</div>"
      ],
      "text/plain": [
       "            ID                구매일시     지점코드     대분류      중분류  브랜드코드    구매가격  \\\n",
       "0  train_13219 2004-05-01 09:40:00  A144000   공산품파트       차류   5100   59700   \n",
       "1   train_5590 2004-05-01 09:40:00  A144000    잡화파트     화장잡화   5101   17000   \n",
       "2   train_7200 2004-05-01 10:20:00  A112000     공산품     용기보증   5100   34937   \n",
       "3   train_3010 2004-05-01 10:30:00  A373000  아동_스포츠      아동복   5105   19000   \n",
       "4  train_10851 2004-05-01 10:30:00  A112000    가정용품  전화기_카세트   5110  215000   \n",
       "\n",
       "  대분류_수정  \n",
       "0    생식품  \n",
       "1     의류  \n",
       "2    생식품  \n",
       "3     아동  \n",
       "4   가정용품  "
      ]
     },
     "execution_count": 19,
     "metadata": {},
     "output_type": "execute_result"
    }
   ],
   "source": [
    "# 새로운 대분류 범주 생성\n",
    "def classification(x):\n",
    "    lst_kids = ['아동_스포츠', '아동문화', '케주얼_구두_아동', '아동']\n",
    "    lst_young = [\"영어덜트캐쥬얼\", \"영캐릭터\", \"영플라자\", \"영라이브\"]\n",
    "    lst_foods = [\"생식품파트\", \"생식품\", \"공산품\", \"공산품파트\",]\n",
    "    lst_home = [\"가정용품파트\", \"가정용품\"]\n",
    "    lst_clothes = [\"스포츠캐쥬얼\", \"패션잡화\", \"여성캐쥬얼\",\"여성캐주얼\", \"남성정장스포츠\",\n",
    "                   \"남성의류\", \"여성정장\", \"여성의류파트\", \"골프_유니캐쥬얼\", \"잡화\", \"잡화파트\" ]\n",
    "    lst_loyal = [\"명품잡화\", \"로얄부띠끄\", \"로얄부틱\"]\n",
    "\n",
    "    if x in lst_kids:\n",
    "        ans = \"아동\"\n",
    "    elif x in lst_foods:\n",
    "        ans = \"생식품\"\n",
    "    elif x in lst_home:\n",
    "        ans = \"가정용품\" \n",
    "    elif x in lst_clothes:\n",
    "        ans = \"의류\"      \n",
    "    elif x in lst_loyal:\n",
    "        ans = \"명품\" \n",
    "    elif x in lst_young:\n",
    "        ans = \"영\"\n",
    "    else:\n",
    "        ans = \"기타\"\n",
    "    return ans\n",
    "\n",
    "train_tr[\"대분류_수정\"] = train_tr[\"대분류\"].apply(classification)\n",
    "test_tr[\"대분류_수정\"] = test_tr[\"대분류\"].apply(classification)\n",
    "\n",
    "train_tr.head()"
   ]
  },
  {
   "cell_type": "code",
   "execution_count": null,
   "metadata": {},
   "outputs": [
    {
     "data": {
      "text/plain": [
       "((14940, 109), (12225, 109))"
      ]
     },
     "execution_count": 20,
     "metadata": {},
     "output_type": "execute_result"
    }
   ],
   "source": [
    "agg_list = [\n",
    "            ('대분류_수정_nunique', 'nunique'),                 # 대분류_수정 기준 구매횟수\n",
    "            ('주구매_대분류_수정', lambda x: x.mode()[0]),      # 대분류_수정 기준 주구매\n",
    "\n",
    "            ('대분류_수정_아동_구매여부', lambda x: int(x.str.contains(\"아동\").any())),              # 대분류_수정에서 아동 구매 여부(1/0)\n",
    "            ('대분류_수정_생식품_구매여부', lambda x: int(x.str.contains(\"생식품\").any())),          # 대분류_수정에서 생식품 구매 여부(1/0)\n",
    "            ('대분류_수정_가정용품_구매여부', lambda x: int(x.str.contains(\"가정용품\").any())),      # 대분류_수정에서 가정용품 구매 여부(1/0)\n",
    "            ('대분류_수정_의류_구매여부', lambda x: int(x.str.contains(\"의류\").any())),              # 대분류_수정에서 의류 구매 여부(1/0)\n",
    "            ('대분류_수정_명품_구매여부', lambda x: int(x.str.contains(\"명품\").any())),              # 대분류_수정에서 명품 구매 여부(1/0)\n",
    "\n",
    "            ('대분류_수정_아동_구매횟수', lambda x: int(x.str.contains(\"아동\").sum())),              # 대분류_수정에서 아동 구매횟수\n",
    "            ('대분류_수정_생식품_구매횟수', lambda x: int(x.str.contains(\"생식품\").sum())),          # 대분류_수정에서 생식품 구매횟수\n",
    "            ('대분류_수정_가정용품_구매횟수', lambda x: int(x.str.contains(\"가정용품\").sum())),      # 대분류_수정에서 가정용품 구매횟수\n",
    "            ('대분류_수정_의류_구매횟수', lambda x: int(x.str.contains(\"의류\").sum())),              # 대분류_수정에서 의류 구매횟수\n",
    "            ('대분류_수정_명품_구매횟수', lambda x: int(x.str.contains(\"명품\").sum())),              # 대분류_수정에서 명품 구매횟수\n",
    "\n",
    "            ]\n",
    "\n",
    "tmp = train_tr.groupby('ID')[\"대분류_수정\"].agg(agg_list).reset_index()\n",
    "train_ft = train_ft.merge(tmp, on= \"ID\", how='left')\n",
    "\n",
    "tmp = test_tr.groupby('ID')[\"대분류_수정\"].agg(agg_list).reset_index()\n",
    "test_ft = test_ft.merge(tmp, on= \"ID\", how='left')\n",
    "\n",
    "train_ft.shape, test_ft.shape"
   ]
  },
  {
   "cell_type": "markdown",
   "metadata": {
    "id": "7mMqLIDKuTgB"
   },
   "source": [
    "## 구매가격을 이용한 특성생성"
   ]
  },
  {
   "cell_type": "code",
   "execution_count": 29,
   "metadata": {
    "id": "rlrGtiLZtIuI"
   },
   "outputs": [
    {
     "data": {
      "text/plain": [
       "((14940, 120), (12225, 120))"
      ]
     },
     "execution_count": 29,
     "metadata": {},
     "output_type": "execute_result"
    }
   ],
   "source": [
    "agg_list = [\n",
    "        ('총구매액',lambda x: x[x > 0].sum()),         # 0 이상에서 적용\n",
    "        ('구매건수', lambda x: x[x > 0].count()),      # 0 이상에서 적용\n",
    "        ('평균구매액', lambda x: x[x > 0].mean()),     # 0 이상에서 적용\n",
    "        ('최대구매액', 'max'),\n",
    "        ('최소구매액',lambda x: x[x > 0].min() ) ,\n",
    "        ('환불금액',lambda x: x[x < 0].sum() ) ,\n",
    "        ('환불건수', lambda x: ( x < 0 ).sum() ),\n",
    "        ('구매금액표준편차',lambda x: x[x > 0].std() ),\n",
    "\n",
    "        # ('평균저가구매비율', lambda x: (x <= 102479.91701049241).sum() / len(x)), # 저가 구매 비율 (구매 총평균에 비례)\n",
    "        # ('평균고가구매비율', lambda x: (x > 102479.91701049241).sum() / len(x)),   # 고가 구매 비율 (구매 총평균에 비례)\n",
    "\n",
    "        ('저가_구매횟수', lambda x: ((x > 0) & (x <= 28000)).sum()), \n",
    "        ('중저가_구매횟수', lambda x: ((x > 28000) & (x <= 58000)).sum()),\n",
    "        ('중고가_구매횟수', lambda x: ((x > 58000) & (x <= 128000)).sum()),\n",
    "        ('고가_구매횟수', lambda x: ((x > 128000) & (x <= 30820000)).sum()),\n",
    "\n",
    "        ('저가_구매횟수', lambda x: ((x > 0) & (x <= 28000)).mean()), \n",
    "        ('중저가_구매횟수', lambda x: ((x > 28000) & (x <= 58000)).mean()),\n",
    "        ('중고가_구매횟수', lambda x: ((x > 58000) & (x <= 128000)).mean()),\n",
    "        ('고가_구매횟수', lambda x: ((x > 128000) & (x <= 30820000)).mean())\n",
    "    ]\n",
    "\n",
    "tmp = train_tr.groupby('ID')[\"구매가격\"].agg(agg_list).reset_index()\n",
    "train_ft = train_ft.merge(tmp, on= \"ID\", how='left')\n",
    "train_ft[\"구매금액표준편차\"] = train_ft[\"구매금액표준편차\"].fillna(0)\n",
    "\n",
    "tmp = test_tr.groupby('ID')[\"구매가격\"].agg(agg_list).reset_index()\n",
    "test_ft = test_ft.merge(tmp, on= \"ID\", how='left')\n",
    "test_ft[\"구매금액표준편차\"] = test_ft[\"구매금액표준편차\"].fillna(0)\n",
    "\n",
    "train_ft.shape, test_ft.shape"
   ]
  },
  {
   "cell_type": "markdown",
   "metadata": {},
   "source": [
    "- 대분류_수정 기준 금액 합계\n"
   ]
  },
  {
   "cell_type": "code",
   "execution_count": 30,
   "metadata": {},
   "outputs": [
    {
     "data": {
      "text/plain": [
       "((14940, 126), (12225, 126))"
      ]
     },
     "execution_count": 30,
     "metadata": {},
     "output_type": "execute_result"
    }
   ],
   "source": [
    "for col in train_tr['대분류_수정'].unique():\n",
    "    tmp = train_tr[train_tr['대분류_수정'] == col].groupby('ID')[\"구매가격\"].sum().reset_index()\n",
    "    tmp.rename(columns={\"구매가격\" : f\"대분류_수정_{col}_구매금액\"}, inplace = True)\n",
    "    train_ft = train_ft.merge(tmp, on= \"ID\", how= \"left\")\n",
    "    train_ft[f\"대분류_수정_{col}_구매금액\"] = train_ft[f\"대분류_수정_{col}_구매금액\"].fillna(0)\n",
    "    \n",
    "\n",
    "for col in train_tr['대분류_수정'].unique():\n",
    "    tmp = test_tr[test_tr['대분류_수정'] == col].groupby('ID')[\"구매가격\"].sum().reset_index()\n",
    "    tmp.rename(columns={\"구매가격\" : f\"대분류_수정_{col}_구매금액\"}, inplace = True)\n",
    "    test_ft = test_ft.merge(tmp, on= \"ID\", how= \"left\")\n",
    "    test_ft[f\"대분류_수정_{col}_구매금액\"] = test_ft[f\"대분류_수정_{col}_구매금액\"].fillna(0)\n",
    "\n",
    "train_ft.shape, test_ft.shape"
   ]
  },
  {
   "cell_type": "markdown",
   "metadata": {},
   "source": [
    "- 대분류_수정 기준 구입비중\n"
   ]
  },
  {
   "cell_type": "code",
   "execution_count": 32,
   "metadata": {},
   "outputs": [
    {
     "data": {
      "text/plain": [
       "((14940, 131), (12225, 131))"
      ]
     },
     "execution_count": 32,
     "metadata": {},
     "output_type": "execute_result"
    }
   ],
   "source": [
    "train_ft[\"대분류_수정_아동_구입비중\"] = train_ft[\"대분류_수정_아동_구매금액\"] / train_ft[\"총구매액\"]\n",
    "train_ft[\"대분류_수정_가정용품_구입비중\"] = train_ft[\"대분류_수정_가정용품_구매금액\"] / train_ft[\"총구매액\"]\n",
    "train_ft[\"대분류_수정_의류_구입비중\"] = train_ft[\"대분류_수정_의류_구매금액\"] / train_ft[\"총구매액\"]\n",
    "train_ft[\"대분류_수정_생식품_구입비중\"] = train_ft[\"대분류_수정_생식품_구매금액\"] / train_ft[\"총구매액\"]\n",
    "train_ft[\"대분류_수정_명품_구입비중\"] = train_ft[\"대분류_수정_명품_구매금액\"] / train_ft[\"총구매액\"]\n",
    "\n",
    "test_ft[\"대분류_수정_아동_구입비중\"] = test_ft[\"대분류_수정_아동_구매금액\"] / test_ft[\"총구매액\"]\n",
    "test_ft[\"대분류_수정_가정용품_구입비중\"] = test_ft[\"대분류_수정_가정용품_구매금액\"] / test_ft[\"총구매액\"]\n",
    "test_ft[\"대분류_수정_의류_구입비중\"] = test_ft[\"대분류_수정_의류_구매금액\"] / test_ft[\"총구매액\"]\n",
    "test_ft[\"대분류_수정_생식품_구입비중\"] = test_ft[\"대분류_수정_생식품_구매금액\"] / test_ft[\"총구매액\"]\n",
    "test_ft[\"대분류_수정_명품_구입비중\"] = test_ft[\"대분류_수정_명품_구매금액\"] / test_ft[\"총구매액\"]\n",
    "\n",
    "train_ft.shape, test_ft.shape"
   ]
  },
  {
   "cell_type": "markdown",
   "metadata": {},
   "source": [
    "- 등급 범주 생성"
   ]
  },
  {
   "cell_type": "code",
   "execution_count": 33,
   "metadata": {},
   "outputs": [
    {
     "data": {
      "text/plain": [
       "((14940, 132), (12225, 132))"
      ]
     },
     "execution_count": 33,
     "metadata": {},
     "output_type": "execute_result"
    }
   ],
   "source": [
    "def grade(x):\n",
    "    if x >= 10000000:\n",
    "        ans = 1\n",
    "    elif 5000000 <= x & x < 10000000:\n",
    "        ans = 2\n",
    "    elif 1000000 <= x & x < 5000000:\n",
    "        ans = 3\n",
    "    elif 0 <= x & x < 1000000:\n",
    "        ans = 4\n",
    "    return ans\n",
    "\n",
    "train_ft[\"등급\"] = train_ft[\"총구매액\"].apply(grade)\n",
    "test_ft[\"등급\"] = test_ft[\"총구매액\"].apply(grade)\n",
    "\n",
    "train_ft.shape, test_ft.shape"
   ]
  },
  {
   "cell_type": "markdown",
   "metadata": {},
   "source": [
    "- 지점별 금액 합계"
   ]
  },
  {
   "cell_type": "code",
   "execution_count": 34,
   "metadata": {},
   "outputs": [
    {
     "name": "stderr",
     "output_type": "stream",
     "text": [
      "C:\\Users\\Public\\Documents\\ESTsoft\\CreatorTemp\\ipykernel_5732\\3346531936.py:21: UserWarning: Boolean Series key will be reindexed to match DataFrame index.\n",
      "  a373000_sum = (test_tr[train_tr[\"지점코드\"] == \"A373000\"].groupby('ID')['구매가격'].sum().reset_index(name='A373000지점_구매금액'))\n",
      "C:\\Users\\Public\\Documents\\ESTsoft\\CreatorTemp\\ipykernel_5732\\3346531936.py:24: UserWarning: Boolean Series key will be reindexed to match DataFrame index.\n",
      "  a202000_sum = (test_tr[train_tr[\"지점코드\"] == \"A202000\"].groupby('ID')['구매가격'].sum().reset_index(name='A202000지점_구매금액'))\n"
     ]
    },
    {
     "data": {
      "text/plain": [
       "((14940, 136), (12225, 136))"
      ]
     },
     "execution_count": 34,
     "metadata": {},
     "output_type": "execute_result"
    }
   ],
   "source": [
    "# 지점별 합계 금액 코드 추가 (train)\n",
    "a144000_sum = (train_tr[train_tr[\"지점코드\"] == \"A144000\"].groupby('ID')['구매가격'].sum().reset_index(name='A144000지점_구매금액'))\n",
    "train_ft = train_ft.merge(a144000_sum, how='left', on='ID')\n",
    "\n",
    "a112000_sum = (train_tr[train_tr[\"지점코드\"] == \"A112000\"].groupby('ID')['구매가격'].sum().reset_index(name='A112000지점_구매금액'))\n",
    "train_ft = train_ft.merge(a112000_sum, how='left', on='ID')\n",
    "\n",
    "a373000_sum = (train_tr[train_tr[\"지점코드\"] == \"A373000\"].groupby('ID')['구매가격'].sum().reset_index(name='A373000지점_구매금액'))\n",
    "train_ft = train_ft.merge(a373000_sum, how='left', on='ID')\n",
    "\n",
    "a202000_sum = (train_tr[train_tr[\"지점코드\"] == \"A202000\"].groupby('ID')['구매가격'].sum().reset_index(name='A202000지점_구매금액'))\n",
    "train_ft = train_ft.merge(a202000_sum, how='left', on='ID')\n",
    "\n",
    "#지점별 합계 금액 코드 추가 (test)\n",
    "a144000_sum = (test_tr[test_tr[\"지점코드\"] == \"A144000\"].groupby('ID')['구매가격'].sum().reset_index(name='A144000지점_구매금액'))\n",
    "test_ft = test_ft.merge(a144000_sum, how='left', on='ID')\n",
    "\n",
    "a112000_sum = (test_tr[test_tr[\"지점코드\"] == \"A112000\"].groupby('ID')['구매가격'].sum().reset_index(name='A112000지점_구매금액'))\n",
    "test_ft = test_ft.merge(a112000_sum, how='left', on='ID')\n",
    "\n",
    "a373000_sum = (test_tr[train_tr[\"지점코드\"] == \"A373000\"].groupby('ID')['구매가격'].sum().reset_index(name='A373000지점_구매금액'))\n",
    "test_ft = test_ft.merge(a373000_sum, how='left', on='ID')\n",
    "\n",
    "a202000_sum = (test_tr[train_tr[\"지점코드\"] == \"A202000\"].groupby('ID')['구매가격'].sum().reset_index(name='A202000지점_구매금액'))\n",
    "test_ft = test_ft.merge(a202000_sum, how='left', on='ID')\n",
    "\n",
    "train_ft[\"A144000지점_구매금액\"] = train_ft[\"A144000지점_구매금액\"].fillna(0)\n",
    "train_ft[\"A112000지점_구매금액\"] = train_ft[\"A112000지점_구매금액\"].fillna(0)\n",
    "train_ft[\"A373000지점_구매금액\"] = train_ft[\"A373000지점_구매금액\"].fillna(0)\n",
    "train_ft[\"A202000지점_구매금액\"] = train_ft[\"A202000지점_구매금액\"].fillna(0)\n",
    "\n",
    "test_ft[\"A144000지점_구매금액\"] = test_ft[\"A144000지점_구매금액\"].fillna(0)\n",
    "test_ft[\"A112000지점_구매금액\"] = test_ft[\"A112000지점_구매금액\"].fillna(0)\n",
    "test_ft[\"A373000지점_구매금액\"] = test_ft[\"A373000지점_구매금액\"].fillna(0)\n",
    "test_ft[\"A202000지점_구매금액\"] = test_ft[\"A202000지점_구매금액\"].fillna(0)\n",
    "\n",
    "train_ft.shape, test_ft.shape"
   ]
  },
  {
   "cell_type": "markdown",
   "metadata": {},
   "source": [
    "- 지점별 구매 브랜드 갯수"
   ]
  },
  {
   "cell_type": "code",
   "execution_count": 35,
   "metadata": {},
   "outputs": [
    {
     "data": {
      "text/plain": [
       "((14940, 140), (12225, 140))"
      ]
     },
     "execution_count": 35,
     "metadata": {},
     "output_type": "execute_result"
    }
   ],
   "source": [
    "#지점별 구매 브랜드 갯수 추가(train)\n",
    "a144000_brand_counts = ( train_tr[train_tr['지점코드'] == 'A144000'].groupby('ID')['브랜드코드'].nunique().reset_index(name='A1440000_구매브랜드_갯수'))\n",
    "train_ft = train_ft.merge(a144000_brand_counts, how='left', on='ID')\n",
    "\n",
    "a112000_brand_counts = ( train_tr[train_tr['지점코드'] == 'A112000'].groupby('ID')['브랜드코드'].nunique().reset_index(name='A112000_구매브랜드_갯수'))\n",
    "train_ft = train_ft.merge(a112000_brand_counts, how='left', on='ID')\n",
    "\n",
    "a373000_brand_counts = ( train_tr[train_tr['지점코드'] == 'A373000'].groupby('ID')['브랜드코드'].nunique().reset_index(name='A373000_구매브랜드_갯수'))\n",
    "train_ft = train_ft.merge(a373000_brand_counts, how='left', on='ID')\n",
    "\n",
    "a202000_brand_counts = ( train_tr[train_tr['지점코드'] == 'A202000'].groupby('ID')['브랜드코드'].nunique().reset_index(name='A202000_구매브랜드_갯수'))\n",
    "train_ft = train_ft.merge(a202000_brand_counts, how='left', on='ID')\n",
    "train_ft.head()\n",
    "\n",
    "#지점별 구매 브랜드 갯수 추가(test)\n",
    "a144000_brand_counts = ( test_tr[test_tr['지점코드'] == 'A144000'].groupby('ID')['브랜드코드'].nunique().reset_index(name='A1440000_구매브랜드_갯수'))\n",
    "test_ft = test_ft.merge(a144000_brand_counts, how='left', on='ID')\n",
    "\n",
    "a112000_brand_counts = ( test_tr[test_tr['지점코드'] == 'A112000'].groupby('ID')['브랜드코드'].nunique().reset_index(name='A112000_구매브랜드_갯수'))\n",
    "test_ft = test_ft.merge(a112000_brand_counts, how='left', on='ID')\n",
    "\n",
    "a373000_brand_counts = ( test_tr[test_tr['지점코드'] == 'A373000'].groupby('ID')['브랜드코드'].nunique().reset_index(name='A373000_구매브랜드_갯수'))\n",
    "test_ft = test_ft.merge(a373000_brand_counts, how='left', on='ID')\n",
    "\n",
    "a202000_brand_counts = ( test_tr[test_tr['지점코드'] == 'A202000'].groupby('ID')['브랜드코드'].nunique().reset_index(name='A202000_구매브랜드_갯수'))\n",
    "test_ft = test_ft.merge(a202000_brand_counts, how='left', on='ID')\n",
    "\n",
    "\n",
    "train_ft[\"A1440000_구매브랜드_갯수\"] = train_ft[\"A1440000_구매브랜드_갯수\"].fillna(0)\n",
    "train_ft[\"A112000_구매브랜드_갯수\"] = train_ft[\"A112000_구매브랜드_갯수\"].fillna(0)\n",
    "train_ft[\"A373000_구매브랜드_갯수\"] = train_ft[\"A373000_구매브랜드_갯수\"].fillna(0)\n",
    "train_ft[\"A202000_구매브랜드_갯수\"] = train_ft[\"A202000_구매브랜드_갯수\"].fillna(0)\n",
    "\n",
    "test_ft[\"A1440000_구매브랜드_갯수\"] = test_ft[\"A1440000_구매브랜드_갯수\"].fillna(0)\n",
    "test_ft[\"A112000_구매브랜드_갯수\"] = test_ft[\"A112000_구매브랜드_갯수\"].fillna(0)\n",
    "test_ft[\"A373000_구매브랜드_갯수\"] = test_ft[\"A373000_구매브랜드_갯수\"].fillna(0)\n",
    "test_ft[\"A202000_구매브랜드_갯수\"] = test_ft[\"A202000_구매브랜드_갯수\"].fillna(0)\n",
    "\n",
    "\n",
    "train_ft.shape, test_ft.shape"
   ]
  },
  {
   "cell_type": "markdown",
   "metadata": {},
   "source": [
    "## pivot_table을 이용한 특성 생성"
   ]
  },
  {
   "cell_type": "code",
   "execution_count": 36,
   "metadata": {},
   "outputs": [
    {
     "data": {
      "text/plain": [
       "((14940, 443), (12225, 443))"
      ]
     },
     "execution_count": 36,
     "metadata": {},
     "output_type": "execute_result"
    }
   ],
   "source": [
    "# 강사님 버전 \n",
    "\n",
    "train_tmp = pd.pivot_table(train_tr,index=\"ID\",columns=\"중분류\",values=\"구매가격\",aggfunc=\"count\",fill_value=0).add_prefix(\"pivot_cnt_\").reset_index()\n",
    "train_ft = train_ft.merge(train_tmp,how=\"left\",on=\"ID\")\n",
    "\n",
    "test_tmp = pd.pivot_table(test_tr,index=\"ID\",columns=\"중분류\",values=\"구매가격\",aggfunc=\"count\",fill_value=0).add_prefix(\"pivot_cnt_\").reset_index()\n",
    "\n",
    "for col in train_tmp.columns:\n",
    "    if col not in test_tmp.columns:\n",
    "        test_tmp[col] = 0\n",
    "\n",
    "test_tmp = test_tmp[train_tmp.columns]\n",
    "test_ft = test_ft.merge(test_tmp,how=\"left\",on=\"ID\")\n",
    "\n",
    "train_ft.shape, test_ft.shape"
   ]
  },
  {
   "cell_type": "markdown",
   "metadata": {},
   "source": [
    "- 공휴일에 구매한 대분류별 가격"
   ]
  },
  {
   "cell_type": "code",
   "execution_count": 37,
   "metadata": {},
   "outputs": [
    {
     "data": {
      "text/plain": [
       "((14940, 449), (12225, 449))"
      ]
     },
     "execution_count": 37,
     "metadata": {},
     "output_type": "execute_result"
    }
   ],
   "source": [
    "# 공휴일에 구매한 대분류별 가격 - train\n",
    "holiday_data = train_tr[train_tr[\"구매일시\"].dt.date.isin(holidays.date)]\n",
    "\n",
    "holiday_sums = holiday_data.groupby([\"ID\", \"대분류_수정\"])[\"구매가격\"].sum().reset_index()\n",
    "\n",
    "holiday_sums_pivot = holiday_sums.pivot_table(\n",
    "    index=\"ID\",\n",
    "    columns=\"대분류_수정\",\n",
    "    values=\"구매가격\",\n",
    "    fill_value=0\n",
    ").reset_index()\n",
    "\n",
    "# 컬럼명 변경\n",
    "holiday_sums_pivot.columns = [\n",
    "    f\"공휴일_대분류수정_{col}_구매금액\" if col != \"ID\" else col\n",
    "    for col in holiday_sums_pivot.columns\n",
    "]\n",
    "\n",
    "train_ft = train_ft.merge(holiday_sums_pivot, how='left', on=\"ID\")\n",
    "\n",
    "for col in holiday_sums_pivot.columns:\n",
    "    if col == \"ID\":\n",
    "        pass\n",
    "    else: \n",
    "        train_ft[col] = train_ft[col].fillna(0)\n",
    "\n",
    "# 공휴일에 구매한 대분류별 가격 - test\n",
    "holiday_data = test_tr[test_tr[\"구매일시\"].dt.date.isin(holidays.date)]\n",
    "\n",
    "holiday_sums = holiday_data.groupby([\"ID\", \"대분류_수정\"])[\"구매가격\"].sum().reset_index()\n",
    "\n",
    "holiday_sums_pivot = holiday_sums.pivot_table(\n",
    "    index=\"ID\",\n",
    "    columns=\"대분류_수정\",\n",
    "    values=\"구매가격\",\n",
    "    fill_value=0\n",
    ").reset_index()\n",
    "\n",
    "# 컬럼명 변경\n",
    "holiday_sums_pivot.columns = [\n",
    "    f\"공휴일_대분류수정_{col}_구매금액\" if col != \"ID\" else col\n",
    "    for col in holiday_sums_pivot.columns\n",
    "]\n",
    "\n",
    "test_ft = test_ft.merge(holiday_sums_pivot, how='left', on=\"ID\")\n",
    "\n",
    "for col in holiday_sums_pivot.columns:\n",
    "    if col == \"ID\":\n",
    "        pass\n",
    "    else: \n",
    "        test_ft[col] = test_ft[col].fillna(0)\n",
    "\n",
    "train_ft.shape, test_ft.shape"
   ]
  },
  {
   "cell_type": "markdown",
   "metadata": {},
   "source": [
    "- 공휴일에 구매한 대분류별 횟수"
   ]
  },
  {
   "cell_type": "code",
   "execution_count": 38,
   "metadata": {},
   "outputs": [
    {
     "data": {
      "text/plain": [
       "((14940, 455), (12225, 455))"
      ]
     },
     "execution_count": 38,
     "metadata": {},
     "output_type": "execute_result"
    }
   ],
   "source": [
    "# 공휴일에 구매한 대분류별 횟수 - train\n",
    "holiday_data = train_tr[train_tr[\"구매일시\"].dt.date.isin(holidays.date)]\n",
    "\n",
    "holiday_purchase_counts = holiday_data.groupby([\"ID\", \"대분류_수정\"]).size().reset_index(name=\"공휴일_대분류수정_구매횟수\")\n",
    "\n",
    "holiday_counts_pivot = holiday_purchase_counts.pivot_table(\n",
    "    index=\"ID\",\n",
    "    columns=\"대분류_수정\",\n",
    "    values=\"공휴일_대분류수정_구매횟수\",\n",
    "    fill_value=0  # 공휴일에 해당 대분류를 구매하지 않은 경우 0으로 표시\n",
    ").reset_index()\n",
    "\n",
    "# 컬럼명 변경\n",
    "holiday_counts_pivot.columns = [\n",
    "    f\"공휴일_{col}_대분류수정_구매횟수\" if col != \"ID\" else col\n",
    "    for col in holiday_counts_pivot.columns\n",
    "]\n",
    "\n",
    "train_ft = train_ft.merge(holiday_counts_pivot, how='left', on=\"ID\")\n",
    "\n",
    "for col in holiday_counts_pivot.columns:\n",
    "    if col == \"ID\":\n",
    "        pass\n",
    "    else: \n",
    "        train_ft[col] = train_ft[col].fillna(0)\n",
    "\n",
    "\n",
    "# 공휴일에 구매한 대분류별 횟수 - test\n",
    "holiday_data = test_tr[test_tr[\"구매일시\"].dt.date.isin(holidays.date)]\n",
    "\n",
    "holiday_purchase_counts = holiday_data.groupby([\"ID\", \"대분류_수정\"]).size().reset_index(name=\"공휴일_대분류수정_구매횟수\")\n",
    "\n",
    "holiday_counts_pivot = holiday_purchase_counts.pivot_table(\n",
    "    index=\"ID\",\n",
    "    columns=\"대분류_수정\",\n",
    "    values=\"공휴일_대분류수정_구매횟수\",\n",
    "    fill_value=0  # 공휴일에 해당 대분류를 구매하지 않은 경우 0으로 표시\n",
    ").reset_index()\n",
    "\n",
    "# 컬럼명 변경\n",
    "holiday_counts_pivot.columns = [\n",
    "    f\"공휴일_{col}_대분류수정_구매횟수\" if col != \"ID\" else col\n",
    "    for col in holiday_counts_pivot.columns\n",
    "]\n",
    "\n",
    "test_ft = test_ft.merge(holiday_counts_pivot, how='left', on=\"ID\")\n",
    "\n",
    "for col in holiday_counts_pivot.columns:\n",
    "    if col == \"ID\":\n",
    "        pass\n",
    "    else: \n",
    "        test_ft[col] = test_ft[col].fillna(0) \n",
    "    \n",
    "\n",
    "train_ft.shape, test_ft.shape"
   ]
  },
  {
   "cell_type": "markdown",
   "metadata": {},
   "source": [
    "- 대분류별 최대평균금액  "
   ]
  },
  {
   "cell_type": "code",
   "execution_count": 39,
   "metadata": {},
   "outputs": [
    {
     "data": {
      "text/plain": [
       "((14940, 457), (12225, 457))"
      ]
     },
     "execution_count": 39,
     "metadata": {},
     "output_type": "execute_result"
    }
   ],
   "source": [
    "train_tmp = train_tr.pivot_table(index= [\"ID\", \"대분류_수정\"], values= \"구매가격\", aggfunc= \"mean\")\\\n",
    "      .sort_values(by=['ID', \"구매가격\"], ascending=False).groupby('ID').head(1).reset_index()\n",
    "train_tmp = train_tmp.rename(columns= {\"대분류_수정\": \"대분류_수정_평균금액최대\", \"구매가격\" : \"대분류_수정_평균구매가격\"})\n",
    "train_ft = train_ft.merge(train_tmp, on= \"ID\", how= \"left\")\n",
    "\n",
    "test_tmp = test_tr.pivot_table(index= [\"ID\", \"대분류_수정\"], values= \"구매가격\", aggfunc= \"mean\")\\\n",
    "      .sort_values(by=['ID', \"구매가격\"], ascending=False).groupby('ID').head(1).reset_index()\n",
    "test_tmp = test_tmp.rename(columns= {\"대분류_수정\": \"대분류_수정_평균금액최대\", \"구매가격\" : \"대분류_수정_평균구매가격\"})\n",
    "test_ft = test_ft.merge(test_tmp, on= \"ID\", how= \"left\")\n",
    "\n",
    "\n",
    "train_ft.shape, test_ft.shape"
   ]
  },
  {
   "cell_type": "markdown",
   "metadata": {},
   "source": [
    "- 지점별 대분류_수정 구매 횟수"
   ]
  },
  {
   "cell_type": "code",
   "execution_count": 211,
   "metadata": {},
   "outputs": [],
   "source": [
    "# train_tmp = train_tr.pivot_table(index= [\"ID\"], columns= [\"지점코드\",\"대분류_수정\"], values= \"구매가격\", aggfunc= \"count\", fill_value=0 ).reset_index()\n",
    "# train_tmp.columns = ['_'.join([col for col in multi_col if len(col)>0]) for multi_col in train_tmp.columns]\n",
    "\n",
    "# train_ft = train_ft.merge(train_tmp, on= \"ID\", how= \"left\")\n",
    "\n",
    "\n",
    "# test_tmp = train_tr.pivot_table(index= [\"ID\"], columns= [\"지점코드\",\"대분류_수정\"], values= \"구매가격\", aggfunc= \"count\", fill_value=0 ).reset_index()\n",
    "# test_tmp.columns = ['_'.join([col for col in multi_col if len(col)>0]) for multi_col in test_tmp.columns]\n",
    "\n",
    "# for col in train_tmp.columns:\n",
    "#     if col not in test_tmp.columns:\n",
    "#         test_tmp[col] = 0\n",
    "# test_tmp = test_tmp[train_tmp.columns]\n",
    "\n",
    "# test_ft = test_ft.merge(test_tmp,how=\"left\",on=\"ID\")\n",
    "\n",
    "# train_ft.shape, test_ft.shape"
   ]
  },
  {
   "cell_type": "code",
   "execution_count": null,
   "metadata": {},
   "outputs": [],
   "source": []
  },
  {
   "cell_type": "markdown",
   "metadata": {
    "id": "LopLwsb3NaE0"
   },
   "source": [
    "# 항상 확인하기\n",
    "- 학습데이터와 테스트 데이터의 피처개수는 동일해야 함"
   ]
  },
  {
   "cell_type": "code",
   "execution_count": 40,
   "metadata": {},
   "outputs": [
    {
     "data": {
      "text/plain": [
       "(0, 0)"
      ]
     },
     "execution_count": 40,
     "metadata": {},
     "output_type": "execute_result"
    }
   ],
   "source": [
    "train_ft.isnull().sum().sum(), test_ft.isnull().sum().sum()"
   ]
  },
  {
   "cell_type": "code",
   "execution_count": 41,
   "metadata": {
    "id": "At-Xx2XoNXDo"
   },
   "outputs": [
    {
     "data": {
      "text/plain": [
       "((14940, 457), (12225, 457))"
      ]
     },
     "execution_count": 41,
     "metadata": {},
     "output_type": "execute_result"
    }
   ],
   "source": [
    "train_ft.shape, test_ft.shape"
   ]
  },
  {
   "cell_type": "markdown",
   "metadata": {
    "id": "uxEi3_gLM8rh"
   },
   "source": [
    "# 추출한 피처 저장하기"
   ]
  },
  {
   "cell_type": "code",
   "execution_count": 42,
   "metadata": {
    "id": "am-hCMk3M3x-"
   },
   "outputs": [],
   "source": [
    "train_ft.to_csv(\"train_common_v2.1_1104.csv\",index=False)\n",
    "test_ft.to_csv(\"test_common_v2.1_1104.csv\",index=False)"
   ]
  },
  {
   "cell_type": "code",
   "execution_count": null,
   "metadata": {},
   "outputs": [],
   "source": []
  },
  {
   "cell_type": "code",
   "execution_count": null,
   "metadata": {},
   "outputs": [],
   "source": [
    "DATA_PATH = \"C:/Users/user/Desktop/데이터분석/05 Project_Final/Feature_csv\"\n",
    "train_ft = pd.read_csv(f\"{DATA_PATH}train_common_v2.0_1101.csv\")\n",
    "test_ft = pd.read_csv(f\"{DATA_PATH}test_common_v2.0_1101.csv\")"
   ]
  },
  {
   "cell_type": "code",
   "execution_count": 166,
   "metadata": {},
   "outputs": [
    {
     "data": {
      "text/plain": [
       "((14940, 465), (12225, 465))"
      ]
     },
     "execution_count": 166,
     "metadata": {},
     "output_type": "execute_result"
    }
   ],
   "source": [
    "train_ft.shape, test_ft.shape"
   ]
  },
  {
   "cell_type": "code",
   "execution_count": 164,
   "metadata": {},
   "outputs": [
    {
     "data": {
      "text/plain": [
       "(0, 0)"
      ]
     },
     "execution_count": 164,
     "metadata": {},
     "output_type": "execute_result"
    }
   ],
   "source": [
    "train_ft.isnull().sum().sum(), test_ft.isnull().sum().sum()"
   ]
  },
  {
   "cell_type": "markdown",
   "metadata": {},
   "source": [
    "# 점수 확인"
   ]
  },
  {
   "cell_type": "code",
   "execution_count": 168,
   "metadata": {},
   "outputs": [],
   "source": [
    "train_ft.drop(columns= \"ID\", inplace= True)\n",
    "test_ft.drop(columns= \"ID\", inplace= True)"
   ]
  },
  {
   "cell_type": "code",
   "execution_count": 169,
   "metadata": {},
   "outputs": [
    {
     "data": {
      "text/plain": [
       "Index(['주구매지점', '주구매_중분류', '주구매_대분류_수정', '대분류_수정_평균금액최대'], dtype='object')"
      ]
     },
     "execution_count": 169,
     "metadata": {},
     "output_type": "execute_result"
    }
   ],
   "source": [
    "cols = train_ft.select_dtypes(\"object\").columns\n",
    "cols"
   ]
  },
  {
   "cell_type": "code",
   "execution_count": 170,
   "metadata": {},
   "outputs": [],
   "source": [
    "from sklearn.preprocessing import OneHotEncoder, MinMaxScaler, StandardScaler\n",
    "\n",
    "# 범주형 변수 원핫인코딩\n",
    "enc = OneHotEncoder(handle_unknown = 'ignore')\n",
    "enc.fit(train_ft[cols])\n",
    "tmp = pd.DataFrame(\n",
    "    enc.transform(train_ft[cols]).toarray(),\n",
    "    columns = enc.get_feature_names_out()\n",
    ")\n",
    "train_ft = pd.concat([train_ft,tmp],axis=1).drop(columns=cols)\n",
    "\n",
    "tmp = pd.DataFrame(\n",
    "    enc.transform(test_ft[cols]).toarray(),\n",
    "    columns = enc.get_feature_names_out()\n",
    ")\n",
    "test_ft = pd.concat([test_ft,tmp],axis=1).drop(columns=cols)\n",
    "\n",
    "# Min-Max Scaling\n",
    "scaler = StandardScaler()\n",
    "scaler.fit(train_ft)\n",
    "train_ft[train_ft.columns] = scaler.transform(train_ft)\n",
    "test_ft[test_ft.columns] = scaler.transform(test_ft)\n",
    "\n",
    "# 정답 데이터\n",
    "target = train_target[\"target\"]"
   ]
  },
  {
   "cell_type": "code",
   "execution_count": 171,
   "metadata": {},
   "outputs": [
    {
     "name": "stdout",
     "output_type": "stream",
     "text": [
      "[flaml.automl.logger: 11-01 15:12:37] {1728} INFO - task = classification\n",
      "[flaml.automl.logger: 11-01 15:12:37] {1739} INFO - Evaluation method: holdout\n",
      "[flaml.automl.logger: 11-01 15:12:37] {1838} INFO - Minimizing error metric: 1-macro_f1\n",
      "[flaml.automl.logger: 11-01 15:12:37] {1955} INFO - List of ML learners in AutoML Run: ['catboost', 'lgbm', 'rf', 'xgboost', 'histgb', 'lrl1', 'lrl2', 'kneighbor']\n",
      "[flaml.automl.logger: 11-01 15:12:37] {2258} INFO - iteration 0, current learner catboost\n",
      "[flaml.automl.logger: 11-01 15:12:41] {2393} INFO - Estimated sufficient time budget=38211s. Estimated necessary time budget=60s.\n",
      "[flaml.automl.logger: 11-01 15:12:41] {2442} INFO -  at 5.9s,\testimator catboost's best error=0.3072,\tbest estimator catboost's best error=0.3072\n",
      "[flaml.automl.logger: 11-01 15:12:41] {2258} INFO - iteration 1, current learner lgbm\n",
      "[flaml.automl.logger: 11-01 15:12:42] {2442} INFO -  at 6.7s,\testimator lgbm's best error=0.6223,\tbest estimator catboost's best error=0.3072\n",
      "[flaml.automl.logger: 11-01 15:12:42] {2258} INFO - iteration 2, current learner histgb\n",
      "[flaml.automl.logger: 11-01 15:12:43] {2442} INFO -  at 7.7s,\testimator histgb's best error=0.6223,\tbest estimator catboost's best error=0.3072\n",
      "[flaml.automl.logger: 11-01 15:12:43] {2258} INFO - iteration 3, current learner xgboost\n",
      "[flaml.automl.logger: 11-01 15:12:44] {2442} INFO -  at 8.3s,\testimator xgboost's best error=0.6223,\tbest estimator catboost's best error=0.3072\n",
      "[flaml.automl.logger: 11-01 15:12:44] {2258} INFO - iteration 4, current learner rf\n",
      "[flaml.automl.logger: 11-01 15:12:44] {2442} INFO -  at 8.6s,\testimator rf's best error=0.4012,\tbest estimator catboost's best error=0.3072\n",
      "[flaml.automl.logger: 11-01 15:12:44] {2258} INFO - iteration 5, current learner rf\n",
      "[flaml.automl.logger: 11-01 15:12:44] {2442} INFO -  at 8.9s,\testimator rf's best error=0.4012,\tbest estimator catboost's best error=0.3072\n",
      "[flaml.automl.logger: 11-01 15:12:44] {2258} INFO - iteration 6, current learner xgboost\n",
      "[flaml.automl.logger: 11-01 15:12:45] {2442} INFO -  at 9.6s,\testimator xgboost's best error=0.6223,\tbest estimator catboost's best error=0.3072\n",
      "[flaml.automl.logger: 11-01 15:12:45] {2258} INFO - iteration 7, current learner catboost\n",
      "[flaml.automl.logger: 11-01 15:12:51] {2442} INFO -  at 15.7s,\testimator catboost's best error=0.2972,\tbest estimator catboost's best error=0.2972\n",
      "[flaml.automl.logger: 11-01 15:12:51] {2258} INFO - iteration 8, current learner rf\n",
      "[flaml.automl.logger: 11-01 15:12:51] {2442} INFO -  at 15.9s,\testimator rf's best error=0.3560,\tbest estimator catboost's best error=0.2972\n",
      "[flaml.automl.logger: 11-01 15:12:51] {2258} INFO - iteration 9, current learner lgbm\n",
      "[flaml.automl.logger: 11-01 15:12:52] {2442} INFO -  at 16.7s,\testimator lgbm's best error=0.6223,\tbest estimator catboost's best error=0.2972\n",
      "[flaml.automl.logger: 11-01 15:12:52] {2258} INFO - iteration 10, current learner lgbm\n",
      "[flaml.automl.logger: 11-01 15:12:53] {2442} INFO -  at 17.3s,\testimator lgbm's best error=0.3788,\tbest estimator catboost's best error=0.2972\n",
      "[flaml.automl.logger: 11-01 15:12:53] {2258} INFO - iteration 11, current learner rf\n",
      "[flaml.automl.logger: 11-01 15:12:53] {2442} INFO -  at 17.7s,\testimator rf's best error=0.3560,\tbest estimator catboost's best error=0.2972\n",
      "[flaml.automl.logger: 11-01 15:12:53] {2258} INFO - iteration 12, current learner rf\n",
      "[flaml.automl.logger: 11-01 15:12:53] {2442} INFO -  at 18.0s,\testimator rf's best error=0.3560,\tbest estimator catboost's best error=0.2972\n",
      "[flaml.automl.logger: 11-01 15:12:53] {2258} INFO - iteration 13, current learner rf\n",
      "[flaml.automl.logger: 11-01 15:12:54] {2442} INFO -  at 18.4s,\testimator rf's best error=0.3560,\tbest estimator catboost's best error=0.2972\n",
      "[flaml.automl.logger: 11-01 15:12:54] {2258} INFO - iteration 14, current learner xgboost\n",
      "[flaml.automl.logger: 11-01 15:12:54] {2442} INFO -  at 19.0s,\testimator xgboost's best error=0.3873,\tbest estimator catboost's best error=0.2972\n",
      "[flaml.automl.logger: 11-01 15:12:54] {2258} INFO - iteration 15, current learner rf\n",
      "[flaml.automl.logger: 11-01 15:12:55] {2442} INFO -  at 19.3s,\testimator rf's best error=0.3560,\tbest estimator catboost's best error=0.2972\n",
      "[flaml.automl.logger: 11-01 15:12:55] {2258} INFO - iteration 16, current learner xgboost\n",
      "[flaml.automl.logger: 11-01 15:12:55] {2442} INFO -  at 20.0s,\testimator xgboost's best error=0.3873,\tbest estimator catboost's best error=0.2972\n",
      "[flaml.automl.logger: 11-01 15:12:55] {2258} INFO - iteration 17, current learner lgbm\n",
      "[flaml.automl.logger: 11-01 15:12:56] {2442} INFO -  at 20.7s,\testimator lgbm's best error=0.3382,\tbest estimator catboost's best error=0.2972\n",
      "[flaml.automl.logger: 11-01 15:12:56] {2258} INFO - iteration 18, current learner histgb\n",
      "[flaml.automl.logger: 11-01 15:12:57] {2442} INFO -  at 21.5s,\testimator histgb's best error=0.6223,\tbest estimator catboost's best error=0.2972\n",
      "[flaml.automl.logger: 11-01 15:12:57] {2258} INFO - iteration 19, current learner catboost\n",
      "[flaml.automl.logger: 11-01 15:13:06] {2442} INFO -  at 31.1s,\testimator catboost's best error=0.2972,\tbest estimator catboost's best error=0.2972\n",
      "[flaml.automl.logger: 11-01 15:13:06] {2258} INFO - iteration 20, current learner xgboost\n",
      "[flaml.automl.logger: 11-01 15:13:07] {2442} INFO -  at 31.9s,\testimator xgboost's best error=0.3278,\tbest estimator catboost's best error=0.2972\n",
      "[flaml.automl.logger: 11-01 15:13:07] {2258} INFO - iteration 21, current learner rf\n",
      "[flaml.automl.logger: 11-01 15:13:08] {2442} INFO -  at 32.2s,\testimator rf's best error=0.3560,\tbest estimator catboost's best error=0.2972\n",
      "[flaml.automl.logger: 11-01 15:13:08] {2258} INFO - iteration 22, current learner xgboost\n",
      "[flaml.automl.logger: 11-01 15:13:08] {2442} INFO -  at 32.8s,\testimator xgboost's best error=0.3278,\tbest estimator catboost's best error=0.2972\n",
      "[flaml.automl.logger: 11-01 15:13:08] {2258} INFO - iteration 23, current learner lgbm\n",
      "[flaml.automl.logger: 11-01 15:13:09] {2442} INFO -  at 33.4s,\testimator lgbm's best error=0.3382,\tbest estimator catboost's best error=0.2972\n",
      "[flaml.automl.logger: 11-01 15:13:09] {2258} INFO - iteration 24, current learner lgbm\n",
      "[flaml.automl.logger: 11-01 15:13:10] {2442} INFO -  at 34.3s,\testimator lgbm's best error=0.3288,\tbest estimator catboost's best error=0.2972\n",
      "[flaml.automl.logger: 11-01 15:13:10] {2258} INFO - iteration 25, current learner histgb\n",
      "[flaml.automl.logger: 11-01 15:13:11] {2442} INFO -  at 35.2s,\testimator histgb's best error=0.3716,\tbest estimator catboost's best error=0.2972\n",
      "[flaml.automl.logger: 11-01 15:13:11] {2258} INFO - iteration 26, current learner histgb\n",
      "[flaml.automl.logger: 11-01 15:13:12] {2442} INFO -  at 36.4s,\testimator histgb's best error=0.3596,\tbest estimator catboost's best error=0.2972\n",
      "[flaml.automl.logger: 11-01 15:13:12] {2258} INFO - iteration 27, current learner rf\n",
      "[flaml.automl.logger: 11-01 15:13:12] {2442} INFO -  at 36.8s,\testimator rf's best error=0.3560,\tbest estimator catboost's best error=0.2972\n",
      "[flaml.automl.logger: 11-01 15:13:12] {2258} INFO - iteration 28, current learner xgboost\n",
      "[flaml.automl.logger: 11-01 15:13:13] {2442} INFO -  at 37.9s,\testimator xgboost's best error=0.3251,\tbest estimator catboost's best error=0.2972\n",
      "[flaml.automl.logger: 11-01 15:13:13] {2258} INFO - iteration 29, current learner histgb\n",
      "[flaml.automl.logger: 11-01 15:13:14] {2442} INFO -  at 38.6s,\testimator histgb's best error=0.3596,\tbest estimator catboost's best error=0.2972\n",
      "[flaml.automl.logger: 11-01 15:13:14] {2258} INFO - iteration 30, current learner histgb\n",
      "[flaml.automl.logger: 11-01 15:13:15] {2442} INFO -  at 39.6s,\testimator histgb's best error=0.3596,\tbest estimator catboost's best error=0.2972\n",
      "[flaml.automl.logger: 11-01 15:13:15] {2258} INFO - iteration 31, current learner lgbm\n",
      "[flaml.automl.logger: 11-01 15:13:16] {2442} INFO -  at 40.6s,\testimator lgbm's best error=0.2997,\tbest estimator catboost's best error=0.2972\n",
      "[flaml.automl.logger: 11-01 15:13:16] {2258} INFO - iteration 32, current learner lgbm\n",
      "[flaml.automl.logger: 11-01 15:13:17] {2442} INFO -  at 41.8s,\testimator lgbm's best error=0.2997,\tbest estimator catboost's best error=0.2972\n",
      "[flaml.automl.logger: 11-01 15:13:17] {2258} INFO - iteration 33, current learner lgbm\n",
      "[flaml.automl.logger: 11-01 15:13:18] {2442} INFO -  at 42.8s,\testimator lgbm's best error=0.2997,\tbest estimator catboost's best error=0.2972\n",
      "[flaml.automl.logger: 11-01 15:13:18] {2258} INFO - iteration 34, current learner histgb\n",
      "[flaml.automl.logger: 11-01 15:13:21] {2442} INFO -  at 45.4s,\testimator histgb's best error=0.3152,\tbest estimator catboost's best error=0.2972\n",
      "[flaml.automl.logger: 11-01 15:13:21] {2258} INFO - iteration 35, current learner lgbm\n",
      "[flaml.automl.logger: 11-01 15:13:22] {2442} INFO -  at 46.5s,\testimator lgbm's best error=0.2997,\tbest estimator catboost's best error=0.2972\n",
      "[flaml.automl.logger: 11-01 15:13:22] {2258} INFO - iteration 36, current learner rf\n",
      "[flaml.automl.logger: 11-01 15:13:22] {2442} INFO -  at 46.9s,\testimator rf's best error=0.3560,\tbest estimator catboost's best error=0.2972\n",
      "[flaml.automl.logger: 11-01 15:13:22] {2258} INFO - iteration 37, current learner histgb\n",
      "[flaml.automl.logger: 11-01 15:13:24] {2442} INFO -  at 48.6s,\testimator histgb's best error=0.3152,\tbest estimator catboost's best error=0.2972\n",
      "[flaml.automl.logger: 11-01 15:13:24] {2258} INFO - iteration 38, current learner xgboost\n",
      "[flaml.automl.logger: 11-01 15:13:26] {2442} INFO -  at 50.7s,\testimator xgboost's best error=0.3095,\tbest estimator catboost's best error=0.2972\n",
      "[flaml.automl.logger: 11-01 15:13:26] {2258} INFO - iteration 39, current learner xgboost\n",
      "[flaml.automl.logger: 11-01 15:13:28] {2442} INFO -  at 52.2s,\testimator xgboost's best error=0.3095,\tbest estimator catboost's best error=0.2972\n",
      "[flaml.automl.logger: 11-01 15:13:28] {2258} INFO - iteration 40, current learner rf\n",
      "[flaml.automl.logger: 11-01 15:13:28] {2442} INFO -  at 52.6s,\testimator rf's best error=0.3560,\tbest estimator catboost's best error=0.2972\n",
      "[flaml.automl.logger: 11-01 15:13:28] {2258} INFO - iteration 41, current learner xgboost\n",
      "[flaml.automl.logger: 11-01 15:13:30] {2442} INFO -  at 54.9s,\testimator xgboost's best error=0.3095,\tbest estimator catboost's best error=0.2972\n",
      "[flaml.automl.logger: 11-01 15:13:30] {2258} INFO - iteration 42, current learner histgb\n",
      "[flaml.automl.logger: 11-01 15:13:35] {2442} INFO -  at 59.2s,\testimator histgb's best error=0.3008,\tbest estimator catboost's best error=0.2972\n",
      "[flaml.automl.logger: 11-01 15:13:35] {2258} INFO - iteration 43, current learner catboost\n",
      "[flaml.automl.logger: 11-01 15:13:40] {2442} INFO -  at 64.7s,\testimator catboost's best error=0.2972,\tbest estimator catboost's best error=0.2972\n",
      "[flaml.automl.logger: 11-01 15:13:40] {2258} INFO - iteration 44, current learner xgboost\n",
      "[flaml.automl.logger: 11-01 15:13:44] {2442} INFO -  at 68.4s,\testimator xgboost's best error=0.3095,\tbest estimator catboost's best error=0.2972\n",
      "[flaml.automl.logger: 11-01 15:13:44] {2258} INFO - iteration 45, current learner histgb\n",
      "[flaml.automl.logger: 11-01 15:13:48] {2442} INFO -  at 72.3s,\testimator histgb's best error=0.3008,\tbest estimator catboost's best error=0.2972\n",
      "[flaml.automl.logger: 11-01 15:13:48] {2258} INFO - iteration 46, current learner xgboost\n",
      "[flaml.automl.logger: 11-01 15:13:49] {2442} INFO -  at 73.6s,\testimator xgboost's best error=0.3095,\tbest estimator catboost's best error=0.2972\n",
      "[flaml.automl.logger: 11-01 15:13:49] {2258} INFO - iteration 47, current learner lgbm\n",
      "[flaml.automl.logger: 11-01 15:13:51] {2442} INFO -  at 75.6s,\testimator lgbm's best error=0.2997,\tbest estimator catboost's best error=0.2972\n",
      "[flaml.automl.logger: 11-01 15:13:51] {2258} INFO - iteration 48, current learner xgboost\n",
      "[flaml.automl.logger: 11-01 15:13:55] {2442} INFO -  at 79.8s,\testimator xgboost's best error=0.3095,\tbest estimator catboost's best error=0.2972\n",
      "[flaml.automl.logger: 11-01 15:13:55] {2258} INFO - iteration 49, current learner lgbm\n",
      "[flaml.automl.logger: 11-01 15:13:56] {2442} INFO -  at 80.6s,\testimator lgbm's best error=0.2997,\tbest estimator catboost's best error=0.2972\n",
      "[flaml.automl.logger: 11-01 15:13:56] {2258} INFO - iteration 50, current learner rf\n",
      "[flaml.automl.logger: 11-01 15:13:56] {2442} INFO -  at 80.9s,\testimator rf's best error=0.3390,\tbest estimator catboost's best error=0.2972\n",
      "[flaml.automl.logger: 11-01 15:13:56] {2258} INFO - iteration 51, current learner histgb\n",
      "[flaml.automl.logger: 11-01 15:13:59] {2442} INFO -  at 83.6s,\testimator histgb's best error=0.3005,\tbest estimator catboost's best error=0.2972\n",
      "[flaml.automl.logger: 11-01 15:13:59] {2258} INFO - iteration 52, current learner lgbm\n",
      "[flaml.automl.logger: 11-01 15:14:00] {2442} INFO -  at 84.3s,\testimator lgbm's best error=0.2997,\tbest estimator catboost's best error=0.2972\n",
      "[flaml.automl.logger: 11-01 15:14:00] {2258} INFO - iteration 53, current learner rf\n",
      "[flaml.automl.logger: 11-01 15:14:00] {2442} INFO -  at 84.6s,\testimator rf's best error=0.3390,\tbest estimator catboost's best error=0.2972\n",
      "[flaml.automl.logger: 11-01 15:14:00] {2258} INFO - iteration 54, current learner lgbm\n",
      "[flaml.automl.logger: 11-01 15:14:01] {2442} INFO -  at 86.1s,\testimator lgbm's best error=0.2997,\tbest estimator catboost's best error=0.2972\n",
      "[flaml.automl.logger: 11-01 15:14:01] {2258} INFO - iteration 55, current learner catboost\n",
      "[flaml.automl.logger: 11-01 15:14:13] {2442} INFO -  at 97.2s,\testimator catboost's best error=0.2942,\tbest estimator catboost's best error=0.2942\n",
      "[flaml.automl.logger: 11-01 15:14:13] {2258} INFO - iteration 56, current learner xgboost\n",
      "[flaml.automl.logger: 11-01 15:14:14] {2442} INFO -  at 98.8s,\testimator xgboost's best error=0.3095,\tbest estimator catboost's best error=0.2942\n",
      "[flaml.automl.logger: 11-01 15:14:14] {2258} INFO - iteration 57, current learner lgbm\n",
      "[flaml.automl.logger: 11-01 15:14:17] {2442} INFO -  at 101.5s,\testimator lgbm's best error=0.2997,\tbest estimator catboost's best error=0.2942\n",
      "[flaml.automl.logger: 11-01 15:14:17] {2258} INFO - iteration 58, current learner rf\n",
      "[flaml.automl.logger: 11-01 15:14:17] {2442} INFO -  at 101.8s,\testimator rf's best error=0.3390,\tbest estimator catboost's best error=0.2942\n",
      "[flaml.automl.logger: 11-01 15:14:17] {2258} INFO - iteration 59, current learner rf\n",
      "[flaml.automl.logger: 11-01 15:14:17] {2442} INFO -  at 102.1s,\testimator rf's best error=0.3390,\tbest estimator catboost's best error=0.2942\n",
      "[flaml.automl.logger: 11-01 15:14:17] {2258} INFO - iteration 60, current learner catboost\n",
      "[flaml.automl.logger: 11-01 15:14:23] {2442} INFO -  at 107.2s,\testimator catboost's best error=0.2942,\tbest estimator catboost's best error=0.2942\n",
      "[flaml.automl.logger: 11-01 15:14:23] {2258} INFO - iteration 61, current learner rf\n",
      "[flaml.automl.logger: 11-01 15:14:23] {2442} INFO -  at 107.6s,\testimator rf's best error=0.3390,\tbest estimator catboost's best error=0.2942\n",
      "[flaml.automl.logger: 11-01 15:14:23] {2258} INFO - iteration 62, current learner lgbm\n",
      "[flaml.automl.logger: 11-01 15:14:24] {2442} INFO -  at 108.4s,\testimator lgbm's best error=0.2997,\tbest estimator catboost's best error=0.2942\n",
      "[flaml.automl.logger: 11-01 15:14:24] {2258} INFO - iteration 63, current learner rf\n",
      "[flaml.automl.logger: 11-01 15:14:24] {2442} INFO -  at 108.7s,\testimator rf's best error=0.3328,\tbest estimator catboost's best error=0.2942\n",
      "[flaml.automl.logger: 11-01 15:14:24] {2258} INFO - iteration 64, current learner rf\n",
      "[flaml.automl.logger: 11-01 15:14:24] {2442} INFO -  at 109.0s,\testimator rf's best error=0.3328,\tbest estimator catboost's best error=0.2942\n",
      "[flaml.automl.logger: 11-01 15:14:24] {2258} INFO - iteration 65, current learner lgbm\n",
      "[flaml.automl.logger: 11-01 15:14:25] {2442} INFO -  at 109.6s,\testimator lgbm's best error=0.2997,\tbest estimator catboost's best error=0.2942\n",
      "[flaml.automl.logger: 11-01 15:14:25] {2258} INFO - iteration 66, current learner rf\n",
      "[flaml.automl.logger: 11-01 15:14:25] {2442} INFO -  at 109.9s,\testimator rf's best error=0.3328,\tbest estimator catboost's best error=0.2942\n",
      "[flaml.automl.logger: 11-01 15:14:25] {2258} INFO - iteration 67, current learner rf\n",
      "[flaml.automl.logger: 11-01 15:14:26] {2442} INFO -  at 110.2s,\testimator rf's best error=0.3328,\tbest estimator catboost's best error=0.2942\n",
      "[flaml.automl.logger: 11-01 15:14:26] {2258} INFO - iteration 68, current learner rf\n",
      "[flaml.automl.logger: 11-01 15:14:26] {2442} INFO -  at 110.7s,\testimator rf's best error=0.3328,\tbest estimator catboost's best error=0.2942\n",
      "[flaml.automl.logger: 11-01 15:14:26] {2258} INFO - iteration 69, current learner lgbm\n",
      "[flaml.automl.logger: 11-01 15:14:29] {2442} INFO -  at 113.7s,\testimator lgbm's best error=0.2997,\tbest estimator catboost's best error=0.2942\n",
      "[flaml.automl.logger: 11-01 15:14:29] {2258} INFO - iteration 70, current learner rf\n",
      "[flaml.automl.logger: 11-01 15:14:30] {2442} INFO -  at 114.2s,\testimator rf's best error=0.3328,\tbest estimator catboost's best error=0.2942\n",
      "[flaml.automl.logger: 11-01 15:14:30] {2258} INFO - iteration 71, current learner rf\n",
      "[flaml.automl.logger: 11-01 15:14:30] {2442} INFO -  at 114.5s,\testimator rf's best error=0.3328,\tbest estimator catboost's best error=0.2942\n",
      "[flaml.automl.logger: 11-01 15:14:30] {2258} INFO - iteration 72, current learner rf\n",
      "[flaml.automl.logger: 11-01 15:14:30] {2442} INFO -  at 114.8s,\testimator rf's best error=0.3328,\tbest estimator catboost's best error=0.2942\n",
      "[flaml.automl.logger: 11-01 15:14:30] {2258} INFO - iteration 73, current learner histgb\n",
      "[flaml.automl.logger: 11-01 15:14:32] {2442} INFO -  at 116.5s,\testimator histgb's best error=0.3005,\tbest estimator catboost's best error=0.2942\n",
      "[flaml.automl.logger: 11-01 15:14:32] {2258} INFO - iteration 74, current learner rf\n",
      "[flaml.automl.logger: 11-01 15:14:32] {2442} INFO -  at 117.1s,\testimator rf's best error=0.3219,\tbest estimator catboost's best error=0.2942\n",
      "[flaml.automl.logger: 11-01 15:14:32] {2258} INFO - iteration 75, current learner histgb\n",
      "[flaml.automl.logger: 11-01 15:14:37] {2442} INFO -  at 122.1s,\testimator histgb's best error=0.2930,\tbest estimator histgb's best error=0.2930\n",
      "[flaml.automl.logger: 11-01 15:14:37] {2258} INFO - iteration 76, current learner lgbm\n",
      "[flaml.automl.logger: 11-01 15:14:41] {2442} INFO -  at 125.2s,\testimator lgbm's best error=0.2997,\tbest estimator histgb's best error=0.2930\n",
      "[flaml.automl.logger: 11-01 15:14:41] {2258} INFO - iteration 77, current learner lgbm\n",
      "[flaml.automl.logger: 11-01 15:14:41] {2442} INFO -  at 126.0s,\testimator lgbm's best error=0.2997,\tbest estimator histgb's best error=0.2930\n",
      "[flaml.automl.logger: 11-01 15:14:41] {2258} INFO - iteration 78, current learner histgb\n",
      "[flaml.automl.logger: 11-01 15:14:45] {2442} INFO -  at 129.2s,\testimator histgb's best error=0.2930,\tbest estimator histgb's best error=0.2930\n",
      "[flaml.automl.logger: 11-01 15:14:45] {2258} INFO - iteration 79, current learner rf\n",
      "[flaml.automl.logger: 11-01 15:14:45] {2442} INFO -  at 129.8s,\testimator rf's best error=0.3219,\tbest estimator histgb's best error=0.2930\n",
      "[flaml.automl.logger: 11-01 15:14:45] {2258} INFO - iteration 80, current learner rf\n",
      "[flaml.automl.logger: 11-01 15:14:46] {2442} INFO -  at 130.5s,\testimator rf's best error=0.3219,\tbest estimator histgb's best error=0.2930\n",
      "[flaml.automl.logger: 11-01 15:14:46] {2258} INFO - iteration 81, current learner histgb\n",
      "[flaml.automl.logger: 11-01 15:14:53] {2442} INFO -  at 137.2s,\testimator histgb's best error=0.2930,\tbest estimator histgb's best error=0.2930\n",
      "[flaml.automl.logger: 11-01 15:14:53] {2258} INFO - iteration 82, current learner rf\n",
      "[flaml.automl.logger: 11-01 15:14:53] {2442} INFO -  at 137.6s,\testimator rf's best error=0.3219,\tbest estimator histgb's best error=0.2930\n",
      "[flaml.automl.logger: 11-01 15:14:53] {2258} INFO - iteration 83, current learner xgboost\n",
      "[flaml.automl.logger: 11-01 15:14:58] {2442} INFO -  at 142.9s,\testimator xgboost's best error=0.2933,\tbest estimator histgb's best error=0.2930\n",
      "[flaml.automl.logger: 11-01 15:14:58] {2258} INFO - iteration 84, current learner rf\n",
      "[flaml.automl.logger: 11-01 15:14:59] {2442} INFO -  at 143.9s,\testimator rf's best error=0.3219,\tbest estimator histgb's best error=0.2930\n",
      "[flaml.automl.logger: 11-01 15:14:59] {2258} INFO - iteration 85, current learner histgb\n",
      "[flaml.automl.logger: 11-01 15:15:08] {2442} INFO -  at 153.0s,\testimator histgb's best error=0.2898,\tbest estimator histgb's best error=0.2898\n",
      "[flaml.automl.logger: 11-01 15:15:08] {2258} INFO - iteration 86, current learner rf\n",
      "[flaml.automl.logger: 11-01 15:15:09] {2442} INFO -  at 153.9s,\testimator rf's best error=0.3219,\tbest estimator histgb's best error=0.2898\n",
      "[flaml.automl.logger: 11-01 15:15:09] {2258} INFO - iteration 87, current learner rf\n",
      "[flaml.automl.logger: 11-01 15:15:10] {2442} INFO -  at 154.3s,\testimator rf's best error=0.3219,\tbest estimator histgb's best error=0.2898\n",
      "[flaml.automl.logger: 11-01 15:15:10] {2258} INFO - iteration 88, current learner rf\n",
      "[flaml.automl.logger: 11-01 15:15:11] {2442} INFO -  at 155.3s,\testimator rf's best error=0.3219,\tbest estimator histgb's best error=0.2898\n",
      "[flaml.automl.logger: 11-01 15:15:11] {2258} INFO - iteration 89, current learner rf\n",
      "[flaml.automl.logger: 11-01 15:15:11] {2442} INFO -  at 155.9s,\testimator rf's best error=0.3219,\tbest estimator histgb's best error=0.2898\n",
      "[flaml.automl.logger: 11-01 15:15:11] {2258} INFO - iteration 90, current learner histgb\n",
      "[flaml.automl.logger: 11-01 15:15:16] {2442} INFO -  at 160.4s,\testimator histgb's best error=0.2898,\tbest estimator histgb's best error=0.2898\n",
      "[flaml.automl.logger: 11-01 15:15:16] {2258} INFO - iteration 91, current learner rf\n",
      "[flaml.automl.logger: 11-01 15:15:16] {2442} INFO -  at 160.8s,\testimator rf's best error=0.3219,\tbest estimator histgb's best error=0.2898\n",
      "[flaml.automl.logger: 11-01 15:15:16] {2258} INFO - iteration 92, current learner histgb\n",
      "[flaml.automl.logger: 11-01 15:15:27] {2442} INFO -  at 171.6s,\testimator histgb's best error=0.2898,\tbest estimator histgb's best error=0.2898\n",
      "[flaml.automl.logger: 11-01 15:15:27] {2258} INFO - iteration 93, current learner rf\n",
      "[flaml.automl.logger: 11-01 15:15:28] {2442} INFO -  at 172.7s,\testimator rf's best error=0.3219,\tbest estimator histgb's best error=0.2898\n",
      "[flaml.automl.logger: 11-01 15:15:28] {2258} INFO - iteration 94, current learner lrl2\n",
      "[flaml.automl.logger: 11-01 15:15:32] {2442} INFO -  at 176.3s,\testimator lrl2's best error=0.3238,\tbest estimator histgb's best error=0.2898\n",
      "[flaml.automl.logger: 11-01 15:15:32] {2258} INFO - iteration 95, current learner lrl2\n",
      "[flaml.automl.logger: 11-01 15:15:34] {2442} INFO -  at 179.1s,\testimator lrl2's best error=0.3238,\tbest estimator histgb's best error=0.2898\n",
      "[flaml.automl.logger: 11-01 15:15:34] {2258} INFO - iteration 96, current learner lgbm\n",
      "[flaml.automl.logger: 11-01 15:15:36] {2442} INFO -  at 180.7s,\testimator lgbm's best error=0.2997,\tbest estimator histgb's best error=0.2898\n",
      "[flaml.automl.logger: 11-01 15:15:36] {2258} INFO - iteration 97, current learner lrl2\n",
      "[flaml.automl.logger: 11-01 15:15:39] {2442} INFO -  at 183.8s,\testimator lrl2's best error=0.3221,\tbest estimator histgb's best error=0.2898\n",
      "[flaml.automl.logger: 11-01 15:15:39] {2258} INFO - iteration 98, current learner rf\n",
      "[flaml.automl.logger: 11-01 15:15:40] {2442} INFO -  at 184.4s,\testimator rf's best error=0.3219,\tbest estimator histgb's best error=0.2898\n",
      "[flaml.automl.logger: 11-01 15:15:40] {2258} INFO - iteration 99, current learner histgb\n",
      "[flaml.automl.logger: 11-01 15:15:44] {2442} INFO -  at 189.1s,\testimator histgb's best error=0.2898,\tbest estimator histgb's best error=0.2898\n",
      "[flaml.automl.logger: 11-01 15:15:44] {2258} INFO - iteration 100, current learner rf\n",
      "[flaml.automl.logger: 11-01 15:15:45] {2442} INFO -  at 190.1s,\testimator rf's best error=0.3219,\tbest estimator histgb's best error=0.2898\n",
      "[flaml.automl.logger: 11-01 15:15:45] {2258} INFO - iteration 101, current learner rf\n",
      "[flaml.automl.logger: 11-01 15:15:46] {2442} INFO -  at 190.8s,\testimator rf's best error=0.3219,\tbest estimator histgb's best error=0.2898\n",
      "[flaml.automl.logger: 11-01 15:15:46] {2258} INFO - iteration 102, current learner lrl2\n",
      "[flaml.automl.logger: 11-01 15:15:49] {2442} INFO -  at 193.7s,\testimator lrl2's best error=0.3199,\tbest estimator histgb's best error=0.2898\n",
      "[flaml.automl.logger: 11-01 15:15:49] {2258} INFO - iteration 103, current learner lrl2\n",
      "[flaml.automl.logger: 11-01 15:15:52] {2442} INFO -  at 197.0s,\testimator lrl2's best error=0.3199,\tbest estimator histgb's best error=0.2898\n",
      "[flaml.automl.logger: 11-01 15:15:52] {2258} INFO - iteration 104, current learner catboost\n",
      "[flaml.automl.logger: 11-01 15:16:15] {2442} INFO -  at 219.5s,\testimator catboost's best error=0.2942,\tbest estimator histgb's best error=0.2898\n",
      "[flaml.automl.logger: 11-01 15:16:15] {2258} INFO - iteration 105, current learner lrl2\n",
      "[flaml.automl.logger: 11-01 15:16:18] {2442} INFO -  at 222.7s,\testimator lrl2's best error=0.3199,\tbest estimator histgb's best error=0.2898\n",
      "[flaml.automl.logger: 11-01 15:16:18] {2258} INFO - iteration 106, current learner rf\n",
      "[flaml.automl.logger: 11-01 15:16:19] {2442} INFO -  at 223.2s,\testimator rf's best error=0.3219,\tbest estimator histgb's best error=0.2898\n",
      "[flaml.automl.logger: 11-01 15:16:19] {2258} INFO - iteration 107, current learner xgboost\n",
      "[flaml.automl.logger: 11-01 15:16:21] {2442} INFO -  at 225.9s,\testimator xgboost's best error=0.2933,\tbest estimator histgb's best error=0.2898\n",
      "[flaml.automl.logger: 11-01 15:16:21] {2258} INFO - iteration 108, current learner lrl2\n",
      "[flaml.automl.logger: 11-01 15:16:25] {2442} INFO -  at 229.2s,\testimator lrl2's best error=0.3199,\tbest estimator histgb's best error=0.2898\n",
      "[flaml.automl.logger: 11-01 15:16:25] {2258} INFO - iteration 109, current learner kneighbor\n",
      "[flaml.automl.logger: 11-01 15:16:25] {2442} INFO -  at 229.8s,\testimator kneighbor's best error=0.3746,\tbest estimator histgb's best error=0.2898\n",
      "[flaml.automl.logger: 11-01 15:16:25] {2258} INFO - iteration 110, current learner kneighbor\n",
      "[flaml.automl.logger: 11-01 15:16:26] {2442} INFO -  at 230.3s,\testimator kneighbor's best error=0.3699,\tbest estimator histgb's best error=0.2898\n",
      "[flaml.automl.logger: 11-01 15:16:26] {2258} INFO - iteration 111, current learner kneighbor\n",
      "[flaml.automl.logger: 11-01 15:16:26] {2442} INFO -  at 230.8s,\testimator kneighbor's best error=0.3691,\tbest estimator histgb's best error=0.2898\n",
      "[flaml.automl.logger: 11-01 15:16:26] {2258} INFO - iteration 112, current learner kneighbor\n",
      "[flaml.automl.logger: 11-01 15:16:27] {2442} INFO -  at 231.4s,\testimator kneighbor's best error=0.3537,\tbest estimator histgb's best error=0.2898\n",
      "[flaml.automl.logger: 11-01 15:16:27] {2258} INFO - iteration 113, current learner lgbm\n",
      "[flaml.automl.logger: 11-01 15:16:28] {2442} INFO -  at 232.4s,\testimator lgbm's best error=0.2997,\tbest estimator histgb's best error=0.2898\n",
      "[flaml.automl.logger: 11-01 15:16:28] {2258} INFO - iteration 114, current learner kneighbor\n",
      "[flaml.automl.logger: 11-01 15:16:28] {2442} INFO -  at 232.9s,\testimator kneighbor's best error=0.3537,\tbest estimator histgb's best error=0.2898\n",
      "[flaml.automl.logger: 11-01 15:16:28] {2258} INFO - iteration 115, current learner kneighbor\n",
      "[flaml.automl.logger: 11-01 15:16:29] {2442} INFO -  at 233.5s,\testimator kneighbor's best error=0.3381,\tbest estimator histgb's best error=0.2898\n",
      "[flaml.automl.logger: 11-01 15:16:29] {2258} INFO - iteration 116, current learner kneighbor\n",
      "[flaml.automl.logger: 11-01 15:16:30] {2442} INFO -  at 234.2s,\testimator kneighbor's best error=0.3381,\tbest estimator histgb's best error=0.2898\n",
      "[flaml.automl.logger: 11-01 15:16:30] {2258} INFO - iteration 117, current learner xgboost\n",
      "[flaml.automl.logger: 11-01 15:16:45] {2442} INFO -  at 249.8s,\testimator xgboost's best error=0.2933,\tbest estimator histgb's best error=0.2898\n",
      "[flaml.automl.logger: 11-01 15:16:45] {2258} INFO - iteration 118, current learner rf\n",
      "[flaml.automl.logger: 11-01 15:16:46] {2442} INFO -  at 250.5s,\testimator rf's best error=0.3219,\tbest estimator histgb's best error=0.2898\n",
      "[flaml.automl.logger: 11-01 15:16:46] {2258} INFO - iteration 119, current learner kneighbor\n",
      "[flaml.automl.logger: 11-01 15:16:46] {2442} INFO -  at 251.0s,\testimator kneighbor's best error=0.3381,\tbest estimator histgb's best error=0.2898\n",
      "[flaml.automl.logger: 11-01 15:16:46] {2258} INFO - iteration 120, current learner kneighbor\n",
      "[flaml.automl.logger: 11-01 15:16:47] {2442} INFO -  at 251.6s,\testimator kneighbor's best error=0.3381,\tbest estimator histgb's best error=0.2898\n",
      "[flaml.automl.logger: 11-01 15:16:47] {2258} INFO - iteration 121, current learner lgbm\n",
      "[flaml.automl.logger: 11-01 15:16:48] {2442} INFO -  at 252.3s,\testimator lgbm's best error=0.2997,\tbest estimator histgb's best error=0.2898\n",
      "[flaml.automl.logger: 11-01 15:16:48] {2258} INFO - iteration 122, current learner kneighbor\n",
      "[flaml.automl.logger: 11-01 15:16:48] {2442} INFO -  at 252.9s,\testimator kneighbor's best error=0.3381,\tbest estimator histgb's best error=0.2898\n",
      "[flaml.automl.logger: 11-01 15:16:48] {2258} INFO - iteration 123, current learner kneighbor\n",
      "[flaml.automl.logger: 11-01 15:16:49] {2442} INFO -  at 253.5s,\testimator kneighbor's best error=0.3381,\tbest estimator histgb's best error=0.2898\n",
      "[flaml.automl.logger: 11-01 15:16:49] {2258} INFO - iteration 124, current learner kneighbor\n",
      "[flaml.automl.logger: 11-01 15:16:49] {2442} INFO -  at 254.1s,\testimator kneighbor's best error=0.3381,\tbest estimator histgb's best error=0.2898\n",
      "[flaml.automl.logger: 11-01 15:16:49] {2258} INFO - iteration 125, current learner kneighbor\n",
      "[flaml.automl.logger: 11-01 15:16:50] {2442} INFO -  at 254.7s,\testimator kneighbor's best error=0.3381,\tbest estimator histgb's best error=0.2898\n",
      "[flaml.automl.logger: 11-01 15:16:50] {2258} INFO - iteration 126, current learner lgbm\n",
      "[flaml.automl.logger: 11-01 15:16:52] {2442} INFO -  at 256.5s,\testimator lgbm's best error=0.2997,\tbest estimator histgb's best error=0.2898\n",
      "[flaml.automl.logger: 11-01 15:16:52] {2258} INFO - iteration 127, current learner catboost\n",
      "[flaml.automl.logger: 11-01 15:17:10] {2442} INFO -  at 274.5s,\testimator catboost's best error=0.2896,\tbest estimator catboost's best error=0.2896\n",
      "[flaml.automl.logger: 11-01 15:17:10] {2258} INFO - iteration 128, current learner catboost\n",
      "[flaml.automl.logger: 11-01 15:17:16] {2442} INFO -  at 280.5s,\testimator catboost's best error=0.2896,\tbest estimator catboost's best error=0.2896\n",
      "[flaml.automl.logger: 11-01 15:17:16] {2258} INFO - iteration 129, current learner catboost\n",
      "[flaml.automl.logger: 11-01 15:18:10] {2442} INFO -  at 334.3s,\testimator catboost's best error=0.2892,\tbest estimator catboost's best error=0.2892\n",
      "[flaml.automl.logger: 11-01 15:18:10] {2258} INFO - iteration 130, current learner rf\n",
      "[flaml.automl.logger: 11-01 15:18:10] {2442} INFO -  at 334.8s,\testimator rf's best error=0.3219,\tbest estimator catboost's best error=0.2892\n",
      "[flaml.automl.logger: 11-01 15:18:10] {2258} INFO - iteration 131, current learner kneighbor\n",
      "[flaml.automl.logger: 11-01 15:18:11] {2442} INFO -  at 335.5s,\testimator kneighbor's best error=0.3381,\tbest estimator catboost's best error=0.2892\n",
      "[flaml.automl.logger: 11-01 15:18:11] {2258} INFO - iteration 132, current learner lrl2\n",
      "[flaml.automl.logger: 11-01 15:18:14] {2442} INFO -  at 338.5s,\testimator lrl2's best error=0.3199,\tbest estimator catboost's best error=0.2892\n",
      "[flaml.automl.logger: 11-01 15:18:14] {2258} INFO - iteration 133, current learner lrl2\n",
      "[flaml.automl.logger: 11-01 15:18:16] {2442} INFO -  at 340.2s,\testimator lrl2's best error=0.3199,\tbest estimator catboost's best error=0.2892\n",
      "[flaml.automl.logger: 11-01 15:18:16] {2258} INFO - iteration 134, current learner kneighbor\n",
      "[flaml.automl.logger: 11-01 15:18:16] {2442} INFO -  at 340.9s,\testimator kneighbor's best error=0.3381,\tbest estimator catboost's best error=0.2892\n",
      "[flaml.automl.logger: 11-01 15:18:16] {2258} INFO - iteration 135, current learner rf\n",
      "[flaml.automl.logger: 11-01 15:18:17] {2442} INFO -  at 341.7s,\testimator rf's best error=0.3219,\tbest estimator catboost's best error=0.2892\n",
      "[flaml.automl.logger: 11-01 15:18:17] {2258} INFO - iteration 136, current learner rf\n",
      "[flaml.automl.logger: 11-01 15:18:18] {2442} INFO -  at 342.3s,\testimator rf's best error=0.3219,\tbest estimator catboost's best error=0.2892\n",
      "[flaml.automl.logger: 11-01 15:18:18] {2258} INFO - iteration 137, current learner lrl2\n",
      "[flaml.automl.logger: 11-01 15:18:19] {2442} INFO -  at 344.1s,\testimator lrl2's best error=0.3199,\tbest estimator catboost's best error=0.2892\n",
      "[flaml.automl.logger: 11-01 15:18:19] {2258} INFO - iteration 138, current learner kneighbor\n",
      "[flaml.automl.logger: 11-01 15:18:20] {2442} INFO -  at 344.6s,\testimator kneighbor's best error=0.3381,\tbest estimator catboost's best error=0.2892\n",
      "[flaml.automl.logger: 11-01 15:18:20] {2258} INFO - iteration 139, current learner lrl2\n",
      "[flaml.automl.logger: 11-01 15:18:22] {2442} INFO -  at 346.3s,\testimator lrl2's best error=0.3199,\tbest estimator catboost's best error=0.2892\n",
      "[flaml.automl.logger: 11-01 15:18:22] {2258} INFO - iteration 140, current learner catboost\n",
      "[flaml.automl.logger: 11-01 15:19:24] {2442} INFO -  at 408.4s,\testimator catboost's best error=0.2892,\tbest estimator catboost's best error=0.2892\n",
      "[flaml.automl.logger: 11-01 15:19:24] {2258} INFO - iteration 141, current learner kneighbor\n",
      "[flaml.automl.logger: 11-01 15:19:24] {2442} INFO -  at 409.0s,\testimator kneighbor's best error=0.3381,\tbest estimator catboost's best error=0.2892\n",
      "[flaml.automl.logger: 11-01 15:19:24] {2258} INFO - iteration 142, current learner rf\n",
      "[flaml.automl.logger: 11-01 15:19:25] {2442} INFO -  at 409.7s,\testimator rf's best error=0.3219,\tbest estimator catboost's best error=0.2892\n",
      "[flaml.automl.logger: 11-01 15:19:25] {2258} INFO - iteration 143, current learner kneighbor\n",
      "[flaml.automl.logger: 11-01 15:19:26] {2442} INFO -  at 410.3s,\testimator kneighbor's best error=0.3365,\tbest estimator catboost's best error=0.2892\n",
      "[flaml.automl.logger: 11-01 15:19:26] {2258} INFO - iteration 144, current learner xgboost\n",
      "[flaml.automl.logger: 11-01 15:19:44] {2442} INFO -  at 428.8s,\testimator xgboost's best error=0.2933,\tbest estimator catboost's best error=0.2892\n",
      "[flaml.automl.logger: 11-01 15:19:44] {2258} INFO - iteration 145, current learner kneighbor\n",
      "[flaml.automl.logger: 11-01 15:19:45] {2442} INFO -  at 429.4s,\testimator kneighbor's best error=0.3365,\tbest estimator catboost's best error=0.2892\n",
      "[flaml.automl.logger: 11-01 15:19:45] {2258} INFO - iteration 146, current learner kneighbor\n",
      "[flaml.automl.logger: 11-01 15:19:45] {2442} INFO -  at 430.1s,\testimator kneighbor's best error=0.3365,\tbest estimator catboost's best error=0.2892\n",
      "[flaml.automl.logger: 11-01 15:19:45] {2258} INFO - iteration 147, current learner lrl2\n",
      "[flaml.automl.logger: 11-01 15:19:47] {2442} INFO -  at 431.9s,\testimator lrl2's best error=0.3199,\tbest estimator catboost's best error=0.2892\n",
      "[flaml.automl.logger: 11-01 15:19:47] {2258} INFO - iteration 148, current learner lgbm\n",
      "[flaml.automl.logger: 11-01 15:19:48] {2442} INFO -  at 432.8s,\testimator lgbm's best error=0.2997,\tbest estimator catboost's best error=0.2892\n",
      "[flaml.automl.logger: 11-01 15:19:48] {2258} INFO - iteration 149, current learner lgbm\n",
      "[flaml.automl.logger: 11-01 15:19:49] {2442} INFO -  at 433.9s,\testimator lgbm's best error=0.2997,\tbest estimator catboost's best error=0.2892\n",
      "[flaml.automl.logger: 11-01 15:19:49] {2258} INFO - iteration 150, current learner lgbm\n",
      "[flaml.automl.logger: 11-01 15:19:50] {2442} INFO -  at 434.8s,\testimator lgbm's best error=0.2997,\tbest estimator catboost's best error=0.2892\n",
      "[flaml.automl.logger: 11-01 15:19:50] {2258} INFO - iteration 151, current learner lgbm\n",
      "[flaml.automl.logger: 11-01 15:19:51] {2442} INFO -  at 435.9s,\testimator lgbm's best error=0.2997,\tbest estimator catboost's best error=0.2892\n",
      "[flaml.automl.logger: 11-01 15:19:51] {2258} INFO - iteration 152, current learner lgbm\n",
      "[flaml.automl.logger: 11-01 15:19:52] {2442} INFO -  at 437.0s,\testimator lgbm's best error=0.2997,\tbest estimator catboost's best error=0.2892\n",
      "[flaml.automl.logger: 11-01 15:19:52] {2258} INFO - iteration 153, current learner rf\n",
      "[flaml.automl.logger: 11-01 15:19:53] {2442} INFO -  at 437.4s,\testimator rf's best error=0.3219,\tbest estimator catboost's best error=0.2892\n",
      "[flaml.automl.logger: 11-01 15:19:53] {2258} INFO - iteration 154, current learner kneighbor\n",
      "[flaml.automl.logger: 11-01 15:19:53] {2442} INFO -  at 438.1s,\testimator kneighbor's best error=0.3365,\tbest estimator catboost's best error=0.2892\n",
      "[flaml.automl.logger: 11-01 15:19:53] {2258} INFO - iteration 155, current learner lrl2\n",
      "[flaml.automl.logger: 11-01 15:19:55] {2442} INFO -  at 439.7s,\testimator lrl2's best error=0.3199,\tbest estimator catboost's best error=0.2892\n",
      "[flaml.automl.logger: 11-01 15:19:55] {2258} INFO - iteration 156, current learner catboost\n",
      "[flaml.automl.logger: 11-01 15:20:19] {2442} INFO -  at 463.2s,\testimator catboost's best error=0.2892,\tbest estimator catboost's best error=0.2892\n",
      "[flaml.automl.logger: 11-01 15:20:19] {2258} INFO - iteration 157, current learner lgbm\n",
      "[flaml.automl.logger: 11-01 15:20:20] {2442} INFO -  at 464.3s,\testimator lgbm's best error=0.2997,\tbest estimator catboost's best error=0.2892\n",
      "[flaml.automl.logger: 11-01 15:20:20] {2258} INFO - iteration 158, current learner kneighbor\n",
      "[flaml.automl.logger: 11-01 15:20:20] {2442} INFO -  at 464.9s,\testimator kneighbor's best error=0.3329,\tbest estimator catboost's best error=0.2892\n",
      "[flaml.automl.logger: 11-01 15:20:20] {2258} INFO - iteration 159, current learner kneighbor\n",
      "[flaml.automl.logger: 11-01 15:20:21] {2442} INFO -  at 465.6s,\testimator kneighbor's best error=0.3329,\tbest estimator catboost's best error=0.2892\n",
      "[flaml.automl.logger: 11-01 15:20:21] {2258} INFO - iteration 160, current learner xgboost\n",
      "[flaml.automl.logger: 11-01 15:20:23] {2442} INFO -  at 467.7s,\testimator xgboost's best error=0.2933,\tbest estimator catboost's best error=0.2892\n",
      "[flaml.automl.logger: 11-01 15:20:23] {2258} INFO - iteration 161, current learner histgb\n",
      "[flaml.automl.logger: 11-01 15:20:27] {2442} INFO -  at 471.5s,\testimator histgb's best error=0.2898,\tbest estimator catboost's best error=0.2892\n",
      "[flaml.automl.logger: 11-01 15:20:27] {2258} INFO - iteration 162, current learner kneighbor\n",
      "[flaml.automl.logger: 11-01 15:20:27] {2442} INFO -  at 472.1s,\testimator kneighbor's best error=0.3329,\tbest estimator catboost's best error=0.2892\n",
      "[flaml.automl.logger: 11-01 15:20:27] {2258} INFO - iteration 163, current learner xgboost\n",
      "[flaml.automl.logger: 11-01 15:20:34] {2442} INFO -  at 479.1s,\testimator xgboost's best error=0.2925,\tbest estimator catboost's best error=0.2892\n",
      "[flaml.automl.logger: 11-01 15:20:34] {2258} INFO - iteration 164, current learner kneighbor\n",
      "[flaml.automl.logger: 11-01 15:20:35] {2442} INFO -  at 479.7s,\testimator kneighbor's best error=0.3329,\tbest estimator catboost's best error=0.2892\n",
      "[flaml.automl.logger: 11-01 15:20:35] {2258} INFO - iteration 165, current learner kneighbor\n",
      "[flaml.automl.logger: 11-01 15:20:36] {2442} INFO -  at 480.3s,\testimator kneighbor's best error=0.3329,\tbest estimator catboost's best error=0.2892\n",
      "[flaml.automl.logger: 11-01 15:20:36] {2258} INFO - iteration 166, current learner kneighbor\n",
      "[flaml.automl.logger: 11-01 15:20:36] {2442} INFO -  at 480.9s,\testimator kneighbor's best error=0.3329,\tbest estimator catboost's best error=0.2892\n",
      "[flaml.automl.logger: 11-01 15:20:36] {2258} INFO - iteration 167, current learner xgboost\n",
      "[flaml.automl.logger: 11-01 15:20:42] {2442} INFO -  at 486.2s,\testimator xgboost's best error=0.2925,\tbest estimator catboost's best error=0.2892\n",
      "[flaml.automl.logger: 11-01 15:20:42] {2258} INFO - iteration 168, current learner kneighbor\n",
      "[flaml.automl.logger: 11-01 15:20:42] {2442} INFO -  at 486.9s,\testimator kneighbor's best error=0.3329,\tbest estimator catboost's best error=0.2892\n",
      "[flaml.automl.logger: 11-01 15:20:42] {2258} INFO - iteration 169, current learner kneighbor\n",
      "[flaml.automl.logger: 11-01 15:20:43] {2442} INFO -  at 487.6s,\testimator kneighbor's best error=0.3329,\tbest estimator catboost's best error=0.2892\n",
      "[flaml.automl.logger: 11-01 15:20:43] {2258} INFO - iteration 170, current learner kneighbor\n",
      "[flaml.automl.logger: 11-01 15:20:44] {2442} INFO -  at 488.3s,\testimator kneighbor's best error=0.3329,\tbest estimator catboost's best error=0.2892\n",
      "[flaml.automl.logger: 11-01 15:20:44] {2258} INFO - iteration 171, current learner rf\n",
      "[flaml.automl.logger: 11-01 15:20:44] {2442} INFO -  at 488.8s,\testimator rf's best error=0.3219,\tbest estimator catboost's best error=0.2892\n",
      "[flaml.automl.logger: 11-01 15:20:44] {2258} INFO - iteration 172, current learner catboost\n",
      "[flaml.automl.logger: 11-01 15:22:13] {2442} INFO -  at 578.1s,\testimator catboost's best error=0.2892,\tbest estimator catboost's best error=0.2892\n",
      "[flaml.automl.logger: 11-01 15:22:13] {2258} INFO - iteration 173, current learner lgbm\n",
      "[flaml.automl.logger: 11-01 15:22:15] {2442} INFO -  at 579.5s,\testimator lgbm's best error=0.2997,\tbest estimator catboost's best error=0.2892\n",
      "[flaml.automl.logger: 11-01 15:22:15] {2258} INFO - iteration 174, current learner lrl2\n",
      "[flaml.automl.logger: 11-01 15:22:16] {2442} INFO -  at 581.0s,\testimator lrl2's best error=0.3199,\tbest estimator catboost's best error=0.2892\n",
      "[flaml.automl.logger: 11-01 15:22:16] {2258} INFO - iteration 175, current learner kneighbor\n",
      "[flaml.automl.logger: 11-01 15:22:17] {2442} INFO -  at 581.6s,\testimator kneighbor's best error=0.3329,\tbest estimator catboost's best error=0.2892\n",
      "[flaml.automl.logger: 11-01 15:22:17] {2258} INFO - iteration 176, current learner kneighbor\n",
      "[flaml.automl.logger: 11-01 15:22:18] {2442} INFO -  at 582.2s,\testimator kneighbor's best error=0.3329,\tbest estimator catboost's best error=0.2892\n",
      "[flaml.automl.logger: 11-01 15:22:18] {2258} INFO - iteration 177, current learner xgboost\n",
      "[flaml.automl.logger: 11-01 15:22:22] {2442} INFO -  at 586.4s,\testimator xgboost's best error=0.2925,\tbest estimator catboost's best error=0.2892\n",
      "[flaml.automl.logger: 11-01 15:22:22] {2258} INFO - iteration 178, current learner kneighbor\n",
      "[flaml.automl.logger: 11-01 15:22:22] {2442} INFO -  at 587.0s,\testimator kneighbor's best error=0.3329,\tbest estimator catboost's best error=0.2892\n",
      "[flaml.automl.logger: 11-01 15:22:22] {2258} INFO - iteration 179, current learner lrl2\n",
      "[flaml.automl.logger: 11-01 15:22:24] {2442} INFO -  at 588.6s,\testimator lrl2's best error=0.3199,\tbest estimator catboost's best error=0.2892\n",
      "[flaml.automl.logger: 11-01 15:22:24] {2258} INFO - iteration 180, current learner histgb\n",
      "[flaml.automl.logger: 11-01 15:22:39] {2442} INFO -  at 603.7s,\testimator histgb's best error=0.2898,\tbest estimator catboost's best error=0.2892\n",
      "[flaml.automl.logger: 11-01 15:22:39] {2258} INFO - iteration 181, current learner lrl2\n",
      "[flaml.automl.logger: 11-01 15:22:41] {2442} INFO -  at 605.2s,\testimator lrl2's best error=0.3199,\tbest estimator catboost's best error=0.2892\n",
      "[flaml.automl.logger: 11-01 15:22:41] {2258} INFO - iteration 182, current learner kneighbor\n",
      "[flaml.automl.logger: 11-01 15:22:41] {2442} INFO -  at 605.8s,\testimator kneighbor's best error=0.3329,\tbest estimator catboost's best error=0.2892\n",
      "[flaml.automl.logger: 11-01 15:22:41] {2258} INFO - iteration 183, current learner kneighbor\n",
      "[flaml.automl.logger: 11-01 15:22:42] {2442} INFO -  at 606.4s,\testimator kneighbor's best error=0.3329,\tbest estimator catboost's best error=0.2892\n",
      "[flaml.automl.logger: 11-01 15:22:42] {2258} INFO - iteration 184, current learner rf\n",
      "[flaml.automl.logger: 11-01 15:22:43] {2442} INFO -  at 607.4s,\testimator rf's best error=0.3219,\tbest estimator catboost's best error=0.2892\n",
      "[flaml.automl.logger: 11-01 15:22:43] {2258} INFO - iteration 185, current learner lgbm\n",
      "[flaml.automl.logger: 11-01 15:22:44] {2442} INFO -  at 608.6s,\testimator lgbm's best error=0.2997,\tbest estimator catboost's best error=0.2892\n",
      "[flaml.automl.logger: 11-01 15:22:44] {2258} INFO - iteration 186, current learner xgboost\n",
      "[flaml.automl.logger: 11-01 15:22:57] {2442} INFO -  at 621.9s,\testimator xgboost's best error=0.2925,\tbest estimator catboost's best error=0.2892\n",
      "[flaml.automl.logger: 11-01 15:22:57] {2258} INFO - iteration 187, current learner kneighbor\n",
      "[flaml.automl.logger: 11-01 15:22:58] {2442} INFO -  at 622.6s,\testimator kneighbor's best error=0.3289,\tbest estimator catboost's best error=0.2892\n",
      "[flaml.automl.logger: 11-01 15:22:58] {2258} INFO - iteration 188, current learner rf\n",
      "[flaml.automl.logger: 11-01 15:22:58] {2442} INFO -  at 623.1s,\testimator rf's best error=0.3219,\tbest estimator catboost's best error=0.2892\n",
      "[flaml.automl.logger: 11-01 15:22:58] {2258} INFO - iteration 189, current learner kneighbor\n",
      "[flaml.automl.logger: 11-01 15:22:59] {2442} INFO -  at 623.8s,\testimator kneighbor's best error=0.3289,\tbest estimator catboost's best error=0.2892\n",
      "[flaml.automl.logger: 11-01 15:22:59] {2258} INFO - iteration 190, current learner lgbm\n",
      "[flaml.automl.logger: 11-01 15:23:02] {2442} INFO -  at 626.7s,\testimator lgbm's best error=0.2997,\tbest estimator catboost's best error=0.2892\n",
      "[flaml.automl.logger: 11-01 15:23:02] {2258} INFO - iteration 191, current learner rf\n",
      "[flaml.automl.logger: 11-01 15:23:03] {2442} INFO -  at 627.6s,\testimator rf's best error=0.3219,\tbest estimator catboost's best error=0.2892\n",
      "[flaml.automl.logger: 11-01 15:23:03] {2258} INFO - iteration 192, current learner kneighbor\n",
      "[flaml.automl.logger: 11-01 15:23:04] {2442} INFO -  at 628.3s,\testimator kneighbor's best error=0.3289,\tbest estimator catboost's best error=0.2892\n",
      "[flaml.automl.logger: 11-01 15:23:04] {2258} INFO - iteration 193, current learner rf\n",
      "[flaml.automl.logger: 11-01 15:23:04] {2442} INFO -  at 629.0s,\testimator rf's best error=0.3219,\tbest estimator catboost's best error=0.2892\n",
      "[flaml.automl.logger: 11-01 15:23:04] {2258} INFO - iteration 194, current learner kneighbor\n",
      "[flaml.automl.logger: 11-01 15:23:05] {2442} INFO -  at 629.7s,\testimator kneighbor's best error=0.3289,\tbest estimator catboost's best error=0.2892\n",
      "[flaml.automl.logger: 11-01 15:23:05] {2258} INFO - iteration 195, current learner lrl2\n",
      "[flaml.automl.logger: 11-01 15:23:07] {2442} INFO -  at 631.4s,\testimator lrl2's best error=0.3199,\tbest estimator catboost's best error=0.2892\n",
      "[flaml.automl.logger: 11-01 15:23:07] {2258} INFO - iteration 196, current learner kneighbor\n",
      "[flaml.automl.logger: 11-01 15:23:08] {2442} INFO -  at 632.3s,\testimator kneighbor's best error=0.3289,\tbest estimator catboost's best error=0.2892\n",
      "[flaml.automl.logger: 11-01 15:23:08] {2258} INFO - iteration 197, current learner rf\n",
      "[flaml.automl.logger: 11-01 15:23:08] {2442} INFO -  at 632.9s,\testimator rf's best error=0.3219,\tbest estimator catboost's best error=0.2892\n",
      "[flaml.automl.logger: 11-01 15:23:08] {2258} INFO - iteration 198, current learner lgbm\n",
      "[flaml.automl.logger: 11-01 15:23:09] {2442} INFO -  at 633.6s,\testimator lgbm's best error=0.2997,\tbest estimator catboost's best error=0.2892\n",
      "[flaml.automl.logger: 11-01 15:23:09] {2258} INFO - iteration 199, current learner kneighbor\n",
      "[flaml.automl.logger: 11-01 15:23:10] {2442} INFO -  at 634.2s,\testimator kneighbor's best error=0.3289,\tbest estimator catboost's best error=0.2892\n",
      "[flaml.automl.logger: 11-01 15:23:10] {2258} INFO - iteration 200, current learner kneighbor\n",
      "[flaml.automl.logger: 11-01 15:23:10] {2442} INFO -  at 634.8s,\testimator kneighbor's best error=0.3289,\tbest estimator catboost's best error=0.2892\n",
      "[flaml.automl.logger: 11-01 15:23:10] {2258} INFO - iteration 201, current learner kneighbor\n",
      "[flaml.automl.logger: 11-01 15:23:11] {2442} INFO -  at 635.4s,\testimator kneighbor's best error=0.3289,\tbest estimator catboost's best error=0.2892\n",
      "[flaml.automl.logger: 11-01 15:23:11] {2258} INFO - iteration 202, current learner kneighbor\n",
      "[flaml.automl.logger: 11-01 15:23:11] {2442} INFO -  at 635.9s,\testimator kneighbor's best error=0.3289,\tbest estimator catboost's best error=0.2892\n",
      "[flaml.automl.logger: 11-01 15:23:11] {2258} INFO - iteration 203, current learner catboost\n",
      "[flaml.automl.logger: 11-01 15:23:35] {2442} INFO -  at 659.2s,\testimator catboost's best error=0.2892,\tbest estimator catboost's best error=0.2892\n",
      "[flaml.automl.logger: 11-01 15:23:35] {2258} INFO - iteration 204, current learner rf\n",
      "[flaml.automl.logger: 11-01 15:23:35] {2442} INFO -  at 659.7s,\testimator rf's best error=0.3219,\tbest estimator catboost's best error=0.2892\n",
      "[flaml.automl.logger: 11-01 15:23:35] {2258} INFO - iteration 205, current learner kneighbor\n",
      "[flaml.automl.logger: 11-01 15:23:36] {2442} INFO -  at 660.4s,\testimator kneighbor's best error=0.3289,\tbest estimator catboost's best error=0.2892\n",
      "[flaml.automl.logger: 11-01 15:23:36] {2258} INFO - iteration 206, current learner kneighbor\n",
      "[flaml.automl.logger: 11-01 15:23:36] {2442} INFO -  at 661.0s,\testimator kneighbor's best error=0.3289,\tbest estimator catboost's best error=0.2892\n",
      "[flaml.automl.logger: 11-01 15:23:36] {2258} INFO - iteration 207, current learner kneighbor\n",
      "[flaml.automl.logger: 11-01 15:23:37] {2442} INFO -  at 661.6s,\testimator kneighbor's best error=0.3289,\tbest estimator catboost's best error=0.2892\n",
      "[flaml.automl.logger: 11-01 15:23:37] {2258} INFO - iteration 208, current learner lrl2\n",
      "[flaml.automl.logger: 11-01 15:23:38] {2442} INFO -  at 663.1s,\testimator lrl2's best error=0.3199,\tbest estimator catboost's best error=0.2892\n",
      "[flaml.automl.logger: 11-01 15:23:38] {2258} INFO - iteration 209, current learner kneighbor\n",
      "[flaml.automl.logger: 11-01 15:23:39] {2442} INFO -  at 663.6s,\testimator kneighbor's best error=0.3289,\tbest estimator catboost's best error=0.2892\n",
      "[flaml.automl.logger: 11-01 15:23:39] {2258} INFO - iteration 210, current learner kneighbor\n",
      "[flaml.automl.logger: 11-01 15:23:40] {2442} INFO -  at 664.2s,\testimator kneighbor's best error=0.3289,\tbest estimator catboost's best error=0.2892\n",
      "[flaml.automl.logger: 11-01 15:23:40] {2258} INFO - iteration 211, current learner histgb\n",
      "[flaml.automl.logger: 11-01 15:23:48] {2442} INFO -  at 672.9s,\testimator histgb's best error=0.2898,\tbest estimator catboost's best error=0.2892\n",
      "[flaml.automl.logger: 11-01 15:23:48] {2258} INFO - iteration 212, current learner lrl2\n",
      "[flaml.automl.logger: 11-01 15:23:50] {2442} INFO -  at 674.6s,\testimator lrl2's best error=0.3199,\tbest estimator catboost's best error=0.2892\n",
      "[flaml.automl.logger: 11-01 15:23:50] {2258} INFO - iteration 213, current learner kneighbor\n",
      "[flaml.automl.logger: 11-01 15:23:51] {2442} INFO -  at 675.2s,\testimator kneighbor's best error=0.3289,\tbest estimator catboost's best error=0.2892\n",
      "[flaml.automl.logger: 11-01 15:23:51] {2258} INFO - iteration 214, current learner lrl2\n",
      "[flaml.automl.logger: 11-01 15:23:54] {2442} INFO -  at 678.2s,\testimator lrl2's best error=0.3199,\tbest estimator catboost's best error=0.2892\n",
      "[flaml.automl.logger: 11-01 15:23:54] {2258} INFO - iteration 215, current learner kneighbor\n",
      "[flaml.automl.logger: 11-01 15:23:54] {2442} INFO -  at 678.8s,\testimator kneighbor's best error=0.3289,\tbest estimator catboost's best error=0.2892\n",
      "[flaml.automl.logger: 11-01 15:23:54] {2258} INFO - iteration 216, current learner kneighbor\n",
      "[flaml.automl.logger: 11-01 15:23:55] {2442} INFO -  at 679.4s,\testimator kneighbor's best error=0.3289,\tbest estimator catboost's best error=0.2892\n",
      "[flaml.automl.logger: 11-01 15:23:55] {2258} INFO - iteration 217, current learner xgboost\n",
      "[flaml.automl.logger: 11-01 15:24:03] {2442} INFO -  at 687.2s,\testimator xgboost's best error=0.2925,\tbest estimator catboost's best error=0.2892\n",
      "[flaml.automl.logger: 11-01 15:24:03] {2258} INFO - iteration 218, current learner kneighbor\n",
      "[flaml.automl.logger: 11-01 15:24:03] {2442} INFO -  at 688.1s,\testimator kneighbor's best error=0.3289,\tbest estimator catboost's best error=0.2892\n",
      "[flaml.automl.logger: 11-01 15:24:03] {2258} INFO - iteration 219, current learner rf\n",
      "[flaml.automl.logger: 11-01 15:24:04] {2442} INFO -  at 688.7s,\testimator rf's best error=0.3219,\tbest estimator catboost's best error=0.2892\n",
      "[flaml.automl.logger: 11-01 15:24:04] {2258} INFO - iteration 220, current learner lgbm\n",
      "[flaml.automl.logger: 11-01 15:24:05] {2442} INFO -  at 689.6s,\testimator lgbm's best error=0.2997,\tbest estimator catboost's best error=0.2892\n",
      "[flaml.automl.logger: 11-01 15:24:05] {2258} INFO - iteration 221, current learner rf\n",
      "[flaml.automl.logger: 11-01 15:24:05] {2442} INFO -  at 690.1s,\testimator rf's best error=0.3219,\tbest estimator catboost's best error=0.2892\n",
      "[flaml.automl.logger: 11-01 15:24:05] {2258} INFO - iteration 222, current learner lrl2\n",
      "[flaml.automl.logger: 11-01 15:24:08] {2442} INFO -  at 693.0s,\testimator lrl2's best error=0.3199,\tbest estimator catboost's best error=0.2892\n",
      "[flaml.automl.logger: 11-01 15:24:08] {2258} INFO - iteration 223, current learner lgbm\n",
      "[flaml.automl.logger: 11-01 15:24:10] {2442} INFO -  at 694.3s,\testimator lgbm's best error=0.2997,\tbest estimator catboost's best error=0.2892\n",
      "[flaml.automl.logger: 11-01 15:24:10] {2258} INFO - iteration 224, current learner kneighbor\n",
      "[flaml.automl.logger: 11-01 15:24:10] {2442} INFO -  at 694.9s,\testimator kneighbor's best error=0.3289,\tbest estimator catboost's best error=0.2892\n",
      "[flaml.automl.logger: 11-01 15:24:10] {2258} INFO - iteration 225, current learner kneighbor\n",
      "[flaml.automl.logger: 11-01 15:24:11] {2442} INFO -  at 695.5s,\testimator kneighbor's best error=0.3289,\tbest estimator catboost's best error=0.2892\n",
      "[flaml.automl.logger: 11-01 15:24:11] {2258} INFO - iteration 226, current learner catboost\n",
      "[flaml.automl.logger: 11-01 15:25:23] {2442} INFO -  at 767.6s,\testimator catboost's best error=0.2892,\tbest estimator catboost's best error=0.2892\n",
      "[flaml.automl.logger: 11-01 15:25:23] {2258} INFO - iteration 227, current learner rf\n",
      "[flaml.automl.logger: 11-01 15:25:24] {2442} INFO -  at 768.4s,\testimator rf's best error=0.3219,\tbest estimator catboost's best error=0.2892\n",
      "[flaml.automl.logger: 11-01 15:25:24] {2258} INFO - iteration 228, current learner rf\n",
      "[flaml.automl.logger: 11-01 15:25:24] {2442} INFO -  at 768.9s,\testimator rf's best error=0.3219,\tbest estimator catboost's best error=0.2892\n",
      "[flaml.automl.logger: 11-01 15:25:24] {2258} INFO - iteration 229, current learner rf\n",
      "[flaml.automl.logger: 11-01 15:25:25] {2442} INFO -  at 769.7s,\testimator rf's best error=0.3219,\tbest estimator catboost's best error=0.2892\n",
      "[flaml.automl.logger: 11-01 15:25:25] {2258} INFO - iteration 230, current learner kneighbor\n",
      "[flaml.automl.logger: 11-01 15:25:26] {2442} INFO -  at 770.3s,\testimator kneighbor's best error=0.3289,\tbest estimator catboost's best error=0.2892\n",
      "[flaml.automl.logger: 11-01 15:25:26] {2258} INFO - iteration 231, current learner xgboost\n",
      "[flaml.automl.logger: 11-01 15:25:30] {2442} INFO -  at 774.2s,\testimator xgboost's best error=0.2925,\tbest estimator catboost's best error=0.2892\n",
      "[flaml.automl.logger: 11-01 15:25:30] {2258} INFO - iteration 232, current learner kneighbor\n",
      "[flaml.automl.logger: 11-01 15:25:30] {2442} INFO -  at 774.8s,\testimator kneighbor's best error=0.3289,\tbest estimator catboost's best error=0.2892\n",
      "[flaml.automl.logger: 11-01 15:25:30] {2258} INFO - iteration 233, current learner lrl2\n",
      "[flaml.automl.logger: 11-01 15:25:32] {2442} INFO -  at 776.4s,\testimator lrl2's best error=0.3199,\tbest estimator catboost's best error=0.2892\n",
      "[flaml.automl.logger: 11-01 15:25:32] {2258} INFO - iteration 234, current learner kneighbor\n",
      "[flaml.automl.logger: 11-01 15:25:32] {2442} INFO -  at 777.0s,\testimator kneighbor's best error=0.3289,\tbest estimator catboost's best error=0.2892\n",
      "[flaml.automl.logger: 11-01 15:25:32] {2258} INFO - iteration 235, current learner kneighbor\n",
      "[flaml.automl.logger: 11-01 15:25:33] {2442} INFO -  at 777.6s,\testimator kneighbor's best error=0.3289,\tbest estimator catboost's best error=0.2892\n",
      "[flaml.automl.logger: 11-01 15:25:33] {2258} INFO - iteration 236, current learner kneighbor\n",
      "[flaml.automl.logger: 11-01 15:25:34] {2442} INFO -  at 778.2s,\testimator kneighbor's best error=0.3289,\tbest estimator catboost's best error=0.2892\n",
      "[flaml.automl.logger: 11-01 15:25:34] {2258} INFO - iteration 237, current learner histgb\n",
      "[flaml.automl.logger: 11-01 15:25:42] {2442} INFO -  at 786.6s,\testimator histgb's best error=0.2898,\tbest estimator catboost's best error=0.2892\n",
      "[flaml.automl.logger: 11-01 15:25:42] {2258} INFO - iteration 238, current learner histgb\n",
      "[flaml.automl.logger: 11-01 15:25:58] {2442} INFO -  at 802.6s,\testimator histgb's best error=0.2898,\tbest estimator catboost's best error=0.2892\n",
      "[flaml.automl.logger: 11-01 15:25:58] {2258} INFO - iteration 239, current learner kneighbor\n",
      "[flaml.automl.logger: 11-01 15:25:59] {2442} INFO -  at 803.2s,\testimator kneighbor's best error=0.3289,\tbest estimator catboost's best error=0.2892\n",
      "[flaml.automl.logger: 11-01 15:25:59] {2258} INFO - iteration 240, current learner rf\n",
      "[flaml.automl.logger: 11-01 15:25:59] {2442} INFO -  at 803.9s,\testimator rf's best error=0.3219,\tbest estimator catboost's best error=0.2892\n",
      "[flaml.automl.logger: 11-01 15:25:59] {2258} INFO - iteration 241, current learner histgb\n",
      "[flaml.automl.logger: 11-01 15:26:02] {2442} INFO -  at 806.8s,\testimator histgb's best error=0.2898,\tbest estimator catboost's best error=0.2892\n",
      "[flaml.automl.logger: 11-01 15:26:02] {2258} INFO - iteration 242, current learner lrl2\n",
      "[flaml.automl.logger: 11-01 15:26:04] {2442} INFO -  at 808.2s,\testimator lrl2's best error=0.3199,\tbest estimator catboost's best error=0.2892\n",
      "[flaml.automl.logger: 11-01 15:26:04] {2258} INFO - iteration 243, current learner catboost\n",
      "[flaml.automl.logger: 11-01 15:26:23] {2442} INFO -  at 828.0s,\testimator catboost's best error=0.2892,\tbest estimator catboost's best error=0.2892\n",
      "[flaml.automl.logger: 11-01 15:26:23] {2258} INFO - iteration 244, current learner lrl2\n",
      "[flaml.automl.logger: 11-01 15:26:25] {2442} INFO -  at 829.4s,\testimator lrl2's best error=0.3199,\tbest estimator catboost's best error=0.2892\n",
      "[flaml.automl.logger: 11-01 15:26:25] {2258} INFO - iteration 245, current learner xgboost\n",
      "[flaml.automl.logger: 11-01 15:26:26] {2442} INFO -  at 831.0s,\testimator xgboost's best error=0.2925,\tbest estimator catboost's best error=0.2892\n",
      "[flaml.automl.logger: 11-01 15:26:26] {2258} INFO - iteration 246, current learner kneighbor\n",
      "[flaml.automl.logger: 11-01 15:26:27] {2442} INFO -  at 831.7s,\testimator kneighbor's best error=0.3289,\tbest estimator catboost's best error=0.2892\n",
      "[flaml.automl.logger: 11-01 15:26:27] {2258} INFO - iteration 247, current learner rf\n",
      "[flaml.automl.logger: 11-01 15:26:28] {2442} INFO -  at 832.4s,\testimator rf's best error=0.3213,\tbest estimator catboost's best error=0.2892\n",
      "[flaml.automl.logger: 11-01 15:26:28] {2258} INFO - iteration 248, current learner kneighbor\n",
      "[flaml.automl.logger: 11-01 15:26:28] {2442} INFO -  at 832.9s,\testimator kneighbor's best error=0.3289,\tbest estimator catboost's best error=0.2892\n",
      "[flaml.automl.logger: 11-01 15:26:28] {2258} INFO - iteration 249, current learner lrl2\n",
      "[flaml.automl.logger: 11-01 15:26:30] {2442} INFO -  at 834.2s,\testimator lrl2's best error=0.3199,\tbest estimator catboost's best error=0.2892\n",
      "[flaml.automl.logger: 11-01 15:26:30] {2258} INFO - iteration 250, current learner rf\n",
      "[flaml.automl.logger: 11-01 15:26:30] {2442} INFO -  at 834.9s,\testimator rf's best error=0.3213,\tbest estimator catboost's best error=0.2892\n",
      "[flaml.automl.logger: 11-01 15:26:30] {2258} INFO - iteration 251, current learner kneighbor\n",
      "[flaml.automl.logger: 11-01 15:26:31] {2442} INFO -  at 835.5s,\testimator kneighbor's best error=0.3289,\tbest estimator catboost's best error=0.2892\n",
      "[flaml.automl.logger: 11-01 15:26:31] {2258} INFO - iteration 252, current learner lrl2\n",
      "[flaml.automl.logger: 11-01 15:26:32] {2442} INFO -  at 836.9s,\testimator lrl2's best error=0.3199,\tbest estimator catboost's best error=0.2892\n",
      "[flaml.automl.logger: 11-01 15:26:32] {2258} INFO - iteration 253, current learner lgbm\n",
      "[flaml.automl.logger: 11-01 15:26:34] {2442} INFO -  at 838.3s,\testimator lgbm's best error=0.2997,\tbest estimator catboost's best error=0.2892\n",
      "[flaml.automl.logger: 11-01 15:26:34] {2258} INFO - iteration 254, current learner xgboost\n",
      "[flaml.automl.logger: 11-01 15:27:08] {2442} INFO -  at 872.9s,\testimator xgboost's best error=0.2924,\tbest estimator catboost's best error=0.2892\n",
      "[flaml.automl.logger: 11-01 15:27:08] {2258} INFO - iteration 255, current learner kneighbor\n",
      "[flaml.automl.logger: 11-01 15:27:09] {2442} INFO -  at 873.6s,\testimator kneighbor's best error=0.3289,\tbest estimator catboost's best error=0.2892\n",
      "[flaml.automl.logger: 11-01 15:27:09] {2258} INFO - iteration 256, current learner kneighbor\n",
      "[flaml.automl.logger: 11-01 15:27:10] {2442} INFO -  at 874.3s,\testimator kneighbor's best error=0.3289,\tbest estimator catboost's best error=0.2892\n",
      "[flaml.automl.logger: 11-01 15:27:10] {2258} INFO - iteration 257, current learner catboost\n",
      "[flaml.automl.logger: 11-01 15:28:24] {2442} INFO -  at 948.7s,\testimator catboost's best error=0.2892,\tbest estimator catboost's best error=0.2892\n",
      "[flaml.automl.logger: 11-01 15:28:24] {2258} INFO - iteration 258, current learner kneighbor\n",
      "[flaml.automl.logger: 11-01 15:28:25] {2442} INFO -  at 949.4s,\testimator kneighbor's best error=0.3289,\tbest estimator catboost's best error=0.2892\n",
      "[flaml.automl.logger: 11-01 15:28:25] {2258} INFO - iteration 259, current learner rf\n",
      "[flaml.automl.logger: 11-01 15:28:26] {2442} INFO -  at 950.3s,\testimator rf's best error=0.3213,\tbest estimator catboost's best error=0.2892\n",
      "[flaml.automl.logger: 11-01 15:28:26] {2258} INFO - iteration 260, current learner kneighbor\n",
      "[flaml.automl.logger: 11-01 15:28:26] {2442} INFO -  at 951.1s,\testimator kneighbor's best error=0.3289,\tbest estimator catboost's best error=0.2892\n",
      "[flaml.automl.logger: 11-01 15:28:26] {2258} INFO - iteration 261, current learner lrl2\n",
      "[flaml.automl.logger: 11-01 15:28:28] {2442} INFO -  at 952.8s,\testimator lrl2's best error=0.3199,\tbest estimator catboost's best error=0.2892\n",
      "[flaml.automl.logger: 11-01 15:28:28] {2258} INFO - iteration 262, current learner kneighbor\n",
      "[flaml.automl.logger: 11-01 15:28:29] {2442} INFO -  at 953.4s,\testimator kneighbor's best error=0.3289,\tbest estimator catboost's best error=0.2892\n",
      "[flaml.automl.logger: 11-01 15:28:29] {2258} INFO - iteration 263, current learner histgb\n",
      "[flaml.automl.logger: 11-01 15:28:43] {2442} INFO -  at 968.1s,\testimator histgb's best error=0.2883,\tbest estimator histgb's best error=0.2883\n",
      "[flaml.automl.logger: 11-01 15:28:43] {2258} INFO - iteration 264, current learner lrl2\n",
      "[flaml.automl.logger: 11-01 15:28:45] {2442} INFO -  at 969.3s,\testimator lrl2's best error=0.3199,\tbest estimator histgb's best error=0.2883\n",
      "[flaml.automl.logger: 11-01 15:28:45] {2258} INFO - iteration 265, current learner rf\n",
      "[flaml.automl.logger: 11-01 15:28:45] {2442} INFO -  at 969.9s,\testimator rf's best error=0.3213,\tbest estimator histgb's best error=0.2883\n",
      "[flaml.automl.logger: 11-01 15:28:45] {2258} INFO - iteration 266, current learner lrl2\n",
      "[flaml.automl.logger: 11-01 15:28:47] {2442} INFO -  at 971.3s,\testimator lrl2's best error=0.3199,\tbest estimator histgb's best error=0.2883\n",
      "[flaml.automl.logger: 11-01 15:28:47] {2258} INFO - iteration 267, current learner kneighbor\n",
      "[flaml.automl.logger: 11-01 15:28:47] {2442} INFO -  at 971.9s,\testimator kneighbor's best error=0.3289,\tbest estimator histgb's best error=0.2883\n",
      "[flaml.automl.logger: 11-01 15:28:47] {2258} INFO - iteration 268, current learner kneighbor\n",
      "[flaml.automl.logger: 11-01 15:28:48] {2442} INFO -  at 972.5s,\testimator kneighbor's best error=0.3289,\tbest estimator histgb's best error=0.2883\n",
      "[flaml.automl.logger: 11-01 15:28:48] {2258} INFO - iteration 269, current learner kneighbor\n",
      "[flaml.automl.logger: 11-01 15:28:49] {2442} INFO -  at 973.2s,\testimator kneighbor's best error=0.3289,\tbest estimator histgb's best error=0.2883\n",
      "[flaml.automl.logger: 11-01 15:28:49] {2258} INFO - iteration 270, current learner lrl2\n",
      "[flaml.automl.logger: 11-01 15:28:50] {2442} INFO -  at 974.4s,\testimator lrl2's best error=0.3199,\tbest estimator histgb's best error=0.2883\n",
      "[flaml.automl.logger: 11-01 15:28:50] {2258} INFO - iteration 271, current learner kneighbor\n",
      "[flaml.automl.logger: 11-01 15:28:50] {2442} INFO -  at 975.0s,\testimator kneighbor's best error=0.3289,\tbest estimator histgb's best error=0.2883\n",
      "[flaml.automl.logger: 11-01 15:28:50] {2258} INFO - iteration 272, current learner rf\n",
      "[flaml.automl.logger: 11-01 15:28:51] {2442} INFO -  at 975.9s,\testimator rf's best error=0.3213,\tbest estimator histgb's best error=0.2883\n",
      "[flaml.automl.logger: 11-01 15:28:51] {2258} INFO - iteration 273, current learner lrl2\n",
      "[flaml.automl.logger: 11-01 15:28:53] {2442} INFO -  at 977.3s,\testimator lrl2's best error=0.3199,\tbest estimator histgb's best error=0.2883\n",
      "[flaml.automl.logger: 11-01 15:28:53] {2258} INFO - iteration 274, current learner xgboost\n",
      "[flaml.automl.logger: 11-01 15:29:18] {2442} INFO -  at 1002.3s,\testimator xgboost's best error=0.2924,\tbest estimator histgb's best error=0.2883\n",
      "[flaml.automl.logger: 11-01 15:29:18] {2258} INFO - iteration 275, current learner rf\n",
      "[flaml.automl.logger: 11-01 15:29:18] {2442} INFO -  at 1003.1s,\testimator rf's best error=0.3213,\tbest estimator histgb's best error=0.2883\n",
      "[flaml.automl.logger: 11-01 15:29:18] {2258} INFO - iteration 276, current learner rf\n",
      "[flaml.automl.logger: 11-01 15:29:19] {2442} INFO -  at 1003.8s,\testimator rf's best error=0.3208,\tbest estimator histgb's best error=0.2883\n",
      "[flaml.automl.logger: 11-01 15:29:19] {2258} INFO - iteration 277, current learner rf\n",
      "[flaml.automl.logger: 11-01 15:29:20] {2442} INFO -  at 1004.9s,\testimator rf's best error=0.3208,\tbest estimator histgb's best error=0.2883\n",
      "[flaml.automl.logger: 11-01 15:29:20] {2258} INFO - iteration 278, current learner rf\n",
      "[flaml.automl.logger: 11-01 15:29:21] {2442} INFO -  at 1005.5s,\testimator rf's best error=0.3208,\tbest estimator histgb's best error=0.2883\n",
      "[flaml.automl.logger: 11-01 15:29:21] {2258} INFO - iteration 279, current learner rf\n",
      "[flaml.automl.logger: 11-01 15:29:21] {2442} INFO -  at 1006.1s,\testimator rf's best error=0.3208,\tbest estimator histgb's best error=0.2883\n",
      "[flaml.automl.logger: 11-01 15:29:21] {2258} INFO - iteration 280, current learner rf\n",
      "[flaml.automl.logger: 11-01 15:29:22] {2442} INFO -  at 1006.9s,\testimator rf's best error=0.3208,\tbest estimator histgb's best error=0.2883\n",
      "[flaml.automl.logger: 11-01 15:29:22] {2258} INFO - iteration 281, current learner kneighbor\n",
      "[flaml.automl.logger: 11-01 15:29:23] {2442} INFO -  at 1007.5s,\testimator kneighbor's best error=0.3289,\tbest estimator histgb's best error=0.2883\n",
      "[flaml.automl.logger: 11-01 15:29:23] {2258} INFO - iteration 282, current learner rf\n",
      "[flaml.automl.logger: 11-01 15:29:23] {2442} INFO -  at 1008.1s,\testimator rf's best error=0.3208,\tbest estimator histgb's best error=0.2883\n",
      "[flaml.automl.logger: 11-01 15:29:23] {2258} INFO - iteration 283, current learner rf\n",
      "[flaml.automl.logger: 11-01 15:29:24] {2442} INFO -  at 1008.9s,\testimator rf's best error=0.3208,\tbest estimator histgb's best error=0.2883\n",
      "[flaml.automl.logger: 11-01 15:29:24] {2258} INFO - iteration 284, current learner rf\n",
      "[flaml.automl.logger: 11-01 15:29:25] {2442} INFO -  at 1009.5s,\testimator rf's best error=0.3208,\tbest estimator histgb's best error=0.2883\n",
      "[flaml.automl.logger: 11-01 15:29:25] {2258} INFO - iteration 285, current learner rf\n",
      "[flaml.automl.logger: 11-01 15:29:26] {2442} INFO -  at 1010.2s,\testimator rf's best error=0.3208,\tbest estimator histgb's best error=0.2883\n",
      "[flaml.automl.logger: 11-01 15:29:26] {2258} INFO - iteration 286, current learner lrl2\n",
      "[flaml.automl.logger: 11-01 15:29:27] {2442} INFO -  at 1011.5s,\testimator lrl2's best error=0.3199,\tbest estimator histgb's best error=0.2883\n",
      "[flaml.automl.logger: 11-01 15:29:27] {2258} INFO - iteration 287, current learner kneighbor\n",
      "[flaml.automl.logger: 11-01 15:29:27] {2442} INFO -  at 1012.1s,\testimator kneighbor's best error=0.3289,\tbest estimator histgb's best error=0.2883\n",
      "[flaml.automl.logger: 11-01 15:29:27] {2258} INFO - iteration 288, current learner kneighbor\n",
      "[flaml.automl.logger: 11-01 15:29:28] {2442} INFO -  at 1012.7s,\testimator kneighbor's best error=0.3289,\tbest estimator histgb's best error=0.2883\n",
      "[flaml.automl.logger: 11-01 15:29:28] {2258} INFO - iteration 289, current learner rf\n",
      "[flaml.automl.logger: 11-01 15:29:29] {2442} INFO -  at 1013.6s,\testimator rf's best error=0.3208,\tbest estimator histgb's best error=0.2883\n",
      "[flaml.automl.logger: 11-01 15:29:29] {2258} INFO - iteration 290, current learner rf\n",
      "[flaml.automl.logger: 11-01 15:29:30] {2442} INFO -  at 1014.2s,\testimator rf's best error=0.3208,\tbest estimator histgb's best error=0.2883\n",
      "[flaml.automl.logger: 11-01 15:29:30] {2258} INFO - iteration 291, current learner rf\n",
      "[flaml.automl.logger: 11-01 15:29:30] {2442} INFO -  at 1014.9s,\testimator rf's best error=0.3208,\tbest estimator histgb's best error=0.2883\n",
      "[flaml.automl.logger: 11-01 15:29:30] {2258} INFO - iteration 292, current learner kneighbor\n",
      "[flaml.automl.logger: 11-01 15:29:31] {2442} INFO -  at 1015.5s,\testimator kneighbor's best error=0.3289,\tbest estimator histgb's best error=0.2883\n",
      "[flaml.automl.logger: 11-01 15:29:31] {2258} INFO - iteration 293, current learner rf\n",
      "[flaml.automl.logger: 11-01 15:29:32] {2442} INFO -  at 1016.2s,\testimator rf's best error=0.3208,\tbest estimator histgb's best error=0.2883\n",
      "[flaml.automl.logger: 11-01 15:29:32] {2258} INFO - iteration 294, current learner lrl2\n",
      "[flaml.automl.logger: 11-01 15:29:33] {2442} INFO -  at 1017.4s,\testimator lrl2's best error=0.3199,\tbest estimator histgb's best error=0.2883\n",
      "[flaml.automl.logger: 11-01 15:29:33] {2258} INFO - iteration 295, current learner rf\n",
      "[flaml.automl.logger: 11-01 15:29:33] {2442} INFO -  at 1018.0s,\testimator rf's best error=0.3208,\tbest estimator histgb's best error=0.2883\n",
      "[flaml.automl.logger: 11-01 15:29:33] {2258} INFO - iteration 296, current learner histgb\n",
      "[flaml.automl.logger: 11-01 15:29:43] {2442} INFO -  at 1027.6s,\testimator histgb's best error=0.2883,\tbest estimator histgb's best error=0.2883\n",
      "[flaml.automl.logger: 11-01 15:29:43] {2258} INFO - iteration 297, current learner rf\n",
      "[flaml.automl.logger: 11-01 15:29:44] {2442} INFO -  at 1028.4s,\testimator rf's best error=0.3208,\tbest estimator histgb's best error=0.2883\n",
      "[flaml.automl.logger: 11-01 15:29:44] {2258} INFO - iteration 298, current learner lrl2\n",
      "[flaml.automl.logger: 11-01 15:29:45] {2442} INFO -  at 1029.9s,\testimator lrl2's best error=0.3199,\tbest estimator histgb's best error=0.2883\n",
      "[flaml.automl.logger: 11-01 15:29:45] {2258} INFO - iteration 299, current learner rf\n",
      "[flaml.automl.logger: 11-01 15:29:46] {2442} INFO -  at 1030.7s,\testimator rf's best error=0.3208,\tbest estimator histgb's best error=0.2883\n",
      "[flaml.automl.logger: 11-01 15:29:46] {2258} INFO - iteration 300, current learner rf\n",
      "[flaml.automl.logger: 11-01 15:29:47] {2442} INFO -  at 1031.3s,\testimator rf's best error=0.3208,\tbest estimator histgb's best error=0.2883\n",
      "[flaml.automl.logger: 11-01 15:29:47] {2258} INFO - iteration 301, current learner rf\n",
      "[flaml.automl.logger: 11-01 15:29:47] {2442} INFO -  at 1032.1s,\testimator rf's best error=0.3208,\tbest estimator histgb's best error=0.2883\n",
      "[flaml.automl.logger: 11-01 15:29:47] {2258} INFO - iteration 302, current learner lgbm\n",
      "[flaml.automl.logger: 11-01 15:29:48] {2442} INFO -  at 1032.9s,\testimator lgbm's best error=0.2997,\tbest estimator histgb's best error=0.2883\n",
      "[flaml.automl.logger: 11-01 15:29:48] {2258} INFO - iteration 303, current learner rf\n",
      "[flaml.automl.logger: 11-01 15:29:49] {2442} INFO -  at 1033.6s,\testimator rf's best error=0.3208,\tbest estimator histgb's best error=0.2883\n",
      "[flaml.automl.logger: 11-01 15:29:49] {2258} INFO - iteration 304, current learner lgbm\n",
      "[flaml.automl.logger: 11-01 15:29:50] {2442} INFO -  at 1034.5s,\testimator lgbm's best error=0.2997,\tbest estimator histgb's best error=0.2883\n",
      "[flaml.automl.logger: 11-01 15:29:50] {2258} INFO - iteration 305, current learner kneighbor\n",
      "[flaml.automl.logger: 11-01 15:29:51] {2442} INFO -  at 1035.2s,\testimator kneighbor's best error=0.3289,\tbest estimator histgb's best error=0.2883\n",
      "[flaml.automl.logger: 11-01 15:29:51] {2258} INFO - iteration 306, current learner rf\n",
      "[flaml.automl.logger: 11-01 15:29:51] {2442} INFO -  at 1035.8s,\testimator rf's best error=0.3208,\tbest estimator histgb's best error=0.2883\n",
      "[flaml.automl.logger: 11-01 15:29:51] {2258} INFO - iteration 307, current learner kneighbor\n",
      "[flaml.automl.logger: 11-01 15:29:52] {2442} INFO -  at 1036.4s,\testimator kneighbor's best error=0.3289,\tbest estimator histgb's best error=0.2883\n",
      "[flaml.automl.logger: 11-01 15:29:52] {2258} INFO - iteration 308, current learner kneighbor\n",
      "[flaml.automl.logger: 11-01 15:29:52] {2442} INFO -  at 1037.0s,\testimator kneighbor's best error=0.3289,\tbest estimator histgb's best error=0.2883\n",
      "[flaml.automl.logger: 11-01 15:29:52] {2258} INFO - iteration 309, current learner histgb\n",
      "[flaml.automl.logger: 11-01 15:30:15] {2442} INFO -  at 1059.8s,\testimator histgb's best error=0.2883,\tbest estimator histgb's best error=0.2883\n",
      "[flaml.automl.logger: 11-01 15:30:15] {2258} INFO - iteration 310, current learner xgboost\n",
      "[flaml.automl.logger: 11-01 15:30:50] {2442} INFO -  at 1095.1s,\testimator xgboost's best error=0.2924,\tbest estimator histgb's best error=0.2883\n",
      "[flaml.automl.logger: 11-01 15:30:50] {2258} INFO - iteration 311, current learner rf\n",
      "[flaml.automl.logger: 11-01 15:30:51] {2442} INFO -  at 1095.8s,\testimator rf's best error=0.3208,\tbest estimator histgb's best error=0.2883\n",
      "[flaml.automl.logger: 11-01 15:30:51] {2258} INFO - iteration 312, current learner rf\n",
      "[flaml.automl.logger: 11-01 15:30:52] {2442} INFO -  at 1096.7s,\testimator rf's best error=0.3208,\tbest estimator histgb's best error=0.2883\n",
      "[flaml.automl.logger: 11-01 15:30:52] {2258} INFO - iteration 313, current learner rf\n",
      "[flaml.automl.logger: 11-01 15:30:53] {2442} INFO -  at 1097.2s,\testimator rf's best error=0.3208,\tbest estimator histgb's best error=0.2883\n",
      "[flaml.automl.logger: 11-01 15:30:53] {2258} INFO - iteration 314, current learner rf\n",
      "[flaml.automl.logger: 11-01 15:30:53] {2442} INFO -  at 1098.0s,\testimator rf's best error=0.3208,\tbest estimator histgb's best error=0.2883\n",
      "[flaml.automl.logger: 11-01 15:30:53] {2258} INFO - iteration 315, current learner xgboost\n",
      "[flaml.automl.logger: 11-01 15:32:19] {2442} INFO -  at 1183.4s,\testimator xgboost's best error=0.2924,\tbest estimator histgb's best error=0.2883\n",
      "[flaml.automl.logger: 11-01 15:32:19] {2258} INFO - iteration 316, current learner rf\n",
      "[flaml.automl.logger: 11-01 15:32:19] {2442} INFO -  at 1183.9s,\testimator rf's best error=0.3208,\tbest estimator histgb's best error=0.2883\n",
      "[flaml.automl.logger: 11-01 15:32:19] {2258} INFO - iteration 317, current learner kneighbor\n",
      "[flaml.automl.logger: 11-01 15:32:20] {2442} INFO -  at 1184.5s,\testimator kneighbor's best error=0.3289,\tbest estimator histgb's best error=0.2883\n",
      "[flaml.automl.logger: 11-01 15:32:20] {2258} INFO - iteration 318, current learner kneighbor\n",
      "[flaml.automl.logger: 11-01 15:32:20] {2442} INFO -  at 1185.0s,\testimator kneighbor's best error=0.3289,\tbest estimator histgb's best error=0.2883\n",
      "[flaml.automl.logger: 11-01 15:32:20] {2258} INFO - iteration 319, current learner rf\n",
      "[flaml.automl.logger: 11-01 15:32:21] {2442} INFO -  at 1185.6s,\testimator rf's best error=0.3208,\tbest estimator histgb's best error=0.2883\n",
      "[flaml.automl.logger: 11-01 15:32:21] {2258} INFO - iteration 320, current learner lgbm\n",
      "[flaml.automl.logger: 11-01 15:32:22] {2442} INFO -  at 1186.8s,\testimator lgbm's best error=0.2997,\tbest estimator histgb's best error=0.2883\n",
      "[flaml.automl.logger: 11-01 15:32:22] {2258} INFO - iteration 321, current learner rf\n",
      "[flaml.automl.logger: 11-01 15:32:23] {2442} INFO -  at 1187.4s,\testimator rf's best error=0.3208,\tbest estimator histgb's best error=0.2883\n",
      "[flaml.automl.logger: 11-01 15:32:23] {2258} INFO - iteration 322, current learner rf\n",
      "[flaml.automl.logger: 11-01 15:32:23] {2442} INFO -  at 1188.1s,\testimator rf's best error=0.3136,\tbest estimator histgb's best error=0.2883\n",
      "[flaml.automl.logger: 11-01 15:32:23] {2258} INFO - iteration 323, current learner lrl2\n",
      "[flaml.automl.logger: 11-01 15:32:25] {2442} INFO -  at 1189.3s,\testimator lrl2's best error=0.3199,\tbest estimator histgb's best error=0.2883\n",
      "[flaml.automl.logger: 11-01 15:32:25] {2258} INFO - iteration 324, current learner rf\n",
      "[flaml.automl.logger: 11-01 15:32:25] {2442} INFO -  at 1189.8s,\testimator rf's best error=0.3136,\tbest estimator histgb's best error=0.2883\n",
      "[flaml.automl.logger: 11-01 15:32:25] {2258} INFO - iteration 325, current learner rf\n",
      "[flaml.automl.logger: 11-01 15:32:26] {2442} INFO -  at 1190.6s,\testimator rf's best error=0.3136,\tbest estimator histgb's best error=0.2883\n",
      "[flaml.automl.logger: 11-01 15:32:26] {2258} INFO - iteration 326, current learner kneighbor\n",
      "[flaml.automl.logger: 11-01 15:32:26] {2442} INFO -  at 1191.1s,\testimator kneighbor's best error=0.3289,\tbest estimator histgb's best error=0.2883\n",
      "[flaml.automl.logger: 11-01 15:32:26] {2258} INFO - iteration 327, current learner rf\n",
      "[flaml.automl.logger: 11-01 15:32:27] {2442} INFO -  at 1191.8s,\testimator rf's best error=0.3136,\tbest estimator histgb's best error=0.2883\n",
      "[flaml.automl.logger: 11-01 15:32:27] {2258} INFO - iteration 328, current learner histgb\n",
      "[flaml.automl.logger: 11-01 15:32:35] {2442} INFO -  at 1200.1s,\testimator histgb's best error=0.2883,\tbest estimator histgb's best error=0.2883\n",
      "[flaml.automl.logger: 11-01 15:32:35] {2258} INFO - iteration 329, current learner rf\n",
      "[flaml.automl.logger: 11-01 15:32:36] {2442} INFO -  at 1200.7s,\testimator rf's best error=0.3136,\tbest estimator histgb's best error=0.2883\n",
      "[flaml.automl.logger: 11-01 15:32:36] {2258} INFO - iteration 330, current learner lgbm\n",
      "[flaml.automl.logger: 11-01 15:32:37] {2442} INFO -  at 1201.8s,\testimator lgbm's best error=0.2992,\tbest estimator histgb's best error=0.2883\n",
      "[flaml.automl.logger: 11-01 15:32:37] {2258} INFO - iteration 331, current learner rf\n",
      "[flaml.automl.logger: 11-01 15:32:38] {2442} INFO -  at 1202.5s,\testimator rf's best error=0.3136,\tbest estimator histgb's best error=0.2883\n",
      "[flaml.automl.logger: 11-01 15:32:38] {2258} INFO - iteration 332, current learner rf\n",
      "[flaml.automl.logger: 11-01 15:32:39] {2442} INFO -  at 1203.3s,\testimator rf's best error=0.3136,\tbest estimator histgb's best error=0.2883\n",
      "[flaml.automl.logger: 11-01 15:32:39] {2258} INFO - iteration 333, current learner lgbm\n",
      "[flaml.automl.logger: 11-01 15:32:40] {2442} INFO -  at 1204.2s,\testimator lgbm's best error=0.2992,\tbest estimator histgb's best error=0.2883\n",
      "[flaml.automl.logger: 11-01 15:32:40] {2258} INFO - iteration 334, current learner histgb\n",
      "[flaml.automl.logger: 11-01 15:32:50] {2442} INFO -  at 1215.0s,\testimator histgb's best error=0.2883,\tbest estimator histgb's best error=0.2883\n",
      "[flaml.automl.logger: 11-01 15:32:50] {2258} INFO - iteration 335, current learner xgboost\n",
      "[flaml.automl.logger: 11-01 15:32:59] {2442} INFO -  at 1223.5s,\testimator xgboost's best error=0.2899,\tbest estimator histgb's best error=0.2883\n",
      "[flaml.automl.logger: 11-01 15:32:59] {2258} INFO - iteration 336, current learner lrl2\n",
      "[flaml.automl.logger: 11-01 15:33:00] {2442} INFO -  at 1224.5s,\testimator lrl2's best error=0.3199,\tbest estimator histgb's best error=0.2883\n",
      "[flaml.automl.logger: 11-01 15:33:00] {2258} INFO - iteration 337, current learner lgbm\n",
      "[flaml.automl.logger: 11-01 15:33:04] {2442} INFO -  at 1228.1s,\testimator lgbm's best error=0.2971,\tbest estimator histgb's best error=0.2883\n",
      "[flaml.automl.logger: 11-01 15:33:04] {2258} INFO - iteration 338, current learner rf\n",
      "[flaml.automl.logger: 11-01 15:33:04] {2442} INFO -  at 1228.7s,\testimator rf's best error=0.3136,\tbest estimator histgb's best error=0.2883\n",
      "[flaml.automl.logger: 11-01 15:33:04] {2258} INFO - iteration 339, current learner lgbm\n",
      "[flaml.automl.logger: 11-01 15:33:10] {2442} INFO -  at 1234.7s,\testimator lgbm's best error=0.2971,\tbest estimator histgb's best error=0.2883\n",
      "[flaml.automl.logger: 11-01 15:33:10] {2258} INFO - iteration 340, current learner lgbm\n",
      "[flaml.automl.logger: 11-01 15:33:12] {2442} INFO -  at 1237.1s,\testimator lgbm's best error=0.2968,\tbest estimator histgb's best error=0.2883\n",
      "[flaml.automl.logger: 11-01 15:33:12] {2258} INFO - iteration 341, current learner histgb\n",
      "[flaml.automl.logger: 11-01 15:33:28] {2442} INFO -  at 1252.2s,\testimator histgb's best error=0.2883,\tbest estimator histgb's best error=0.2883\n",
      "[flaml.automl.logger: 11-01 15:33:28] {2258} INFO - iteration 342, current learner lgbm\n",
      "[flaml.automl.logger: 11-01 15:33:35] {2442} INFO -  at 1259.5s,\testimator lgbm's best error=0.2892,\tbest estimator histgb's best error=0.2883\n",
      "[flaml.automl.logger: 11-01 15:33:35] {2258} INFO - iteration 343, current learner lgbm\n",
      "[flaml.automl.logger: 11-01 15:33:38] {2442} INFO -  at 1262.3s,\testimator lgbm's best error=0.2892,\tbest estimator histgb's best error=0.2883\n",
      "[flaml.automl.logger: 11-01 15:33:38] {2258} INFO - iteration 344, current learner kneighbor\n",
      "[flaml.automl.logger: 11-01 15:33:39] {2442} INFO -  at 1263.2s,\testimator kneighbor's best error=0.3289,\tbest estimator histgb's best error=0.2883\n",
      "[flaml.automl.logger: 11-01 15:33:39] {2258} INFO - iteration 345, current learner lrl2\n",
      "[flaml.automl.logger: 11-01 15:33:40] {2442} INFO -  at 1265.0s,\testimator lrl2's best error=0.3199,\tbest estimator histgb's best error=0.2883\n",
      "[flaml.automl.logger: 11-01 15:33:40] {2258} INFO - iteration 346, current learner rf\n",
      "[flaml.automl.logger: 11-01 15:33:41] {2442} INFO -  at 1265.6s,\testimator rf's best error=0.3136,\tbest estimator histgb's best error=0.2883\n",
      "[flaml.automl.logger: 11-01 15:33:41] {2258} INFO - iteration 347, current learner lrl2\n",
      "[flaml.automl.logger: 11-01 15:33:42] {2442} INFO -  at 1266.7s,\testimator lrl2's best error=0.3199,\tbest estimator histgb's best error=0.2883\n",
      "[flaml.automl.logger: 11-01 15:33:42] {2258} INFO - iteration 348, current learner kneighbor\n",
      "[flaml.automl.logger: 11-01 15:33:43] {2442} INFO -  at 1267.2s,\testimator kneighbor's best error=0.3289,\tbest estimator histgb's best error=0.2883\n",
      "[flaml.automl.logger: 11-01 15:33:43] {2258} INFO - iteration 349, current learner lrl2\n",
      "[flaml.automl.logger: 11-01 15:33:44] {2442} INFO -  at 1268.3s,\testimator lrl2's best error=0.3199,\tbest estimator histgb's best error=0.2883\n",
      "[flaml.automl.logger: 11-01 15:33:44] {2258} INFO - iteration 350, current learner lrl2\n",
      "[flaml.automl.logger: 11-01 15:33:45] {2442} INFO -  at 1269.3s,\testimator lrl2's best error=0.3199,\tbest estimator histgb's best error=0.2883\n",
      "[flaml.automl.logger: 11-01 15:33:45] {2258} INFO - iteration 351, current learner lgbm\n",
      "[flaml.automl.logger: 11-01 15:34:08] {2442} INFO -  at 1292.6s,\testimator lgbm's best error=0.2847,\tbest estimator lgbm's best error=0.2847\n",
      "[flaml.automl.logger: 11-01 15:34:08] {2258} INFO - iteration 352, current learner histgb\n",
      "[flaml.automl.logger: 11-01 15:34:18] {2442} INFO -  at 1302.7s,\testimator histgb's best error=0.2883,\tbest estimator lgbm's best error=0.2847\n",
      "[flaml.automl.logger: 11-01 15:34:18] {2258} INFO - iteration 353, current learner lrl2\n",
      "[flaml.automl.logger: 11-01 15:34:19] {2442} INFO -  at 1303.8s,\testimator lrl2's best error=0.3199,\tbest estimator lgbm's best error=0.2847\n",
      "[flaml.automl.logger: 11-01 15:34:19] {2258} INFO - iteration 354, current learner xgboost\n",
      "[flaml.automl.logger: 11-01 15:34:26] {2442} INFO -  at 1310.6s,\testimator xgboost's best error=0.2899,\tbest estimator lgbm's best error=0.2847\n",
      "[flaml.automl.logger: 11-01 15:34:26] {2258} INFO - iteration 355, current learner kneighbor\n",
      "[flaml.automl.logger: 11-01 15:34:26] {2442} INFO -  at 1311.1s,\testimator kneighbor's best error=0.3289,\tbest estimator lgbm's best error=0.2847\n",
      "[flaml.automl.logger: 11-01 15:34:26] {2258} INFO - iteration 356, current learner lgbm\n",
      "[flaml.automl.logger: 11-01 15:34:33] {2442} INFO -  at 1317.9s,\testimator lgbm's best error=0.2847,\tbest estimator lgbm's best error=0.2847\n",
      "[flaml.automl.logger: 11-01 15:34:33] {2258} INFO - iteration 357, current learner lrl2\n",
      "[flaml.automl.logger: 11-01 15:34:34] {2442} INFO -  at 1319.0s,\testimator lrl2's best error=0.3199,\tbest estimator lgbm's best error=0.2847\n",
      "[flaml.automl.logger: 11-01 15:34:34] {2258} INFO - iteration 358, current learner lrl2\n",
      "[flaml.automl.logger: 11-01 15:34:35] {2442} INFO -  at 1320.0s,\testimator lrl2's best error=0.3199,\tbest estimator lgbm's best error=0.2847\n",
      "[flaml.automl.logger: 11-01 15:34:35] {2258} INFO - iteration 359, current learner rf\n",
      "[flaml.automl.logger: 11-01 15:34:36] {2442} INFO -  at 1320.7s,\testimator rf's best error=0.3136,\tbest estimator lgbm's best error=0.2847\n",
      "[flaml.automl.logger: 11-01 15:34:36] {2258} INFO - iteration 360, current learner rf\n",
      "[flaml.automl.logger: 11-01 15:34:37] {2442} INFO -  at 1321.6s,\testimator rf's best error=0.3136,\tbest estimator lgbm's best error=0.2847\n",
      "[flaml.automl.logger: 11-01 15:34:37] {2258} INFO - iteration 361, current learner xgboost\n",
      "[flaml.automl.logger: 11-01 15:34:52] {2442} INFO -  at 1336.2s,\testimator xgboost's best error=0.2849,\tbest estimator lgbm's best error=0.2847\n",
      "[flaml.automl.logger: 11-01 15:34:52] {2258} INFO - iteration 362, current learner rf\n",
      "[flaml.automl.logger: 11-01 15:34:52] {2442} INFO -  at 1336.7s,\testimator rf's best error=0.3136,\tbest estimator lgbm's best error=0.2847\n",
      "[flaml.automl.logger: 11-01 15:34:52] {2258} INFO - iteration 363, current learner lrl2\n",
      "[flaml.automl.logger: 11-01 15:34:53] {2442} INFO -  at 1337.8s,\testimator lrl2's best error=0.3199,\tbest estimator lgbm's best error=0.2847\n",
      "[flaml.automl.logger: 11-01 15:34:53] {2258} INFO - iteration 364, current learner rf\n",
      "[flaml.automl.logger: 11-01 15:34:54] {2442} INFO -  at 1338.3s,\testimator rf's best error=0.3136,\tbest estimator lgbm's best error=0.2847\n",
      "[flaml.automl.logger: 11-01 15:34:54] {2258} INFO - iteration 365, current learner lrl2\n",
      "[flaml.automl.logger: 11-01 15:34:55] {2442} INFO -  at 1339.4s,\testimator lrl2's best error=0.3199,\tbest estimator lgbm's best error=0.2847\n",
      "[flaml.automl.logger: 11-01 15:34:55] {2258} INFO - iteration 366, current learner kneighbor\n",
      "[flaml.automl.logger: 11-01 15:34:55] {2442} INFO -  at 1339.9s,\testimator kneighbor's best error=0.3289,\tbest estimator lgbm's best error=0.2847\n",
      "[flaml.automl.logger: 11-01 15:34:55] {2258} INFO - iteration 367, current learner rf\n",
      "[flaml.automl.logger: 11-01 15:34:56] {2442} INFO -  at 1340.7s,\testimator rf's best error=0.3136,\tbest estimator lgbm's best error=0.2847\n",
      "[flaml.automl.logger: 11-01 15:34:56] {2258} INFO - iteration 368, current learner lgbm\n",
      "[flaml.automl.logger: 11-01 15:37:08] {2442} INFO -  at 1472.9s,\testimator lgbm's best error=0.2847,\tbest estimator lgbm's best error=0.2847\n",
      "[flaml.automl.logger: 11-01 15:37:08] {2258} INFO - iteration 369, current learner kneighbor\n",
      "[flaml.automl.logger: 11-01 15:37:09] {2442} INFO -  at 1473.4s,\testimator kneighbor's best error=0.3289,\tbest estimator lgbm's best error=0.2847\n",
      "[flaml.automl.logger: 11-01 15:37:09] {2258} INFO - iteration 370, current learner xgboost\n",
      "[flaml.automl.logger: 11-01 15:37:41] {2442} INFO -  at 1505.5s,\testimator xgboost's best error=0.2849,\tbest estimator lgbm's best error=0.2847\n",
      "[flaml.automl.logger: 11-01 15:37:41] {2258} INFO - iteration 371, current learner kneighbor\n",
      "[flaml.automl.logger: 11-01 15:37:41] {2442} INFO -  at 1506.1s,\testimator kneighbor's best error=0.3289,\tbest estimator lgbm's best error=0.2847\n",
      "[flaml.automl.logger: 11-01 15:37:41] {2258} INFO - iteration 372, current learner histgb\n",
      "[flaml.automl.logger: 11-01 15:37:52] {2442} INFO -  at 1517.0s,\testimator histgb's best error=0.2883,\tbest estimator lgbm's best error=0.2847\n",
      "[flaml.automl.logger: 11-01 15:37:52] {2258} INFO - iteration 373, current learner kneighbor\n",
      "[flaml.automl.logger: 11-01 15:37:53] {2442} INFO -  at 1517.5s,\testimator kneighbor's best error=0.3289,\tbest estimator lgbm's best error=0.2847\n",
      "[flaml.automl.logger: 11-01 15:37:53] {2258} INFO - iteration 374, current learner xgboost\n",
      "[flaml.automl.logger: 11-01 15:37:59] {2442} INFO -  at 1523.4s,\testimator xgboost's best error=0.2849,\tbest estimator lgbm's best error=0.2847\n",
      "[flaml.automl.logger: 11-01 15:37:59] {2258} INFO - iteration 375, current learner xgboost\n",
      "[flaml.automl.logger: 11-01 15:38:25] {2442} INFO -  at 1549.3s,\testimator xgboost's best error=0.2849,\tbest estimator lgbm's best error=0.2847\n",
      "[flaml.automl.logger: 11-01 15:38:25] {2258} INFO - iteration 376, current learner rf\n",
      "[flaml.automl.logger: 11-01 15:38:26] {2442} INFO -  at 1550.2s,\testimator rf's best error=0.3136,\tbest estimator lgbm's best error=0.2847\n",
      "[flaml.automl.logger: 11-01 15:38:26] {2258} INFO - iteration 377, current learner rf\n",
      "[flaml.automl.logger: 11-01 15:38:26] {2442} INFO -  at 1550.8s,\testimator rf's best error=0.3136,\tbest estimator lgbm's best error=0.2847\n",
      "[flaml.automl.logger: 11-01 15:38:26] {2258} INFO - iteration 378, current learner lgbm\n",
      "[flaml.automl.logger: 11-01 15:38:31] {2442} INFO -  at 1555.3s,\testimator lgbm's best error=0.2847,\tbest estimator lgbm's best error=0.2847\n",
      "[flaml.automl.logger: 11-01 15:38:31] {2258} INFO - iteration 379, current learner rf\n",
      "[flaml.automl.logger: 11-01 15:38:32] {2442} INFO -  at 1556.2s,\testimator rf's best error=0.3136,\tbest estimator lgbm's best error=0.2847\n",
      "[flaml.automl.logger: 11-01 15:38:32] {2258} INFO - iteration 380, current learner lrl2\n",
      "[flaml.automl.logger: 11-01 15:38:33] {2442} INFO -  at 1557.2s,\testimator lrl2's best error=0.3199,\tbest estimator lgbm's best error=0.2847\n",
      "[flaml.automl.logger: 11-01 15:38:33] {2258} INFO - iteration 381, current learner lgbm\n",
      "[flaml.automl.logger: 11-01 15:39:09] {2442} INFO -  at 1593.3s,\testimator lgbm's best error=0.2847,\tbest estimator lgbm's best error=0.2847\n",
      "[flaml.automl.logger: 11-01 15:39:09] {2258} INFO - iteration 382, current learner rf\n",
      "[flaml.automl.logger: 11-01 15:39:09] {2442} INFO -  at 1593.8s,\testimator rf's best error=0.3136,\tbest estimator lgbm's best error=0.2847\n",
      "[flaml.automl.logger: 11-01 15:39:09] {2258} INFO - iteration 383, current learner kneighbor\n",
      "[flaml.automl.logger: 11-01 15:39:10] {2442} INFO -  at 1594.4s,\testimator kneighbor's best error=0.3289,\tbest estimator lgbm's best error=0.2847\n",
      "[flaml.automl.logger: 11-01 15:39:10] {2258} INFO - iteration 384, current learner lrl2\n",
      "[flaml.automl.logger: 11-01 15:39:11] {2442} INFO -  at 1595.4s,\testimator lrl2's best error=0.3199,\tbest estimator lgbm's best error=0.2847\n",
      "[flaml.automl.logger: 11-01 15:39:11] {2258} INFO - iteration 385, current learner lrl2\n",
      "[flaml.automl.logger: 11-01 15:39:12] {2442} INFO -  at 1596.4s,\testimator lrl2's best error=0.3199,\tbest estimator lgbm's best error=0.2847\n",
      "[flaml.automl.logger: 11-01 15:39:12] {2258} INFO - iteration 386, current learner rf\n",
      "[flaml.automl.logger: 11-01 15:39:12] {2442} INFO -  at 1597.1s,\testimator rf's best error=0.3136,\tbest estimator lgbm's best error=0.2847\n",
      "[flaml.automl.logger: 11-01 15:39:12] {2258} INFO - iteration 387, current learner rf\n",
      "[flaml.automl.logger: 11-01 15:39:13] {2442} INFO -  at 1597.7s,\testimator rf's best error=0.3136,\tbest estimator lgbm's best error=0.2847\n",
      "[flaml.automl.logger: 11-01 15:39:13] {2258} INFO - iteration 388, current learner xgboost\n",
      "[flaml.automl.logger: 11-01 15:39:26] {2442} INFO -  at 1610.2s,\testimator xgboost's best error=0.2849,\tbest estimator lgbm's best error=0.2847\n",
      "[flaml.automl.logger: 11-01 15:39:26] {2258} INFO - iteration 389, current learner kneighbor\n",
      "[flaml.automl.logger: 11-01 15:39:26] {2442} INFO -  at 1610.7s,\testimator kneighbor's best error=0.3289,\tbest estimator lgbm's best error=0.2847\n",
      "[flaml.automl.logger: 11-01 15:39:26] {2258} INFO - iteration 390, current learner rf\n",
      "[flaml.automl.logger: 11-01 15:39:27] {2442} INFO -  at 1611.3s,\testimator rf's best error=0.3136,\tbest estimator lgbm's best error=0.2847\n",
      "[flaml.automl.logger: 11-01 15:39:27] {2258} INFO - iteration 391, current learner rf\n",
      "[flaml.automl.logger: 11-01 15:39:27] {2442} INFO -  at 1612.1s,\testimator rf's best error=0.3136,\tbest estimator lgbm's best error=0.2847\n",
      "[flaml.automl.logger: 11-01 15:39:27] {2258} INFO - iteration 392, current learner rf\n",
      "[flaml.automl.logger: 11-01 15:39:28] {2442} INFO -  at 1612.7s,\testimator rf's best error=0.3136,\tbest estimator lgbm's best error=0.2847\n",
      "[flaml.automl.logger: 11-01 15:39:28] {2258} INFO - iteration 393, current learner lrl2\n",
      "[flaml.automl.logger: 11-01 15:39:29] {2442} INFO -  at 1613.7s,\testimator lrl2's best error=0.3199,\tbest estimator lgbm's best error=0.2847\n",
      "[flaml.automl.logger: 11-01 15:39:29] {2258} INFO - iteration 394, current learner rf\n",
      "[flaml.automl.logger: 11-01 15:39:30] {2442} INFO -  at 1614.5s,\testimator rf's best error=0.3136,\tbest estimator lgbm's best error=0.2847\n",
      "[flaml.automl.logger: 11-01 15:39:30] {2258} INFO - iteration 395, current learner lgbm\n",
      "[flaml.automl.logger: 11-01 15:39:48] {2442} INFO -  at 1632.9s,\testimator lgbm's best error=0.2847,\tbest estimator lgbm's best error=0.2847\n",
      "[flaml.automl.logger: 11-01 15:39:48] {2258} INFO - iteration 396, current learner xgboost\n",
      "[flaml.automl.logger: 11-01 15:40:33] {2442} INFO -  at 1677.3s,\testimator xgboost's best error=0.2843,\tbest estimator xgboost's best error=0.2843\n",
      "[flaml.automl.logger: 11-01 15:40:33] {2258} INFO - iteration 397, current learner rf\n",
      "[flaml.automl.logger: 11-01 15:40:33] {2442} INFO -  at 1678.0s,\testimator rf's best error=0.3136,\tbest estimator xgboost's best error=0.2843\n",
      "[flaml.automl.logger: 11-01 15:40:33] {2258} INFO - iteration 398, current learner kneighbor\n",
      "[flaml.automl.logger: 11-01 15:40:34] {2442} INFO -  at 1678.5s,\testimator kneighbor's best error=0.3289,\tbest estimator xgboost's best error=0.2843\n",
      "[flaml.automl.logger: 11-01 15:40:34] {2258} INFO - iteration 399, current learner rf\n",
      "[flaml.automl.logger: 11-01 15:40:35] {2442} INFO -  at 1679.2s,\testimator rf's best error=0.3136,\tbest estimator xgboost's best error=0.2843\n",
      "[flaml.automl.logger: 11-01 15:40:35] {2258} INFO - iteration 400, current learner lgbm\n",
      "[flaml.automl.logger: 11-01 15:40:46] {2442} INFO -  at 1691.0s,\testimator lgbm's best error=0.2833,\tbest estimator lgbm's best error=0.2833\n",
      "[flaml.automl.logger: 11-01 15:40:46] {2258} INFO - iteration 401, current learner histgb\n",
      "[flaml.automl.logger: 11-01 15:40:55] {2442} INFO -  at 1699.9s,\testimator histgb's best error=0.2883,\tbest estimator lgbm's best error=0.2833\n",
      "[flaml.automl.logger: 11-01 15:40:55] {2258} INFO - iteration 402, current learner kneighbor\n",
      "[flaml.automl.logger: 11-01 15:40:56] {2442} INFO -  at 1700.5s,\testimator kneighbor's best error=0.3289,\tbest estimator lgbm's best error=0.2833\n",
      "[flaml.automl.logger: 11-01 15:40:56] {2258} INFO - iteration 403, current learner rf\n",
      "[flaml.automl.logger: 11-01 15:40:57] {2442} INFO -  at 1701.4s,\testimator rf's best error=0.3136,\tbest estimator lgbm's best error=0.2833\n",
      "[flaml.automl.logger: 11-01 15:40:57] {2258} INFO - iteration 404, current learner lrl2\n",
      "[flaml.automl.logger: 11-01 15:40:58] {2442} INFO -  at 1702.6s,\testimator lrl2's best error=0.3199,\tbest estimator lgbm's best error=0.2833\n",
      "[flaml.automl.logger: 11-01 15:40:58] {2258} INFO - iteration 405, current learner xgboost\n",
      "[flaml.automl.logger: 11-01 15:41:12] {2442} INFO -  at 1716.4s,\testimator xgboost's best error=0.2843,\tbest estimator lgbm's best error=0.2833\n",
      "[flaml.automl.logger: 11-01 15:41:12] {2258} INFO - iteration 406, current learner xgboost\n",
      "[flaml.automl.logger: 11-01 15:42:14] {2442} INFO -  at 1778.9s,\testimator xgboost's best error=0.2843,\tbest estimator lgbm's best error=0.2833\n",
      "[flaml.automl.logger: 11-01 15:42:14] {2258} INFO - iteration 407, current learner kneighbor\n",
      "[flaml.automl.logger: 11-01 15:42:15] {2442} INFO -  at 1779.5s,\testimator kneighbor's best error=0.3289,\tbest estimator lgbm's best error=0.2833\n",
      "[flaml.automl.logger: 11-01 15:42:15] {2258} INFO - iteration 408, current learner kneighbor\n",
      "[flaml.automl.logger: 11-01 15:42:16] {2442} INFO -  at 1780.2s,\testimator kneighbor's best error=0.3289,\tbest estimator lgbm's best error=0.2833\n",
      "[flaml.automl.logger: 11-01 15:42:16] {2258} INFO - iteration 409, current learner lgbm\n",
      "[flaml.automl.logger: 11-01 15:42:35] {2442} INFO -  at 1799.7s,\testimator lgbm's best error=0.2833,\tbest estimator lgbm's best error=0.2833\n",
      "[flaml.automl.logger: 11-01 15:42:35] {2258} INFO - iteration 410, current learner lrl1\n",
      "[flaml.automl.logger: 11-01 15:42:46] {2442} INFO -  at 1810.2s,\testimator lrl1's best error=0.3166,\tbest estimator lgbm's best error=0.2833\n",
      "[flaml.automl.logger: 11-01 15:42:46] {2582} INFO - [('lgbm', {'n_jobs': -1, 'n_estimators': 641, 'num_leaves': 52, 'min_child_samples': 60, 'learning_rate': 0.08350019481802917, 'colsample_bytree': 0.523902021372859, 'reg_alpha': 0.003879268307439593, 'reg_lambda': 13.56421805464992, 'max_bin': 127, 'verbose': -1}), ('xgboost', {'n_jobs': -1, 'n_estimators': 758, 'max_leaves': 107, 'min_child_weight': 2.2206085292076256, 'learning_rate': 0.12595065417767334, 'subsample': 0.8083537341936735, 'colsample_bylevel': 1.0, 'colsample_bytree': 1.0, 'reg_alpha': 0.03754641900749213, 'reg_lambda': 0.31806119886668055, 'max_depth': 0, 'grow_policy': 'lossguide', 'tree_method': 'hist', 'verbosity': 0}), ('histgb', {'min_samples_leaf': 33, 'learning_rate': 0.0268154613759914, 'l2_regularization': 0.4581040695803812, 'max_iter': 1255, 'max_bins': 31, 'max_leaf_nodes': 72, 'random_state': 24092023, 'verbose': 0}), ('catboost', {'early_stopping_rounds': 44, 'learning_rate': 0.0132330029406545, 'n_estimators': 1757, 'thread_count': -1, 'verbose': False, 'random_seed': 10242048}), ('rf', {'n_jobs': -1, 'n_estimators': 13, 'max_features': 0.06329918097074878, 'criterion': 'gini', 'max_leaf_nodes': 159, 'random_state': 12032022, 'verbose': 0}), ('lrl1', {'n_jobs': -1, 'C': 1.0, 'tol': 0.0001, 'solver': 'saga', 'penalty': 'l1'}), ('lrl2', {'n_jobs': -1, 'C': 0.03125, 'tol': 0.0001, 'solver': 'lbfgs', 'penalty': 'l2'}), ('kneighbor', {'n_jobs': -1, 'n_neighbors': 116, 'weights': 'distance'})]\n",
      "[flaml.automl.logger: 11-01 15:42:46] {2625} INFO - Building ensemble with tuned estimators\n",
      "[flaml.automl.logger: 11-01 15:55:44] {2631} INFO - ensemble: StackingClassifier(estimators=[('lgbm',\n",
      "                                <flaml.automl.model.LGBMEstimator object at 0x0000026F2AD41DB0>),\n",
      "                               ('xgboost',\n",
      "                                <flaml.automl.model.XGBoostSklearnEstimator object at 0x0000026F2AD427A0>),\n",
      "                               ('histgb',\n",
      "                                <flaml.automl.contrib.histgb.HistGradientBoostingEstimator object at 0x0000026F2AD43910>),\n",
      "                               ('catboost',\n",
      "                                <flaml.automl.model.CatBoostEstimator object at 0x0000026F2A...\n",
      "                                                   interaction_constraints=None,\n",
      "                                                   max_bin=None,\n",
      "                                                   max_cat_threshold=None,\n",
      "                                                   max_cat_to_onehot=None,\n",
      "                                                   max_delta_step=None,\n",
      "                                                   max_depth=None,\n",
      "                                                   max_leaves=None,\n",
      "                                                   min_child_weight=None,\n",
      "                                                   missing=nan,\n",
      "                                                   monotone_constraints=None,\n",
      "                                                   multi_strategy=None,\n",
      "                                                   n_estimators=None,\n",
      "                                                   n_jobs=None,\n",
      "                                                   num_parallel_tree=None,\n",
      "                                                   objective='binary:logistic',\n",
      "                                                   random_state=None,\n",
      "                                                   reg_alpha=None, ...),\n",
      "                   n_jobs=1, passthrough=True)\n",
      "[flaml.automl.logger: 11-01 15:55:44] {1985} INFO - fit succeeded\n",
      "[flaml.automl.logger: 11-01 15:55:44] {1986} INFO - Time taken to find the best model: 1690.9708333015442\n",
      "[flaml.automl.logger: 11-01 15:55:44] {1996} WARNING - Time taken to find the best model is 94% of the provided time budget and not all estimators' hyperparameter search converged. Consider increasing the time budget.\n"
     ]
    }
   ],
   "source": [
    "from flaml import AutoML\n",
    "import xgboost \n",
    "from xgboost import XGBRFClassifier\n",
    "\n",
    "auto_ml_ens = AutoML()\n",
    "params = { \"metric\" : \"macro_f1\",\n",
    "           \"task\" : \"classification\",\n",
    "           \"time_budget\" : 60*30,\n",
    "           \"seed\" : 42,\n",
    "           \"early_stop\" : True,\n",
    "           \"ensemble\" : {'final_estimator' : XGBRFClassifier() },    # 메타모델이 로지스틱 회귀!\n",
    "           \"estimator_list\" : ['catboost', 'lgbm', 'rf', 'xgboost', 'histgb', 'lrl1', 'lrl2', 'kneighbor']  }   # 앙상블에 사용할 모델 지정\n",
    "auto_ml_ens.fit(train_ft, target, **params)"
   ]
  },
  {
   "cell_type": "code",
   "execution_count": 172,
   "metadata": {},
   "outputs": [
    {
     "data": {
      "text/plain": [
       "0.36098159509202454"
      ]
     },
     "execution_count": 172,
     "metadata": {},
     "output_type": "execute_result"
    }
   ],
   "source": [
    "pred = auto_ml_ens.predict(test_ft)\n",
    "pred.mean()"
   ]
  },
  {
   "cell_type": "code",
   "execution_count": 173,
   "metadata": {},
   "outputs": [],
   "source": [
    "submit[\"target\"] = pred\n",
    "\n",
    "submit.to_csv(\"6조_v2.0_1101.csv\",index=False)"
   ]
  },
  {
   "cell_type": "code",
   "execution_count": null,
   "metadata": {},
   "outputs": [],
   "source": []
  }
 ],
 "metadata": {
  "colab": {
   "provenance": [],
   "toc_visible": true
  },
  "kernelspec": {
   "display_name": "Python 3",
   "name": "python3"
  },
  "language_info": {
   "codemirror_mode": {
    "name": "ipython",
    "version": 3
   },
   "file_extension": ".py",
   "mimetype": "text/x-python",
   "name": "python",
   "nbconvert_exporter": "python",
   "pygments_lexer": "ipython3",
   "version": "3.10.11"
  }
 },
 "nbformat": 4,
 "nbformat_minor": 0
}
